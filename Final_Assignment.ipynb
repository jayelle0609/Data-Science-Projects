{
 "cells": [
  {
   "cell_type": "markdown",
   "metadata": {},
   "source": [
    "### Day 1 Assignment \n",
    "\n"
   ]
  },
  {
   "cell_type": "code",
   "execution_count": null,
   "metadata": {
    "editable": true,
    "slideshow": {
     "slide_type": ""
    },
    "tags": []
   },
   "outputs": [],
   "source": [
    "### DAY 1 FINAL PROJECT ###\n",
    "\n",
    "\"\"\"\n",
    "Task: Analyze Singapore household expenditure patterns using both expenditure (cei_df) \n",
    "and member (mem_df) datasets.\n",
    "\n",
    "Dataset Description:\n",
    "- cei_df: Household expenditure data with spending categories\n",
    "- mem_df: Household member characteristics including demographics and income\n",
    "\n",
    "Your tasks are divided into three main sections:\n",
    "\n",
    "1. Data Loading & Merging \n",
    "   - Load both datasets\n",
    "   - Merge them appropriately using HREF_NO: use inner merge\n",
    "   - Document the number of rows before and after merging\n",
    "   - Check if there are nulls in any of the columns you are using below\n",
    "   - Check if there are duplicates \n",
    "\n",
    "2. Data Exploration \n",
    "   - Calculate average monthly expenditure by household size\n",
    "   - Compare expenditure patterns across different housing types\n",
    "   - Find the ratio of total expenditure to household income - create a new column \n",
    "\n",
    "2.5 Household Efficiency Analysis:\n",
    "   - Calculate expenditure per household member (using HSZ)\n",
    "   - Create an \"efficiency score\" that considers both total expenditure and household size. Example: ratio of expenditure to income\n",
    "   - Identify households the most efficient within each marital status (top 1 for each)\n",
    "   \n",
    "3. Visualization \n",
    "   Create ONE of the following visualizations:\n",
    "\n",
    "   - Histogram distribution of monthly household expenditure by housing type\n",
    "   - Scatter plot of income vs expenditure, colored by marital status type\n",
    "   - Bar chart of your \"efficiency score\" (average) by household size\n",
    "\n",
    "Hints:\n",
    "- For merging, use inner merge \n",
    "- Remember to handle missing values appropriately\n",
    "- For visualization, consider using both matplotlib/seaborn and altair\n",
    "- Use appropriate scales for monetary values (thousands/millions)\n",
    "\"\"\"\n",
    "\n",
    "\n",
    "\n",
    "##### How to check for nulls in a row:\n",
    "# columns_to_check = ['TOT_DIST_MTHLY_HH_EXP_H122', 'HSE_TYPE', 'MARITAL_ST', 'HSZ', 'HH_TINC_RCPF_GTRF_E_NAV']\n",
    "# nulls_in_merged = merged_df[columns_to_check].isnull().sum()\n",
    "\n",
    "\n",
    "### Scalling example \n",
    "# merged_df['expenditure_thousands'] = merged_df['TOT_DIST_MTHLY_HH_EXP_H122'] / 1000\n",
    "\n",
    "\n"
   ]
  },
  {
   "cell_type": "code",
   "execution_count": null,
   "metadata": {},
   "outputs": [],
   "source": [
    "# 1"
   ]
  },
  {
   "cell_type": "code",
   "execution_count": null,
   "metadata": {},
   "outputs": [],
   "source": [
    "# 2"
   ]
  },
  {
   "cell_type": "code",
   "execution_count": null,
   "metadata": {},
   "outputs": [],
   "source": [
    "# 2.5"
   ]
  },
  {
   "cell_type": "code",
   "execution_count": null,
   "metadata": {},
   "outputs": [],
   "source": [
    "# 3"
   ]
  },
  {
   "cell_type": "code",
   "execution_count": null,
   "metadata": {},
   "outputs": [],
   "source": []
  }
 ],
 "metadata": {
  "kernelspec": {
   "display_name": "data_analysis (Python 3.x)",
   "language": "python",
   "name": "data_analysis"
  },
  "language_info": {
   "codemirror_mode": {
    "name": "ipython",
    "version": 3
   },
   "file_extension": ".py",
   "mimetype": "text/x-python",
   "name": "python",
   "nbconvert_exporter": "python",
   "pygments_lexer": "ipython3",
   "version": "3.9.6"
  }
 },
 "nbformat": 4,
 "nbformat_minor": 4
}
