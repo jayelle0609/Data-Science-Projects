{
 "cells": [
  {
   "cell_type": "markdown",
   "id": "44fba470",
   "metadata": {},
   "source": [
    "# Exercise 2 - Functions"
   ]
  },
  {
   "cell_type": "code",
   "execution_count": 5,
   "id": "b9d9de77",
   "metadata": {},
   "outputs": [],
   "source": [
    "import pandas as pd\n",
    "\n",
    "hes = pd.read_csv('../data/merged_HES.csv')"
   ]
  },
  {
   "cell_type": "markdown",
   "id": "fba5d3d2",
   "metadata": {},
   "source": [
    "\n",
    "## Part A: \n",
    "Create a file myutils.py alongside your notebook and define:"
   ]
  },
  {
   "cell_type": "code",
   "execution_count": 2,
   "id": "da641664",
   "metadata": {},
   "outputs": [],
   "source": [
    "##### DO NOT RUN THIS CELL! ##### \n",
    "\n",
    "# myutils.py\n",
    "\n",
    "import pandas as pd\n",
    "from typing import Dict\n",
    "\n",
    "def summary_stats(series):\n",
    "    \"\"\"\n",
    "    Given a pandas Series of numbers, return a dict containing\n",
    "    count, sum, mean, min and max.\n",
    "    \"\"\"\n",
    "    return {\n",
    "        'count': series.count(),\n",
    "        'mean': series.mean(),\n",
    "        'median': series.median(),\n",
    "        'std': series.std()\n",
    "    }\n",
    "\n",
    "\n"
   ]
  },
  {
   "cell_type": "markdown",
   "id": "95b94241",
   "metadata": {},
   "source": [
    "### Q1:\n",
    "\n",
    "Import your new module in the notebook"
   ]
  },
  {
   "cell_type": "code",
   "execution_count": null,
   "id": "124ee828",
   "metadata": {},
   "outputs": [],
   "source": []
  },
  {
   "cell_type": "markdown",
   "id": "7fc5b32a",
   "metadata": {},
   "source": [
    "### Q2: \n",
    "\n",
    "Apply summary_stats to the per‑capita household income column: PC_HH_TINC_GTRF_E_NAV.\n",
    "\n"
   ]
  },
  {
   "cell_type": "code",
   "execution_count": null,
   "id": "52ba28b0",
   "metadata": {},
   "outputs": [],
   "source": [
    "\n",
    "\n"
   ]
  },
  {
   "cell_type": "markdown",
   "id": "bab0c6cc",
   "metadata": {},
   "source": [
    "## Part B: Income Banding Function\n",
    "\n",
    "In myutils.py, add a function to assign income bands in a new column:\n"
   ]
  },
  {
   "cell_type": "code",
   "execution_count": null,
   "id": "384525fc",
   "metadata": {},
   "outputs": [],
   "source": [
    "def assign_income_band(series):\n",
    "    \"\"\"\n",
    "    Assign per-capita household income into predefined bands:\n",
    "    - 'Lower'       for income in the bottom 25%\n",
    "    - 'Medium'      for income between 25th percentile and 50th percentile\n",
    "    - 'High'        for income between 50th percentile and 75th percentile\n",
    "    - 'Higher'      for income in the top 25 %\n",
    "    Return a Series of band labels.\n",
    "    \"\"\"\n",
    "    # === 1. Compute the three quartile thresholds ===\n",
    "    q1 = series.quantile(0.25)     # 25th percentile\n",
    "    q2 = series.quantile(0.50)     # 50th percentile (median)\n",
    "    q3 = series.quantile(0.75)     # 75th percentile\n",
    "\n",
    "    # === 2. Prepare an empty label container ===\n",
    "    bands = pd.Series(index=series.index, dtype=\"object\")\n",
    "\n",
    "    # === 3. Assignment of each band ===\n",
    "    bands[series < q1] = \"Lower\"\n",
    "    bands[(series > q1) & (series < q2)] = \"Medium\"\n",
    "\n",
    "    return\n",
    "    \n"
   ]
  },
  {
   "cell_type": "markdown",
   "id": "a1b1ffae",
   "metadata": {},
   "source": [
    "### Q1: Import and apply the new function"
   ]
  },
  {
   "cell_type": "code",
   "execution_count": 10,
   "id": "63868a9d",
   "metadata": {},
   "outputs": [],
   "source": [
    "hes['income_band'] = assign_income_band(hes['PC_HH_TINC_GTRF_E_NAV'])"
   ]
  },
  {
   "cell_type": "code",
   "execution_count": null,
   "id": "7e027754",
   "metadata": {},
   "outputs": [],
   "source": []
  },
  {
   "cell_type": "markdown",
   "id": "0c6a0d3d",
   "metadata": {},
   "source": [
    "### Q2: Simple pipeline \n",
    "\n",
    "Group by income_band and compute summary stats on expenditure in one function:\n"
   ]
  },
  {
   "cell_type": "code",
   "execution_count": null,
   "id": "3345048a",
   "metadata": {},
   "outputs": [],
   "source": [
    "def pipeline_income"
   ]
  },
  {
   "cell_type": "code",
   "execution_count": null,
   "id": "682a7e68",
   "metadata": {},
   "outputs": [],
   "source": []
  },
  {
   "cell_type": "markdown",
   "id": "751d55dc-e7f3-40ed-a01f-22a89f1a13d1",
   "metadata": {},
   "source": [
    "## Part C: Percent‑Change Function \n",
    "\n",
    "In myutils.py, write a function to calculate the % change between groups:\n"
   ]
  },
  {
   "cell_type": "code",
   "execution_count": null,
   "id": "c76a88bb",
   "metadata": {},
   "outputs": [],
   "source": [
    "# In myutils.py\n",
    "\n",
    "def pct_change_between_groups(df, group_col, value_col, grp1, grp2):\n",
    "    \"\"\"\n",
    "    Compute percent change in average of `value_col` between two groups:\n",
    "      percent_change = 100 * (mean_group2 - mean_group1) / mean_group1\n",
    "\n",
    "    HINTS:\n",
    "      1. Use boolean indexing to filter rows by group.\n",
    "      2. Call .mean() on the filtered Series to get each group's average.\n",
    "      3. Apply the percent change formula: (new - old) / old * 100.\n",
    "    \"\"\"\n",
    "    # 1. Calculate mean for grp1 (“old” value)\n",
    "    mean1 = df[df[group_col] == grp1][value_col].mean()\n",
    "    \n",
    "    # 2. Calculate mean for grp2 (“new” value)\n",
    "    \n",
    "    \n",
    "    # 3. Compute percent change and return\n",
    "    \n"
   ]
  },
  {
   "cell_type": "markdown",
   "id": "a8756cab",
   "metadata": {},
   "source": [
    "Use this to compare mean income between two qualification levels:"
   ]
  },
  {
   "cell_type": "code",
   "execution_count": null,
   "id": "31a3965c",
   "metadata": {},
   "outputs": [],
   "source": [
    "# Compute percent change from group 5 to 7\n",
    "change = pct_change_between_groups(\n",
    "    hes, 'HQA', 'PC_HH_TINC_GTRF_E_NAV', 5, 7\n",
    ")\n",
    "\n",
    "print(f\"\\n% change in mean income (HQA 5 → HQA 7): {change:.1f}%\")"
   ]
  },
  {
   "cell_type": "code",
   "execution_count": null,
   "id": "a23c9b5d",
   "metadata": {},
   "outputs": [],
   "source": [
    "# HQA coding\n",
    "print(\"HQA categories and counts:\")\n",
    "print(hes['HQA'].value_counts(dropna=False))"
   ]
  }
 ],
 "metadata": {
  "kernelspec": {
   "display_name": "Python 3 (ipykernel)",
   "language": "python",
   "name": "python3"
  },
  "language_info": {
   "codemirror_mode": {
    "name": "ipython",
    "version": 3
   },
   "file_extension": ".py",
   "mimetype": "text/x-python",
   "name": "python",
   "nbconvert_exporter": "python",
   "pygments_lexer": "ipython3",
   "version": "3.12.2"
  }
 },
 "nbformat": 4,
 "nbformat_minor": 5
}
