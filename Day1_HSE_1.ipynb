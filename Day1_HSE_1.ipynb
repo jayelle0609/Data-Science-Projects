{
 "cells": [
  {
   "cell_type": "markdown",
   "metadata": {
    "editable": true,
    "id": "EIh8vbvrTarn",
    "slideshow": {
     "slide_type": ""
    },
    "tags": []
   },
   "source": [
    "## Day 1: Python Fundamentals"
   ]
  },
  {
   "cell_type": "markdown",
   "metadata": {},
   "source": [
    "### Introduction\n"
   ]
  },
  {
   "cell_type": "code",
   "execution_count": 498,
   "metadata": {
    "id": "CrG1_KoqTarp",
    "outputId": "8e72a40d-f0e6-48d9-d209-796fbbcfde6d"
   },
   "outputs": [
    {
     "data": {
      "text/plain": [
       "8"
      ]
     },
     "execution_count": 498,
     "metadata": {},
     "output_type": "execute_result"
    }
   ],
   "source": [
    "5 + 3"
   ]
  },
  {
   "cell_type": "code",
   "execution_count": 499,
   "metadata": {},
   "outputs": [
    {
     "data": {
      "text/plain": [
       "'Hello, Jia!'"
      ]
     },
     "execution_count": 499,
     "metadata": {},
     "output_type": "execute_result"
    }
   ],
   "source": [
    "def greet(name): # Simple function to greet a person\n",
    "    return f\"Hello, {name}!\"\n",
    "\n",
    "greet('Jia') "
   ]
  },
  {
   "cell_type": "code",
   "execution_count": 500,
   "metadata": {
    "id": "d3sC9qk6Tarq",
    "outputId": "eab9858b-17ad-40bd-9af6-5afd7d63e3e9"
   },
   "outputs": [
    {
     "data": {
      "text/plain": [
       "2"
      ]
     },
     "execution_count": 500,
     "metadata": {},
     "output_type": "execute_result"
    }
   ],
   "source": [
    "5 - 3"
   ]
  },
  {
   "cell_type": "code",
   "execution_count": 501,
   "metadata": {
    "id": "1taNem7qTarq",
    "outputId": "4247d5bf-414e-4ff6-b2a4-a3666f60c3b2"
   },
   "outputs": [
    {
     "data": {
      "text/plain": [
       "1.6666666666666667"
      ]
     },
     "execution_count": 501,
     "metadata": {},
     "output_type": "execute_result"
    }
   ],
   "source": [
    "5 / 3"
   ]
  },
  {
   "cell_type": "code",
   "execution_count": 502,
   "metadata": {
    "id": "ZxLeeIeKTarq",
    "outputId": "95283cdc-5dff-4dc5-e5e3-5e026942f851"
   },
   "outputs": [
    {
     "data": {
      "text/plain": [
       "125"
      ]
     },
     "execution_count": 502,
     "metadata": {},
     "output_type": "execute_result"
    }
   ],
   "source": [
    "5 ** 3"
   ]
  },
  {
   "cell_type": "code",
   "execution_count": 503,
   "metadata": {},
   "outputs": [
    {
     "data": {
      "text/plain": [
       "1"
      ]
     },
     "execution_count": 503,
     "metadata": {},
     "output_type": "execute_result"
    }
   ],
   "source": [
    "5 % 2 "
   ]
  },
  {
   "cell_type": "code",
   "execution_count": 504,
   "metadata": {
    "id": "nzLMib70Tarq",
    "outputId": "ef4de3a7-d56e-4a22-b0bb-c848bbea5a94"
   },
   "outputs": [
    {
     "data": {
      "text/plain": [
       "35"
      ]
     },
     "execution_count": 504,
     "metadata": {},
     "output_type": "execute_result"
    }
   ],
   "source": [
    "5 * (10 - 3)"
   ]
  },
  {
   "cell_type": "code",
   "execution_count": 505,
   "metadata": {
    "colab": {
     "base_uri": "https://localhost:8080/"
    },
    "id": "BgW-xb4vTarq",
    "outputId": "69abcc08-922d-4acf-93b0-72d92720c237",
    "scrolled": true
   },
   "outputs": [
    {
     "data": {
      "text/plain": [
       "np.float64(2.0)"
      ]
     },
     "execution_count": 505,
     "metadata": {},
     "output_type": "execute_result"
    }
   ],
   "source": [
    "from numpy import sqrt\n",
    "\n",
    "sqrt(4)  # Returns 2.0"
   ]
  },
  {
   "cell_type": "code",
   "execution_count": 506,
   "metadata": {},
   "outputs": [],
   "source": [
    "####### This is a comment \n",
    "\n",
    "x = 1 # This is a comment\n",
    "\n",
    "# Any text preceded by a hash is ignored by Python\n"
   ]
  },
  {
   "cell_type": "code",
   "execution_count": 507,
   "metadata": {},
   "outputs": [
    {
     "data": {
      "text/plain": [
       "True"
      ]
     },
     "execution_count": 507,
     "metadata": {},
     "output_type": "execute_result"
    }
   ],
   "source": [
    "True != False"
   ]
  },
  {
   "cell_type": "code",
   "execution_count": 508,
   "metadata": {},
   "outputs": [
    {
     "name": "stdout",
     "output_type": "stream",
     "text": [
      "Positive\n",
      "3.0\n"
     ]
    }
   ],
   "source": [
    "import numpy as np\n",
    "\n",
    "x = sqrt(9)\n",
    "\n",
    "\n",
    "# If statement\n",
    "if x > 0:\n",
    "    print(\"Positive\")\n",
    "\n",
    "\n",
    "print(x)\n",
    "\n"
   ]
  },
  {
   "cell_type": "code",
   "execution_count": 509,
   "metadata": {},
   "outputs": [
    {
     "data": {
      "text/plain": [
       "np.float64(3.0)"
      ]
     },
     "execution_count": 509,
     "metadata": {},
     "output_type": "execute_result"
    }
   ],
   "source": [
    "x"
   ]
  },
  {
   "cell_type": "markdown",
   "metadata": {
    "id": "-LWaj9QOTarr",
    "jp-MarkdownHeadingCollapsed": true
   },
   "source": [
    "### Modules and Packages"
   ]
  },
  {
   "cell_type": "code",
   "execution_count": 510,
   "metadata": {
    "colab": {
     "base_uri": "https://localhost:8080/"
    },
    "id": "fyHBWvQETarr",
    "outputId": "7c848fc5-f4d4-49bb-ca9f-74c681a0271c"
   },
   "outputs": [
    {
     "data": {
      "text/plain": [
       "np.float64(2.0)"
      ]
     },
     "execution_count": 510,
     "metadata": {},
     "output_type": "execute_result"
    }
   ],
   "source": [
    "# earlier, we imported the sqrt function from the NumPy package\n",
    "\n",
    "# we can import the whole package\n",
    "import numpy as np #this is a common importing standard \n",
    "\n",
    "# You can also use the dot notation to access functions\n",
    "np.sqrt(4)\n"
   ]
  },
  {
   "cell_type": "code",
   "execution_count": 511,
   "metadata": {},
   "outputs": [
    {
     "data": {
      "text/plain": [
       "np.float64(2.0)"
      ]
     },
     "execution_count": 511,
     "metadata": {},
     "output_type": "execute_result"
    }
   ],
   "source": [
    "from numpy import sqrt \n",
    "\n",
    "sqrt(4) \n",
    "\n",
    "#OR \n",
    "\n",
    "import numpy as np \n",
    "\n",
    "np.sqrt(4)"
   ]
  },
  {
   "cell_type": "code",
   "execution_count": 512,
   "metadata": {
    "id": "GifT_9qATarr",
    "outputId": "118c2cb5-2623-40c1-c90c-83b2db432e9e"
   },
   "outputs": [
    {
     "data": {
      "text/plain": [
       "np.float64(0.0)"
      ]
     },
     "execution_count": 512,
     "metadata": {},
     "output_type": "execute_result"
    }
   ],
   "source": [
    "np.log(1)"
   ]
  },
  {
   "cell_type": "markdown",
   "metadata": {
    "editable": true,
    "id": "2SFlPxS3Tarr",
    "slideshow": {
     "slide_type": ""
    },
    "tags": []
   },
   "source": [
    "Python packages are a collection of useful tools developed by the open-source community. They extend the capabilities of the python language. To install a new package (for example, pandas), you can go to your command prompt and type in pip install pandas. Once a package is installed, you can import it as follows.\n",
    "\n",
    "External packages are typically installed from public repositories, such as the Python Package Index (PyPI) and conda-forge, as follows:\n",
    "\n",
    "- From PyPI: `pip install <package_name>`\n",
    "- From conda-forge: `conda install <package_name>`\n",
    "\n",
    "A good practice is to install required packages into a virtual environment."
   ]
  },
  {
   "cell_type": "code",
   "execution_count": 513,
   "metadata": {},
   "outputs": [],
   "source": [
    "# Install single package\n",
    "# These should be ran in your terminal, not in Jupyter Notebook\n",
    "#pip install pandas\n",
    "\n",
    "# Install specific version\n",
    "#pip install pandas==1.5.3\n",
    "\n",
    "# Install with version range\n",
    "#pip install \"pandas>=1.5.0,<2.0.0\"\n",
    "\n",
    "# Install multiple packages\n",
    "#pip install pandas numpy matplotlib\n",
    "\n",
    "# To check the entire list of your packages, run:\n",
    "# conda list \n",
    "\n",
    "# To check which kernels are available \n",
    "# conda env list\n",
    "\n",
    "# To see which environment you're currently in:\n",
    "# which python    # On Unix/MacOS\n",
    "# where python    # On Windows\n",
    "\n",
    "# To switch kernels/environments \n",
    "# conda activate environment_name    # Switch to a specific environment\n",
    "# conda deactivate                  # Switch back to base environment"
   ]
  },
  {
   "cell_type": "code",
   "execution_count": 514,
   "metadata": {},
   "outputs": [],
   "source": [
    "### Let's install this package:\n",
    "### pip install kagglehub"
   ]
  },
  {
   "cell_type": "code",
   "execution_count": 515,
   "metadata": {
    "id": "z1s18DWwTarr"
   },
   "outputs": [],
   "source": [
    "# import the external package Pandas and give it the conventional alias `pd`\n",
    "import pandas as pd"
   ]
  },
  {
   "cell_type": "code",
   "execution_count": 516,
   "metadata": {},
   "outputs": [],
   "source": [
    "import numpy as np"
   ]
  },
  {
   "cell_type": "code",
   "execution_count": 517,
   "metadata": {},
   "outputs": [
    {
     "data": {
      "text/plain": [
       "np.int64(100000)"
      ]
     },
     "execution_count": 517,
     "metadata": {},
     "output_type": "execute_result"
    }
   ],
   "source": [
    "np.power(10, 5)"
   ]
  },
  {
   "cell_type": "code",
   "execution_count": 518,
   "metadata": {},
   "outputs": [
    {
     "data": {
      "text/plain": [
       "np.float64(0.9542425094393249)"
      ]
     },
     "execution_count": 518,
     "metadata": {},
     "output_type": "execute_result"
    }
   ],
   "source": [
    "np.log10(9)"
   ]
  },
  {
   "cell_type": "markdown",
   "metadata": {
    "id": "Trtx5jqtTars",
    "jp-MarkdownHeadingCollapsed": true
   },
   "source": [
    "### Variables and Objects"
   ]
  },
  {
   "cell_type": "markdown",
   "metadata": {
    "id": "M5QbSSnVTars"
   },
   "source": [
    "Python is an object-oriented programming (OOP) language. Everything in Python is an object of a certain class. "
   ]
  },
  {
   "cell_type": "code",
   "execution_count": 519,
   "metadata": {
    "id": "dAGyFerKTars",
    "outputId": "3051f1e8-8b06-40ff-f0ef-6cd9331a5369"
   },
   "outputs": [
    {
     "data": {
      "text/plain": [
       "8"
      ]
     },
     "execution_count": 519,
     "metadata": {},
     "output_type": "execute_result"
    }
   ],
   "source": [
    "# assign the sum of 5 and 3 to the variable result\n",
    "result = 5 + 3\n",
    "result"
   ]
  },
  {
   "cell_type": "code",
   "execution_count": 520,
   "metadata": {
    "id": "5gQ0xJC2Tars",
    "outputId": "821a8823-ae3a-4e7c-8d16-3802eaa7b5b8"
   },
   "outputs": [
    {
     "name": "stdout",
     "output_type": "stream",
     "text": [
      "8\n"
     ]
    }
   ],
   "source": [
    "print(result)"
   ]
  },
  {
   "cell_type": "code",
   "execution_count": 521,
   "metadata": {
    "id": "DDfrG67xTars",
    "outputId": "86ba71e2-df3f-4573-e8e8-d6f7d027d550"
   },
   "outputs": [
    {
     "data": {
      "text/plain": [
       "2"
      ]
     },
     "execution_count": 521,
     "metadata": {},
     "output_type": "execute_result"
    }
   ],
   "source": [
    "result = 5 - 3\n",
    "result"
   ]
  },
  {
   "cell_type": "code",
   "execution_count": 522,
   "metadata": {
    "colab": {
     "base_uri": "https://localhost:8080/",
     "height": 35
    },
    "id": "2XXocogeTars",
    "outputId": "ae4ab6cc-b59a-4713-d948-dc71c150bb6e"
   },
   "outputs": [
    {
     "data": {
      "text/plain": [
       "'instructor'"
      ]
     },
     "execution_count": 522,
     "metadata": {},
     "output_type": "execute_result"
    }
   ],
   "source": [
    "viktoria = 'instructor'\n",
    "viktoria"
   ]
  },
  {
   "cell_type": "code",
   "execution_count": 523,
   "metadata": {
    "colab": {
     "base_uri": "https://localhost:8080/",
     "height": 35
    },
    "id": "xa67i5VTTars",
    "outputId": "7f5957cb-417d-49ee-f622-9474b44ee424"
   },
   "outputs": [
    {
     "data": {
      "text/plain": [
       "'student'"
      ]
     },
     "execution_count": 523,
     "metadata": {},
     "output_type": "execute_result"
    }
   ],
   "source": [
    "viktoria = 'student'\n",
    "viktoria"
   ]
  },
  {
   "cell_type": "code",
   "execution_count": 524,
   "metadata": {
    "id": "TbJV_ZKbTars",
    "outputId": "d91509f8-3b58-4d6f-fe9a-8e86b99323f5"
   },
   "outputs": [
    {
     "data": {
      "text/plain": [
       "'5'"
      ]
     },
     "execution_count": 524,
     "metadata": {},
     "output_type": "execute_result"
    }
   ],
   "source": [
    "Result = '5'\n",
    "Result"
   ]
  },
  {
   "cell_type": "code",
   "execution_count": 525,
   "metadata": {
    "id": "oY-SCsoZTars",
    "outputId": "9ddfae3f-1d9a-4343-bb1b-830b0164626e"
   },
   "outputs": [
    {
     "data": {
      "text/plain": [
       "2"
      ]
     },
     "execution_count": 525,
     "metadata": {},
     "output_type": "execute_result"
    }
   ],
   "source": [
    "result"
   ]
  },
  {
   "cell_type": "code",
   "execution_count": 526,
   "metadata": {
    "id": "SnpfQz04Tars",
    "outputId": "b24c7a60-be6a-4b0f-ebab-a63f05cf2b3c"
   },
   "outputs": [
    {
     "data": {
      "text/plain": [
       "int"
      ]
     },
     "execution_count": 526,
     "metadata": {},
     "output_type": "execute_result"
    }
   ],
   "source": [
    "type(result)"
   ]
  },
  {
   "cell_type": "code",
   "execution_count": 527,
   "metadata": {},
   "outputs": [
    {
     "data": {
      "text/plain": [
       "int"
      ]
     },
     "execution_count": 527,
     "metadata": {},
     "output_type": "execute_result"
    }
   ],
   "source": [
    "type(5)"
   ]
  },
  {
   "cell_type": "code",
   "execution_count": 528,
   "metadata": {
    "id": "HemKMnQKTart",
    "outputId": "a6731ee7-9c7d-4fff-a003-129cf468ad3d"
   },
   "outputs": [
    {
     "data": {
      "text/plain": [
       "str"
      ]
     },
     "execution_count": 528,
     "metadata": {},
     "output_type": "execute_result"
    }
   ],
   "source": [
    "type(Result)"
   ]
  },
  {
   "cell_type": "code",
   "execution_count": 529,
   "metadata": {
    "id": "3N7hoOhQTart",
    "outputId": "19dfccdf-40ca-4019-a4cb-5b7c166584b5"
   },
   "outputs": [
    {
     "data": {
      "text/plain": [
       "numpy.ufunc"
      ]
     },
     "execution_count": 529,
     "metadata": {},
     "output_type": "execute_result"
    }
   ],
   "source": [
    "type(sqrt)"
   ]
  },
  {
   "cell_type": "code",
   "execution_count": 530,
   "metadata": {},
   "outputs": [
    {
     "data": {
      "text/plain": [
       "builtin_function_or_method"
      ]
     },
     "execution_count": 530,
     "metadata": {},
     "output_type": "execute_result"
    }
   ],
   "source": [
    "from math import sqrt\n",
    "\n",
    "type(sqrt)"
   ]
  },
  {
   "cell_type": "code",
   "execution_count": 531,
   "metadata": {},
   "outputs": [
    {
     "data": {
      "text/plain": [
       "np.float64(1.4142135623730951)"
      ]
     },
     "execution_count": 531,
     "metadata": {},
     "output_type": "execute_result"
    }
   ],
   "source": [
    "np.sqrt(2)"
   ]
  },
  {
   "cell_type": "code",
   "execution_count": 532,
   "metadata": {},
   "outputs": [
    {
     "data": {
      "text/plain": [
       "bool"
      ]
     },
     "execution_count": 532,
     "metadata": {},
     "output_type": "execute_result"
    }
   ],
   "source": [
    "type(True)"
   ]
  },
  {
   "cell_type": "code",
   "execution_count": 533,
   "metadata": {},
   "outputs": [
    {
     "data": {
      "text/plain": [
       "float"
      ]
     },
     "execution_count": 533,
     "metadata": {},
     "output_type": "execute_result"
    }
   ],
   "source": [
    "type(5.6)"
   ]
  },
  {
   "cell_type": "code",
   "execution_count": 534,
   "metadata": {},
   "outputs": [
    {
     "name": "stderr",
     "output_type": "stream",
     "text": [
      "/var/folders/jn/k87rrm694dq263mh4gqmfd080000gn/T/ipykernel_45030/2149185541.py:1: RuntimeWarning: invalid value encountered in sqrt\n",
      "  np.sqrt(-9)\n"
     ]
    },
    {
     "data": {
      "text/plain": [
       "np.float64(nan)"
      ]
     },
     "execution_count": 534,
     "metadata": {},
     "output_type": "execute_result"
    }
   ],
   "source": [
    "np.sqrt(-9)"
   ]
  },
  {
   "cell_type": "markdown",
   "metadata": {
    "id": "evZ1vlBJTart",
    "jp-MarkdownHeadingCollapsed": true
   },
   "source": [
    "### Python Data Structures: Lists, Dictionaries, (+ Tuples, and Sets)\n"
   ]
  },
  {
   "cell_type": "markdown",
   "metadata": {
    "id": "evZ1vlBJTart"
   },
   "source": [
    "Lists, dictionaries, tuples, and sets are built-in Python data structures. In this course, we primarily use them to manipulate inputs to and outputs from data structures and models in external packages. However, understanding them is critical for effective Python use. External packages come and go. Knowing how to use the built-in data structures enables you to pick up new data analysis packages and infrastructure paradigms more easily.\n",
    "\n",
    "**List**"
   ]
  },
  {
   "cell_type": "code",
   "execution_count": 535,
   "metadata": {},
   "outputs": [],
   "source": [
    "# Creation\n",
    "numbers = [1, 2, 3, 4, 5]\n",
    "mixed = [1, \"hello\", 3.14, True]\n",
    "\n",
    "# Indexing and Slicing\n",
    "first = numbers[0]        # First element (1)\n",
    "last = numbers[-1]        # Last element (5)\n",
    "subset = numbers[1:4]     # Elements 1 through 3 [2, 3, 4]\n",
    "\n",
    "# Modification\n",
    "numbers.append(6)         # Add to end: [1, 2, 3, 4, 5, 6]\n",
    "numbers.extend([7, 8])    # Add multiple: [1, 2, 3, 4, 5, 6, 7, 8]\n",
    "numbers.insert(1, 1.5)    # Insert at position: [1, 1.5, 2, 3, 4, 5, 6, 7, 8]\n",
    "\n",
    "# List Comprehensions\n",
    "double = [x * 2 for x in numbers]              # Create new list with double the values\n",
    "\n"
   ]
  },
  {
   "cell_type": "code",
   "execution_count": 536,
   "metadata": {
    "id": "uFmENRGyTart",
    "outputId": "a7a44442-542e-46d0-b515-e2c165f71546"
   },
   "outputs": [
    {
     "data": {
      "text/plain": [
       "[2525779, 3026003, 3691173, 4449049, 5320817, 6127700, 6916183]"
      ]
     },
     "execution_count": 536,
     "metadata": {},
     "output_type": "execute_result"
    }
   ],
   "source": [
    "world_pop = [2525779, 3026003, 3691173, 4449049, 5320817, 6127700, 6916183]\n",
    "world_pop"
   ]
  },
  {
   "cell_type": "code",
   "execution_count": 537,
   "metadata": {
    "id": "aayN2NgaTart",
    "outputId": "d8b97b6c-eeb2-4f8d-bec5-06da74ecf463"
   },
   "outputs": [
    {
     "data": {
      "text/plain": [
       "[2525779, 3026003, 3691173, 4449049, 5320817, 6127700, 6916183]"
      ]
     },
     "execution_count": 537,
     "metadata": {},
     "output_type": "execute_result"
    }
   ],
   "source": [
    "pop_first = [2525779, 3026003, 3691173]\n",
    "pop_second = [4449049, 5320817, 6127700, 6916183]\n",
    "pop_all = pop_first + pop_second\n",
    "pop_all"
   ]
  },
  {
   "cell_type": "code",
   "execution_count": 538,
   "metadata": {
    "id": "qVFGHXkuTart",
    "outputId": "dce49a7d-b128-40ae-c080-c832a43f87df"
   },
   "outputs": [
    {
     "data": {
      "text/plain": [
       "2525779"
      ]
     },
     "execution_count": 538,
     "metadata": {},
     "output_type": "execute_result"
    }
   ],
   "source": [
    "# Python uses zero-based indexing\n",
    "world_pop[0] # the first observation"
   ]
  },
  {
   "cell_type": "code",
   "execution_count": 539,
   "metadata": {
    "id": "Yg1t6r3gTart",
    "outputId": "8bdaed0d-25ba-4288-bee1-55aabb9f8cd4"
   },
   "outputs": [
    {
     "data": {
      "text/plain": [
       "3026003"
      ]
     },
     "execution_count": 539,
     "metadata": {},
     "output_type": "execute_result"
    }
   ],
   "source": [
    "world_pop[1] # the second observation"
   ]
  },
  {
   "cell_type": "code",
   "execution_count": 540,
   "metadata": {
    "id": "J9pnAk-XTart",
    "outputId": "5f5d0af2-5261-4274-b7c9-348e377fa2c3"
   },
   "outputs": [
    {
     "data": {
      "text/plain": [
       "6916183"
      ]
     },
     "execution_count": 540,
     "metadata": {},
     "output_type": "execute_result"
    }
   ],
   "source": [
    "world_pop[-1] # the last observation"
   ]
  },
  {
   "cell_type": "code",
   "execution_count": 541,
   "metadata": {
    "id": "zwg5wFOnTart",
    "outputId": "8e6383d9-5a0f-45fc-d695-b766d53ba758"
   },
   "outputs": [
    {
     "data": {
      "text/plain": [
       "[2525779, 3026003, 3691173, 4449049]"
      ]
     },
     "execution_count": 541,
     "metadata": {},
     "output_type": "execute_result"
    }
   ],
   "source": [
    "# Python uses \"up to but not including\" slicing semantics\n",
    "world_pop[0:4] # the first four observations"
   ]
  },
  {
   "cell_type": "code",
   "execution_count": 542,
   "metadata": {
    "id": "xggcH-QKTart",
    "outputId": "395e578a-20f4-4154-bca1-1a5811c3ea9a"
   },
   "outputs": [
    {
     "data": {
      "text/plain": [
       "[2525779, 3026003, 3691173, 4449049]"
      ]
     },
     "execution_count": 542,
     "metadata": {},
     "output_type": "execute_result"
    }
   ],
   "source": [
    "world_pop[:4] # an alternative was to slice the first four observations"
   ]
  },
  {
   "cell_type": "code",
   "execution_count": 543,
   "metadata": {
    "id": "UPpUgyQPTart",
    "outputId": "b33deba2-7d5f-4ae9-fb09-13d4bcb87781"
   },
   "outputs": [
    {
     "data": {
      "text/plain": [
       "7"
      ]
     },
     "execution_count": 543,
     "metadata": {},
     "output_type": "execute_result"
    }
   ],
   "source": [
    "# How many observations are in the list?\n",
    "len(world_pop)"
   ]
  },
  {
   "cell_type": "code",
   "execution_count": 544,
   "metadata": {
    "id": "cAYQv7LOTart",
    "outputId": "f32f69ff-2379-462d-a786-846292ae0aac"
   },
   "outputs": [
    {
     "data": {
      "text/plain": [
       "[1950, 1960, 1970, 1980, 1990, 2000, 2010]"
      ]
     },
     "execution_count": 544,
     "metadata": {},
     "output_type": "execute_result"
    }
   ],
   "source": [
    "# return a sequence of decades as a list using range(start, stop, step)\n",
    "list(range(1950, 2011, 10)) # specify 2011 to include 2010"
   ]
  },
  {
   "cell_type": "code",
   "execution_count": 545,
   "metadata": {
    "id": "rKe_Y4fFTart",
    "outputId": "4f424d20-e5bf-4b89-a751-db256d78eb96"
   },
   "outputs": [
    {
     "data": {
      "text/plain": [
       "[10, 10.5, True, 'USA', 'Canada']"
      ]
     },
     "execution_count": 545,
     "metadata": {},
     "output_type": "execute_result"
    }
   ],
   "source": [
    "# A list can contain different data types\n",
    "mixed_list = [10, 10.5, True, 'USA', 'Canada']\n",
    "mixed_list"
   ]
  },
  {
   "cell_type": "code",
   "execution_count": 546,
   "metadata": {
    "id": "XTLm09LITary",
    "outputId": "8ec2f374-af52-44ff-c03f-3d4706c0dbbb"
   },
   "outputs": [
    {
     "data": {
      "text/plain": [
       "[10, 10.5, True, 'USA', '7']"
      ]
     },
     "execution_count": 546,
     "metadata": {},
     "output_type": "execute_result"
    }
   ],
   "source": [
    "# Lists are mutable\n",
    "mixed_list[4] = '7'\n",
    "mixed_list"
   ]
  },
  {
   "cell_type": "code",
   "execution_count": 547,
   "metadata": {},
   "outputs": [],
   "source": [
    "numbers\n",
    "\n",
    "# sum function\n",
    "sum(numbers)\n",
    "# min function\n",
    "min(numbers)\n",
    "# index function\n",
    "list(numbers)[2]  # Find the index of value 3 in the list\n",
    "numbers = list(numbers)  # Convert to list if it's not already"
   ]
  },
  {
   "cell_type": "code",
   "execution_count": 548,
   "metadata": {},
   "outputs": [],
   "source": [
    "# Sorting and Filtering\n",
    "numbers.sort()                # Sort in place\n",
    "sorted_numbers = sorted(numbers)  # Create new sorted list\n",
    "numbers.reverse()            # Reverse in place"
   ]
  },
  {
   "cell_type": "code",
   "execution_count": 549,
   "metadata": {
    "id": "DZDe-rFqTary",
    "outputId": "0f7d79c0-ce43-4476-cbae-aebc814b65e9"
   },
   "outputs": [
    {
     "data": {
      "text/plain": [
       "[10, 10.5, True, 'USA', '7', 'Canada']"
      ]
     },
     "execution_count": 549,
     "metadata": {},
     "output_type": "execute_result"
    }
   ],
   "source": [
    "mixed_list.append('Canada') # append 'Canada' to the end of the list\n",
    "mixed_list"
   ]
  },
  {
   "cell_type": "code",
   "execution_count": 550,
   "metadata": {},
   "outputs": [
    {
     "data": {
      "text/plain": [
       "[1, 1.5, 2, 3, 4, 5, 6, 7, 8]"
      ]
     },
     "execution_count": 550,
     "metadata": {},
     "output_type": "execute_result"
    }
   ],
   "source": [
    "sorted_list = sorted(numbers, reverse = False) # sort numbers in ascending order, reverse = True for descending order\n",
    "\n",
    "sorted_list"
   ]
  },
  {
   "cell_type": "markdown",
   "metadata": {
    "id": "esEusXTCTary"
   },
   "source": [
    "Built-in Python data structures are generally not vectorized. For example, multiplying world_pop by 2 will concatenate the list twice, rather than multiply each element by 2."
   ]
  },
  {
   "cell_type": "code",
   "execution_count": 551,
   "metadata": {
    "id": "XQAGH9f5Tary",
    "outputId": "58565dd8-ff00-4e27-e690-5240a618f860"
   },
   "outputs": [
    {
     "data": {
      "text/plain": [
       "[2525779,\n",
       " 3026003,\n",
       " 3691173,\n",
       " 4449049,\n",
       " 5320817,\n",
       " 6127700,\n",
       " 6916183,\n",
       " 2525779,\n",
       " 3026003,\n",
       " 3691173,\n",
       " 4449049,\n",
       " 5320817,\n",
       " 6127700,\n",
       " 6916183]"
      ]
     },
     "execution_count": 551,
     "metadata": {},
     "output_type": "execute_result"
    }
   ],
   "source": [
    "world_pop*2 #vectorized means each element in the list is multiplied by 2"
   ]
  },
  {
   "cell_type": "code",
   "execution_count": 552,
   "metadata": {
    "id": "dTVPIRFYTary",
    "outputId": "59927d73-cfdf-4059-f36a-c896f2190684"
   },
   "outputs": [
    {
     "data": {
      "text/plain": [
       "[2525.779, 3026.003, 3691.173, 4449.049, 5320.817, 6127.7, 6916.183]"
      ]
     },
     "execution_count": 552,
     "metadata": {},
     "output_type": "execute_result"
    }
   ],
   "source": [
    "# We can use a 'list comprehension' to perform element-wise arithmetic\n",
    "pop_million = [i / 1000 for i in world_pop] # this creates a new list where each element in world_pop is divided by 1000\n",
    "pop_million"
   ]
  },
  {
   "cell_type": "markdown",
   "metadata": {},
   "source": [
    "x = [1, 2, 3] is a list.\n",
    "- sum(x) computes the sum of all elements in a list\n",
    "- max(x) computes the maximum value in a list\n",
    "- .index(value) finds the index of the first occurrence of a value in a list\n",
    "- list comprehension : [var for var in list if condition/in list]\n",
    "- list comprehension with transformation: [transformation(var) for var in list if condition/in list]\n",
    "- list comprehension creates a new list by iterating through an existing list and applying a condition or transformation to each element.\n",
    "- .sort(x) sorts a list in place\n",
    "- .sorted(x, reverse=False) creates a new sorted list from the original list, reverse=True for descending order"
   ]
  },
  {
   "cell_type": "code",
   "execution_count": 553,
   "metadata": {},
   "outputs": [],
   "source": [
    "### EXERCISE ###\n",
    "\n",
    "# Monthly revenue data (in thousands)\n",
    "monthly_revenue = [145, 132, 165, 175, 156, 148]\n",
    "\n",
    "# Tasks:\n",
    "# 1. Calculate the total revenue\n",
    "# Hint: Use sum()\n",
    "sum(monthly_revenue) * 1000 #output: 921000\n",
    "\n",
    "# 2. Find the month number with highest revenue (remember 0-based indexing!)\n",
    "# Hint: There's a method to find the index of a value\n",
    "monthly_revenue.index(max(monthly_revenue)) #output: 3\n",
    "\n",
    "# 3. Create a new list with only revenues above 150\n",
    "# Hint: Use list comprehension as shown in notebook\n",
    "revenue_above_150 = [i for i in monthly_revenue if i > 150]\n",
    "\n",
    "# 4. [New] Sort the revenues in descending order without modifying\n",
    "# the original list\n",
    "# Hint: Use the sorted() function - it's like .sort() but creates a new list\n",
    "sorted_revenue = sorted(monthly_revenue, reverse=True)\n"
   ]
  },
  {
   "cell_type": "code",
   "execution_count": 554,
   "metadata": {},
   "outputs": [
    {
     "name": "stdout",
     "output_type": "stream",
     "text": [
      "F: [89.6, 77.0, 82.4, 86.0, 95.0, 80.6, 84.2]\n"
     ]
    }
   ],
   "source": [
    "### Another example ###\n",
    "\n",
    "temperatures = [32, 25, 28, 30, 35, 27, 29]\n",
    "\n",
    "# Convert all temperatures to Fahrenheit\n",
    "fahrenheit_temps = [(t * 9/5 + 32) for t in temperatures]\n",
    "print(\"F:\", fahrenheit_temps)\n"
   ]
  },
  {
   "cell_type": "markdown",
   "metadata": {
    "id": "Bhsw0hoCTary"
   },
   "source": [
    "We will use pandas and numpy to conduct vectorized operations. Nevertheless, list comprehensions are very useful for returning observations that meet certain conditions."
   ]
  },
  {
   "cell_type": "code",
   "execution_count": 555,
   "metadata": {
    "id": "8Wm9CtIoTary",
    "outputId": "a21b0907-a641-4a36-d9e8-ac0cc07e06c3"
   },
   "outputs": [
    {
     "name": "stdout",
     "output_type": "stream",
     "text": [
      "[10, 10.5, True, 'USA', '7', 'Canada']\n"
     ]
    },
    {
     "data": {
      "text/plain": [
       "['USA', '7', 'Canada']"
      ]
     },
     "execution_count": 555,
     "metadata": {},
     "output_type": "execute_result"
    }
   ],
   "source": [
    "# return strings from mixed_list\n",
    "print(mixed_list)\n",
    "\n",
    "[item for item in mixed_list if isinstance(item, str)]\n",
    "# isinstance() checks if an item is of a specified type (e.g., str for string, int for integer)\n",
    "# isinstance(obj, type)"
   ]
  },
  {
   "cell_type": "markdown",
   "metadata": {
    "id": "cut8nVQxTary"
   },
   "source": [
    "**Dictionary**"
   ]
  },
  {
   "cell_type": "code",
   "execution_count": 556,
   "metadata": {},
   "outputs": [],
   "source": [
    "# Creation\n",
    "person = {\n",
    "    'name': 'John',\n",
    "    'age': '7',\n",
    "    'city': 'New York'\n",
    "}\n",
    "\n",
    "# Accessing and Modifying\n",
    "name = person['name']        # Get value by key\n",
    "person['age'] = 31           # Update value\n",
    "person['email'] = 'j@ex.com' # Add new key-value pair\n",
    "\n",
    "# Safe Access\n",
    "age = person.get('age', 8)   # Get with default value\n",
    "# .get() returns the value for the specified key if the key is in the dictionary. \n",
    "# If not, it returns the default value provided (in this case, it returns 8)\n",
    "has_email = 'email' in person  # Check key existence, returns True or False\n",
    "\n",
    "# Methods\n",
    "keys = person.keys()         # Get all keys\n",
    "values = person.values()     # Get all values\n",
    "items = person.items()       # Get all key-value pairs\n",
    "\n",
    "\n"
   ]
  },
  {
   "cell_type": "code",
   "execution_count": 557,
   "metadata": {},
   "outputs": [
    {
     "data": {
      "text/plain": [
       "dict_values(['John', 31, 'New York', 'j@ex.com'])"
      ]
     },
     "execution_count": 557,
     "metadata": {},
     "output_type": "execute_result"
    }
   ],
   "source": [
    "person.values()"
   ]
  },
  {
   "cell_type": "code",
   "execution_count": 558,
   "metadata": {
    "id": "hhpxDiO4Tary",
    "outputId": "ec48b979-d994-4011-fc94-853628e5d97a"
   },
   "outputs": [
    {
     "data": {
      "text/plain": [
       "{'1950': 2525779,\n",
       " '1960': 3026003,\n",
       " '1970': 3691173,\n",
       " '1980': 4449049,\n",
       " '1990': 5320817,\n",
       " '2000': 6127700}"
      ]
     },
     "execution_count": 558,
     "metadata": {},
     "output_type": "execute_result"
    }
   ],
   "source": [
    "# dictionaries are key-value pairs; they need not be ordered\n",
    "world_pop_dict = {'1950': 2525779, '1960': 3026003, '1970': 3691173,\n",
    "                  '1980': 4449049, '1990': 5320817, '2000': 6127700}\n",
    "world_pop_dict"
   ]
  },
  {
   "cell_type": "code",
   "execution_count": 559,
   "metadata": {
    "id": "bpXJAzPdTary",
    "outputId": "85f37a6e-0907-4fb8-dfab-00896558c072"
   },
   "outputs": [
    {
     "data": {
      "text/plain": [
       "5320817"
      ]
     },
     "execution_count": 559,
     "metadata": {},
     "output_type": "execute_result"
    }
   ],
   "source": [
    "world_pop_dict['1990'] # get value for key '1990'"
   ]
  },
  {
   "cell_type": "code",
   "execution_count": 560,
   "metadata": {
    "id": "zB-3M6euTarz",
    "outputId": "22355348-0976-4db3-be0f-4029f57c31a2"
   },
   "outputs": [
    {
     "data": {
      "text/plain": [
       "{'1950': 2525779,\n",
       " '1960': 3026003,\n",
       " '1970': 3691173,\n",
       " '1980': 4449049,\n",
       " '1990': 5320817,\n",
       " '2000': 6127700,\n",
       " '2010': 6916183}"
      ]
     },
     "execution_count": 560,
     "metadata": {},
     "output_type": "execute_result"
    }
   ],
   "source": [
    "# add a new key-value pair\n",
    "world_pop_dict['2010'] = 6916183 \n",
    "world_pop_dict"
   ]
  },
  {
   "cell_type": "code",
   "execution_count": 561,
   "metadata": {
    "id": "bJGsGnZhTarz",
    "outputId": "5b537aa9-cfc7-449f-fdcb-dd2b301d5969"
   },
   "outputs": [
    {
     "data": {
      "text/plain": [
       "dict_keys(['1950', '1960', '1970', '1980', '1990', '2000', '2010'])"
      ]
     },
     "execution_count": 561,
     "metadata": {},
     "output_type": "execute_result"
    }
   ],
   "source": [
    "# return the keys\n",
    "world_pop_dict.keys()"
   ]
  },
  {
   "cell_type": "code",
   "execution_count": 562,
   "metadata": {
    "id": "LlZCfopZTarz",
    "outputId": "05ba7dde-b523-4a64-cd88-a5109b4ffd3b"
   },
   "outputs": [
    {
     "data": {
      "text/plain": [
       "dict_values([2525779, 3026003, 3691173, 4449049, 5320817, 6127700, 6916183])"
      ]
     },
     "execution_count": 562,
     "metadata": {},
     "output_type": "execute_result"
    }
   ],
   "source": [
    "# return the values\n",
    "world_pop_dict.values()"
   ]
  },
  {
   "cell_type": "code",
   "execution_count": 563,
   "metadata": {
    "id": "JwQCFAVMTarz",
    "outputId": "91a1d5f8-b971-46dc-f49b-a2bf10a4f77d"
   },
   "outputs": [
    {
     "data": {
      "text/plain": [
       "['1950', '1960', '1970', '1980', '1990', '2000', '2010']"
      ]
     },
     "execution_count": 563,
     "metadata": {},
     "output_type": "execute_result"
    }
   ],
   "source": [
    "# return the values as a list\n",
    "list(world_pop_dict.keys())"
   ]
  },
  {
   "cell_type": "code",
   "execution_count": 564,
   "metadata": {},
   "outputs": [
    {
     "data": {
      "text/plain": [
       "{'China': 1412.0,\n",
       " 'India': 1380.0,\n",
       " 'USA': 331.0,\n",
       " 'Indonesia': 273.5,\n",
       " 'Pakistan': 225.2}"
      ]
     },
     "execution_count": 564,
     "metadata": {},
     "output_type": "execute_result"
    }
   ],
   "source": [
    "# Dictionary Comprehension\n",
    "\n",
    "world_pop_dict = {\n",
    "    'China': 1412000000,\n",
    "    'India': 1380000000,\n",
    "    'USA': 331000000,\n",
    "    'Indonesia': 273500000,\n",
    "    'Pakistan': 225200000\n",
    "}\n",
    "\n",
    "# Creating a new dictionary from an existing one\n",
    "millions_pop = {country: pop / 1000000 for country, pop in world_pop_dict.items()}\n",
    "\n",
    "millions_pop"
   ]
  },
  {
   "cell_type": "code",
   "execution_count": 565,
   "metadata": {},
   "outputs": [
    {
     "name": "stdout",
     "output_type": "stream",
     "text": [
      "{'China': 1412000000, 'India': 1380000000, 'USA': 331000000}\n"
     ]
    }
   ],
   "source": [
    "# Dictionary comprehension with a condition\n",
    "large_countries = {country: pop for country, pop in world_pop_dict.items() if pop > 300000000}\n",
    "\n",
    "print(large_countries)"
   ]
  },
  {
   "cell_type": "code",
   "execution_count": 566,
   "metadata": {},
   "outputs": [
    {
     "name": "stdout",
     "output_type": "stream",
     "text": [
      "Most expensive product: laptop ($850)\n",
      "{'mouse': 25, 'keyboard': 75, 'headphones': 55}\n"
     ]
    }
   ],
   "source": [
    "### EXERCISE ###\n",
    "\n",
    "# Product inventory\n",
    "inventory = {\n",
    "    'laptop': 850,\n",
    "    'mouse': 25,\n",
    "    'keyboard': 75,\n",
    "    'monitor': 275\n",
    "}\n",
    "\n",
    "# Tasks:\n",
    "# 1. Print all product names\n",
    "# Hint: Use the keys() method\n",
    "inventory.keys()\n",
    "\n",
    "# 2. Find the most expensive product\n",
    "# Hint: Use max() with values\n",
    "most_expensive = max(inventory, key=inventory.get) # output: 'laptop'\n",
    "print(f\"Most expensive product: {most_expensive} (${inventory[most_expensive]})\")\n",
    "\n",
    "#.get() retrieves the value for the specified key from the dictionary.\n",
    "\n",
    "# 3. Add a new product 'headphones' with price 55\n",
    "# Hint: Use simple assignment\n",
    "inventory['headphones'] = 55\n",
    "\n",
    "# 4. [New] Create a dictionary of only products under 100\n",
    "# using dictionary comprehension\n",
    "# Hint: The syntax is similar to list comprehension but with key:value pairs and {}\n",
    "under_100 = {product: price for product, price in inventory.items() if price < 100}\n",
    "print(under_100) # output: {'mouse': 25, 'keyboard': 75, 'headphones': 55}\n"
   ]
  },
  {
   "cell_type": "markdown",
   "metadata": {
    "id": "a20R1eqaTarz"
   },
   "source": [
    "**Tuple**"
   ]
  },
  {
   "cell_type": "code",
   "execution_count": 567,
   "metadata": {},
   "outputs": [],
   "source": [
    "# Creation\n",
    "point = (3, 4) # Python knows it's a tuple because of round brackets\n",
    "person = ('Hello', 30, 'Singapore')\n",
    "\n",
    "# Access and Unpacking\n",
    "x = point[0]               # Access by index # output : 3\n",
    "x, y = point              # Tuple unpacking # output : (3, 4)\n",
    "name, age, city = person  # Multiple assignment # name = 'Hello', age = 30, city = 'Singapore'\n",
    "\n",
    "# Methods\n",
    "count = person.count('John')  # Count occurrences \n",
    "index = person.index(30)      # Find position\n",
    "\n",
    "# Common Uses\n",
    "def get_coordinates():\n",
    "    return (3, 4)  # Return multiple values\n",
    "\n",
    "x, y = get_coordinates()  # Unpack returned tuple"
   ]
  },
  {
   "cell_type": "code",
   "execution_count": 568,
   "metadata": {
    "id": "vI-scmKETarz"
   },
   "outputs": [
    {
     "ename": "TypeError",
     "evalue": "'tuple' object does not support item assignment",
     "output_type": "error",
     "traceback": [
      "\u001b[0;31m---------------------------------------------------------------------------\u001b[0m",
      "\u001b[0;31mTypeError\u001b[0m                                 Traceback (most recent call last)",
      "Cell \u001b[0;32mIn[568], line 2\u001b[0m\n\u001b[1;32m      1\u001b[0m \u001b[38;5;66;03m# We cannot change the values of a tuple; it will raise an error\u001b[39;00m\n\u001b[0;32m----> 2\u001b[0m point[\u001b[38;5;241m0\u001b[39m] \u001b[38;5;241m=\u001b[39m \u001b[38;5;241m5\u001b[39m\n",
      "\u001b[0;31mTypeError\u001b[0m: 'tuple' object does not support item assignment"
     ]
    }
   ],
   "source": [
    "# We cannot change the values of a tuple; it will raise an error\n",
    "point[0] = 5  # This will raise a TypeError\n"
   ]
  },
  {
   "cell_type": "markdown",
   "metadata": {
    "id": "VggLsEcsTarz"
   },
   "source": [
    "**Set**"
   ]
  },
  {
   "cell_type": "code",
   "execution_count": null,
   "metadata": {},
   "outputs": [],
   "source": [
    "# Creation\n",
    "fruits = {'apple', 'banana', 'orange'}\n",
    "numbers = set([1, 2, 2, 3, 3, 4])  # Creates {1, 2, 3, 4}\n",
    "\n",
    "# set() removes duplicates from the list and creates a set of unique elements\n",
    "\n",
    "# Set Operations\n",
    "a = {1, 2, 3}\n",
    "b = {3, 4, 5}\n",
    "union = a | b                # Elements in either (1, 2, 3, 4, 5)\n",
    "intersection = a & b         # Elements in both (3)\n",
    "difference = a - b           # Elements in a but not b (1, 2)\n",
    "symmetric_diff = a ^ b       # Elements in either but not both (1, 2, 4, 5)\n",
    "\n",
    "# Modifications\n",
    "fruits.add('grape')          # Add single element\n",
    "fruits.update(['mango', 'kiwi'])  # Add multiple elements\n",
    "fruits.remove('apple')       # Remove element (raises error if not found)\n",
    "fruits.discard('apple')      # Remove element (no error if not found)"
   ]
  },
  {
   "cell_type": "code",
   "execution_count": null,
   "metadata": {},
   "outputs": [
    {
     "data": {
      "text/plain": [
       "{1, 2}"
      ]
     },
     "execution_count": 379,
     "metadata": {},
     "output_type": "execute_result"
    }
   ],
   "source": [
    "a - b # set difference: elements in a but not in b"
   ]
  },
  {
   "cell_type": "code",
   "execution_count": null,
   "metadata": {},
   "outputs": [],
   "source": [
    "### EXAMPLE ###\n",
    "\n",
    "store_a = {'laptop', 'keyboard', 'mouse', 'monitor'}\n",
    "store_b = {'laptop', 'headphones', 'mouse', 'camera'}\n",
    "\n",
    "# Tasks:\n",
    "# 1. Find common products\n",
    "common = store_a & store_b  \n",
    "\n",
    "# 2. List all products in both stores (\"or\")\n",
    "all_products = store_a | store_b  \n",
    "\n",
    "# 3. List store A unique products\n",
    "store_a_unique = store_a - store_b  # {'keyboard', 'monitor'}\n"
   ]
  },
  {
   "cell_type": "code",
   "execution_count": null,
   "metadata": {},
   "outputs": [
    {
     "data": {
      "text/plain": [
       "{'camera', 'headphones'}"
      ]
     },
     "execution_count": 387,
     "metadata": {},
     "output_type": "execute_result"
    }
   ],
   "source": [
    "store_b - store_a"
   ]
  },
  {
   "cell_type": "markdown",
   "metadata": {
    "id": "u78Ycwm_Tarz"
   },
   "source": [
    "### Pandas Data Structures: Series and DataFrames\n"
   ]
  },
  {
   "cell_type": "markdown",
   "metadata": {
    "id": "u78Ycwm_Tarz"
   },
   "source": [
    "**Series**"
   ]
  },
  {
   "cell_type": "code",
   "execution_count": null,
   "metadata": {},
   "outputs": [],
   "source": [
    "import pandas as pd #this is a common importing standard for pandas\n"
   ]
  },
  {
   "cell_type": "code",
   "execution_count": null,
   "metadata": {},
   "outputs": [],
   "source": [
    "# Import pandas - this gives us tools for data manipulation\n",
    "import pandas as pd\n",
    "\n",
    "# A Series is like a special column in a spreadsheet\n",
    "\n",
    "# It has two parts:\n",
    "# 1. Values (the actual data)\n",
    "# 2. Index (labels for each value)\n",
    "\n",
    "# Create a Series of student test scores\n",
    "# Each student (a through e) has a score (1 through 5)\n",
    "student_scores = pd.Series(\n",
    "   data=[1, 2, 3, 4, 5],\n",
    "   index=['a', 'b', 'c', 'd', 'e']\n",
    ")\n"
   ]
  },
  {
   "cell_type": "code",
   "execution_count": null,
   "metadata": {},
   "outputs": [],
   "source": [
    "# Access values in different ways:\n",
    "\n",
    "# Get one student's score using their label\n",
    "score_a = student_scores['a']  # Gets score for student 'a'\n"
   ]
  },
  {
   "cell_type": "code",
   "execution_count": null,
   "metadata": {},
   "outputs": [
    {
     "name": "stderr",
     "output_type": "stream",
     "text": [
      "/var/folders/jn/k87rrm694dq263mh4gqmfd080000gn/T/ipykernel_45030/3917056612.py:2: FutureWarning: Series.__getitem__ treating keys as positions is deprecated. In a future version, integer keys will always be treated as labels (consistent with DataFrame behavior). To access a value by position, use `ser.iloc[pos]`\n",
      "  first_score = student_scores[0]  # Gets the first score\n"
     ]
    }
   ],
   "source": [
    "# Get a score using its position (like a regular list)\n",
    "first_score = student_scores[0]  # Gets the first score"
   ]
  },
  {
   "cell_type": "code",
   "execution_count": null,
   "metadata": {},
   "outputs": [
    {
     "data": {
      "text/plain": [
       "a    1\n",
       "c    3\n",
       "dtype: int64"
      ]
     },
     "execution_count": 297,
     "metadata": {},
     "output_type": "execute_result"
    }
   ],
   "source": [
    "# Get multiple scores at once\n",
    "selected_scores = student_scores[['a', 'c']]  # Gets scores for students 'a' and 'c'\n",
    "\n",
    "selected_scores"
   ]
  },
  {
   "cell_type": "code",
   "execution_count": null,
   "metadata": {},
   "outputs": [
    {
     "data": {
      "text/plain": [
       "a    3\n",
       "b    4\n",
       "c    5\n",
       "d    6\n",
       "e    7\n",
       "dtype: int64"
      ]
     },
     "execution_count": 298,
     "metadata": {},
     "output_type": "execute_result"
    }
   ],
   "source": [
    "# Perform calculations on all scores at once\n",
    "bonus_scores = student_scores + 2  # Add 2 points to every score\n",
    "\n",
    "bonus_scores"
   ]
  },
  {
   "cell_type": "code",
   "execution_count": null,
   "metadata": {},
   "outputs": [
    {
     "data": {
      "text/plain": [
       "a    1\n",
       "b    2\n",
       "d    4\n",
       "e    5\n",
       "dtype: int64"
      ]
     },
     "execution_count": 299,
     "metadata": {},
     "output_type": "execute_result"
    }
   ],
   "source": [
    "# Filter scores based on conditions\n",
    "high_scores = student_scores[student_scores != 3]  # Find all scores above 3\n",
    "\n",
    "high_scores\n",
    "\n",
    "# boolean arrays T F "
   ]
  },
  {
   "cell_type": "code",
   "execution_count": null,
   "metadata": {},
   "outputs": [
    {
     "data": {
      "text/plain": [
       "np.float64(3.0)"
      ]
     },
     "execution_count": 300,
     "metadata": {},
     "output_type": "execute_result"
    }
   ],
   "source": [
    "# Calculate summary statistics\n",
    "average = student_scores.mean()\n",
    "highest = student_scores.max()\n",
    "lowest = student_scores.min()\n",
    "\n",
    "average"
   ]
  },
  {
   "cell_type": "code",
   "execution_count": null,
   "metadata": {},
   "outputs": [
    {
     "data": {
      "text/plain": [
       "a     2\n",
       "b     4\n",
       "c     6\n",
       "d     8\n",
       "e    10\n",
       "dtype: int64"
      ]
     },
     "execution_count": 301,
     "metadata": {},
     "output_type": "execute_result"
    }
   ],
   "source": [
    "# Operations\n",
    "doubled = student_scores * 2             # Vectorized operations\n",
    "\n",
    "doubled"
   ]
  },
  {
   "cell_type": "code",
   "execution_count": null,
   "metadata": {},
   "outputs": [
    {
     "data": {
      "text/plain": [
       "c    3\n",
       "d    4\n",
       "e    5\n",
       "dtype: int64"
      ]
     },
     "execution_count": 302,
     "metadata": {},
     "output_type": "execute_result"
    }
   ],
   "source": [
    "filtered = student_scores[student_scores > 2]   \n",
    "\n",
    "filtered\n",
    "# Boolean filtering"
   ]
  },
  {
   "cell_type": "code",
   "execution_count": null,
   "metadata": {
    "id": "TSy2NRLDTarz",
    "outputId": "a685da4f-f3c4-40de-fe2e-2b9c040fe6a9"
   },
   "outputs": [
    {
     "data": {
      "text/plain": [
       "0    2525779\n",
       "1    3026003\n",
       "2    3691173\n",
       "3    4449049\n",
       "4    5320817\n",
       "5    6127700\n",
       "6    6916183\n",
       "dtype: int64"
      ]
     },
     "execution_count": 303,
     "metadata": {},
     "output_type": "execute_result"
    }
   ],
   "source": [
    "\n",
    "# a series is a vector with an index\n",
    "world_pop_s = pd.Series(world_pop)\n",
    "world_pop_s"
   ]
  },
  {
   "cell_type": "code",
   "execution_count": null,
   "metadata": {
    "id": "A20uxf3mTarz",
    "outputId": "263136df-5051-442c-b3d2-9a465a707082"
   },
   "outputs": [
    {
     "data": {
      "text/plain": [
       "np.int64(3026003)"
      ]
     },
     "execution_count": 304,
     "metadata": {},
     "output_type": "execute_result"
    }
   ],
   "source": [
    "# selection and slicing are similar to lists\n",
    "world_pop_s[1]\n"
   ]
  },
  {
   "cell_type": "code",
   "execution_count": null,
   "metadata": {},
   "outputs": [
    {
     "data": {
      "text/plain": [
       "0    2525779\n",
       "1    3026003\n",
       "2    3691173\n",
       "3    4449049\n",
       "dtype: int64"
      ]
     },
     "execution_count": 305,
     "metadata": {},
     "output_type": "execute_result"
    }
   ],
   "source": [
    "world_pop_s[:4]"
   ]
  },
  {
   "cell_type": "code",
   "execution_count": null,
   "metadata": {
    "id": "3AKO0CJMTarz",
    "outputId": "4093d87b-eaf1-430e-d895-00f7edf8c5f9"
   },
   "outputs": [
    {
     "data": {
      "text/plain": [
       "0    2525779\n",
       "2    3691173\n",
       "dtype: int64"
      ]
     },
     "execution_count": 306,
     "metadata": {},
     "output_type": "execute_result"
    }
   ],
   "source": [
    "# select non-consecutive observations\n",
    "world_pop_s[[0, 2]]"
   ]
  },
  {
   "cell_type": "code",
   "execution_count": null,
   "metadata": {
    "id": "9-gfD-_OTarz",
    "outputId": "e36aee96-4fe8-46c4-ef84-1360addda7be"
   },
   "outputs": [
    {
     "data": {
      "text/plain": [
       "0    2525779\n",
       "1    3026003\n",
       "3    4449049\n",
       "4    5320817\n",
       "5    6127700\n",
       "6    6916183\n",
       "dtype: int64"
      ]
     },
     "execution_count": 307,
     "metadata": {},
     "output_type": "execute_result"
    }
   ],
   "source": [
    "# select everything except the third observation\n",
    "world_pop_s.drop(2)\n",
    "\n",
    "# drop() returns a new Series with the specified index removed."
   ]
  },
  {
   "cell_type": "code",
   "execution_count": null,
   "metadata": {
    "id": "nbPh-t7oTar0",
    "outputId": "fb9e58f8-701a-4b99-d95c-88a3c070beab"
   },
   "outputs": [
    {
     "data": {
      "text/plain": [
       "0    2525779\n",
       "1    3026003\n",
       "2    3691173\n",
       "3    4449049\n",
       "4    5320817\n",
       "5    6127700\n",
       "dtype: int64"
      ]
     },
     "execution_count": 308,
     "metadata": {},
     "output_type": "execute_result"
    }
   ],
   "source": [
    "# select everything except the last observation\n",
    "world_pop_s[:-1]"
   ]
  },
  {
   "cell_type": "code",
   "execution_count": null,
   "metadata": {
    "id": "3XvVXaHhTar0",
    "outputId": "b96fa0d4-036b-4a67-d240-9f99fa9b8814"
   },
   "outputs": [
    {
     "data": {
      "text/plain": [
       "0    2525.779\n",
       "1    3026.003\n",
       "2    3691.173\n",
       "3    4449.049\n",
       "4    5320.817\n",
       "5    6127.700\n",
       "6    6916.183\n",
       "dtype: float64"
      ]
     },
     "execution_count": 388,
     "metadata": {},
     "output_type": "execute_result"
    }
   ],
   "source": [
    "# series are vectorized, they operate element-wise\n",
    "pop_million = world_pop_s / 1000\n",
    "world_pop_s\n",
    "pop_million"
   ]
  },
  {
   "cell_type": "code",
   "execution_count": null,
   "metadata": {
    "id": "bG3y8_kuTar0",
    "outputId": "09cca8bb-d01f-425f-d401-d3805ac89abf"
   },
   "outputs": [
    {
     "data": {
      "text/plain": [
       "0    1.000000\n",
       "1    1.198047\n",
       "2    1.461400\n",
       "3    1.761456\n",
       "4    2.106604\n",
       "5    2.426063\n",
       "6    2.738238\n",
       "dtype: float64"
      ]
     },
     "execution_count": 310,
     "metadata": {},
     "output_type": "execute_result"
    }
   ],
   "source": [
    "pop_rate = world_pop_s / world_pop_s[0]\n",
    "pop_rate"
   ]
  },
  {
   "cell_type": "markdown",
   "metadata": {
    "id": "RTWQjRFaTar0"
   },
   "source": [
    "Vector arithmetic with series requires that the indices match. One way to ensure this is to reset the index after slicing the series. Specify `drop=True` in `reset_index` to avoid adding the old index as a column."
   ]
  },
  {
   "cell_type": "code",
   "execution_count": null,
   "metadata": {
    "id": "jfV38tohTar0",
    "outputId": "72bd8c2c-6260-4046-a9a9-4a0f1c2914e9"
   },
   "outputs": [
    {
     "data": {
      "text/plain": [
       "Fri    NaN\n",
       "Mon    NaN\n",
       "Thu    0.0\n",
       "Tue    0.0\n",
       "Wed    0.0\n",
       "dtype: float64"
      ]
     },
     "execution_count": 392,
     "metadata": {},
     "output_type": "execute_result"
    }
   ],
   "source": [
    "temperatures = pd.Series([20, 22, 25, 23, 21], index=['Mon', 'Tue', 'Wed', 'Thu', 'Fri'])\n",
    "\n",
    "temps_without_monday = temperatures.drop('Mon')\n",
    "temps_without_friday = temperatures.drop('Fri')\n",
    "\n",
    "temps_without_monday - temps_without_friday\n",
    "\n",
    "# df.reset_index(drop=True, inplace = True) removes old index and creates a new sequential index\n",
    "# df.reset_index(drop=False) keeps the old index as a new column and creates a new sequential index\n",
    "\n",
    "\n",
    "# reassigns a clean sequential index to DF or Series\n",
    "# after dropping values, the index does not automatically reset\n",
    "\n"
   ]
  },
  {
   "cell_type": "code",
   "execution_count": null,
   "metadata": {},
   "outputs": [
    {
     "data": {
      "text/plain": [
       "0         NaN\n",
       "1    500224.0\n",
       "2    665170.0\n",
       "3    757876.0\n",
       "4    871768.0\n",
       "5    806883.0\n",
       "6    788483.0\n",
       "dtype: float64"
      ]
     },
     "execution_count": 312,
     "metadata": {},
     "output_type": "execute_result"
    }
   ],
   "source": [
    "#### This function is doing the exact same\n",
    "\n",
    "pop_increase = world_pop_s.diff()\n",
    "\n",
    "pop_increase\n",
    "\n",
    "# .diff() computes the difference between each element and its previous in the Series.\n"
   ]
  },
  {
   "cell_type": "code",
   "execution_count": null,
   "metadata": {
    "id": "3aL_Rvq5Tar0",
    "outputId": "7e890cf2-54d9-4a8e-976b-4f4b1ba995ea"
   },
   "outputs": [
    {
     "data": {
      "text/plain": [
       "0          NaN\n",
       "1    16.530849\n",
       "2    18.020559\n",
       "3    17.034562\n",
       "4    16.384100\n",
       "5    13.167795\n",
       "6    11.400551\n",
       "dtype: float64"
      ]
     },
     "execution_count": 313,
     "metadata": {},
     "output_type": "execute_result"
    }
   ],
   "source": [
    "percent_increase = pop_increase / world_pop_s * 100\n",
    "percent_increase"
   ]
  },
  {
   "cell_type": "code",
   "execution_count": null,
   "metadata": {
    "id": "HyUjcSLgTar0",
    "outputId": "bf375e55-3bf4-4b03-d4e0-84b0912dd3b6"
   },
   "outputs": [
    {
     "data": {
      "text/plain": [
       "0         NaN\n",
       "1    500224.0\n",
       "2    665170.0\n",
       "3    757876.0\n",
       "4    871768.0\n",
       "5    806883.0\n",
       "6    788483.0\n",
       "dtype: float64"
      ]
     },
     "execution_count": 396,
     "metadata": {},
     "output_type": "execute_result"
    }
   ],
   "source": [
    "import pandas as pd\n",
    "\n",
    "# .pct_change() calculates the percentage change between the current and its previous element.\n",
    "# .diff calculates the difference between the current and its previous element.\n",
    "world_pop_s.pct_change()\n",
    "world_pop_s.diff()\n"
   ]
  },
  {
   "cell_type": "code",
   "execution_count": null,
   "metadata": {},
   "outputs": [
    {
     "data": {
      "text/plain": [
       "Jan     150\n",
       "Feb     330\n",
       "Mar     495\n",
       "Apr     640\n",
       "May     830\n",
       "Jun    1000\n",
       "dtype: int64"
      ]
     },
     "execution_count": 406,
     "metadata": {},
     "output_type": "execute_result"
    }
   ],
   "source": [
    "### EXERCISE ###\n",
    "\n",
    "import pandas as pd\n",
    "import numpy as np\n",
    "\n",
    "sales = pd.Series([150, 180, 165, 145, 190, 170], \n",
    "                  index=['Jan', 'Feb', 'Mar', 'Apr', 'May', 'Jun'])\n",
    "\n",
    "# Tasks:\n",
    "# 1. Calculate average monthly sales\n",
    "sales.mean() # output: 166.66666666666666\n",
    "np.mean(sales) # output: 166.66666666666666 \n",
    "\n",
    "# 2. Find months with sales above 170\n",
    "# Hint: Use boolean indexing\n",
    "sales[sales > 170]\n",
    "\n",
    "\n",
    "# 3. Calculate the difference between each month's sales\n",
    "# Hint: Use the diff() method as above\n",
    "sales.diff()\n",
    "\n",
    "# 4. [New] Calculate cumulative sales by month\n",
    "# Hint: Use the cumsum() method - it adds up values cumulatively\n",
    "# # Check pd.Series.cumsum? if in doubt\n",
    "\n",
    "# .cumsum calculates a running total (adds each value to the sum of all previous values)\n",
    "\n",
    "# axis = 0 sums down the rows, axis = 1 sums across the columns\n",
    "# skipna = True ignores NaN values when performing the calculation\n",
    "\n",
    "sales.cumsum(axis = 0, skipna = True)\n"
   ]
  },
  {
   "cell_type": "markdown",
   "metadata": {
    "id": "Gh2nQGeCTar0"
   },
   "source": [
    "**DataFrame**"
   ]
  },
  {
   "cell_type": "code",
   "execution_count": null,
   "metadata": {},
   "outputs": [
    {
     "name": "stdout",
     "output_type": "stream",
     "text": [
      "       mall_name      region  shops  parking_lots  daily_footfall\n",
      "0    Ion Orchard     Central    300          1200           45000\n",
      "1       VivoCity       South    280          2179           38000\n",
      "2    Suntec City     Central    350          3200           42000\n",
      "3            Nex  North East    340          1300           35000\n",
      "4  Tampines Mall        East    230           800           28000\n"
     ]
    }
   ],
   "source": [
    "# DataFrame with Singapore retail malls\n",
    "df = pd.DataFrame({\n",
    "    'mall_name': ['Ion Orchard', 'VivoCity', 'Suntec City', 'Nex', 'Tampines Mall'],\n",
    "    'region': ['Central', 'South', 'Central', 'North East', 'East'],\n",
    "    'shops': [300, 280, 350, 340, 230],\n",
    "    'parking_lots': [1200, 2179, 3200, 1300, 800],\n",
    "    'daily_footfall': [45000, 38000, 42000, 35000, 28000]  # Average daily visitors\n",
    "})\n",
    "\n",
    "print(df)"
   ]
  },
  {
   "cell_type": "code",
   "execution_count": null,
   "metadata": {},
   "outputs": [
    {
     "data": {
      "text/plain": [
       "0      Ion Orchard\n",
       "1         VivoCity\n",
       "2      Suntec City\n",
       "3              Nex\n",
       "4    Tampines Mall\n",
       "Name: mall_name, dtype: object"
      ]
     },
     "execution_count": 409,
     "metadata": {},
     "output_type": "execute_result"
    }
   ],
   "source": [
    "df['mall_name'] # returns a Series"
   ]
  },
  {
   "cell_type": "code",
   "execution_count": null,
   "metadata": {},
   "outputs": [
    {
     "data": {
      "text/plain": [
       "0    45000\n",
       "1    38000\n",
       "2    42000\n",
       "3    35000\n",
       "4    28000\n",
       "Name: daily_footfall, dtype: int64"
      ]
     },
     "execution_count": 410,
     "metadata": {},
     "output_type": "execute_result"
    }
   ],
   "source": [
    "df['daily_footfall']"
   ]
  },
  {
   "cell_type": "code",
   "execution_count": null,
   "metadata": {},
   "outputs": [
    {
     "data": {
      "text/plain": [
       "pandas.core.series.Series"
      ]
     },
     "execution_count": 411,
     "metadata": {},
     "output_type": "execute_result"
    }
   ],
   "source": [
    "type(malls)"
   ]
  },
  {
   "cell_type": "code",
   "execution_count": null,
   "metadata": {},
   "outputs": [
    {
     "data": {
      "text/plain": [
       "pandas.core.series.Series"
      ]
     },
     "execution_count": 412,
     "metadata": {},
     "output_type": "execute_result"
    }
   ],
   "source": [
    "type(df['mall_name']) # output: pandas.core.series.Series"
   ]
  },
  {
   "cell_type": "code",
   "execution_count": null,
   "metadata": {},
   "outputs": [
    {
     "data": {
      "text/html": [
       "<div>\n",
       "<style scoped>\n",
       "    .dataframe tbody tr th:only-of-type {\n",
       "        vertical-align: middle;\n",
       "    }\n",
       "\n",
       "    .dataframe tbody tr th {\n",
       "        vertical-align: top;\n",
       "    }\n",
       "\n",
       "    .dataframe thead th {\n",
       "        text-align: right;\n",
       "    }\n",
       "</style>\n",
       "<table border=\"1\" class=\"dataframe\">\n",
       "  <thead>\n",
       "    <tr style=\"text-align: right;\">\n",
       "      <th></th>\n",
       "      <th>mall_name</th>\n",
       "      <th>region</th>\n",
       "      <th>shops</th>\n",
       "      <th>parking_lots</th>\n",
       "      <th>daily_footfall</th>\n",
       "    </tr>\n",
       "  </thead>\n",
       "  <tbody>\n",
       "    <tr>\n",
       "      <th>0</th>\n",
       "      <td>Ion Orchard</td>\n",
       "      <td>Central</td>\n",
       "      <td>300</td>\n",
       "      <td>1200</td>\n",
       "      <td>45000</td>\n",
       "    </tr>\n",
       "    <tr>\n",
       "      <th>1</th>\n",
       "      <td>VivoCity</td>\n",
       "      <td>South</td>\n",
       "      <td>280</td>\n",
       "      <td>2179</td>\n",
       "      <td>38000</td>\n",
       "    </tr>\n",
       "    <tr>\n",
       "      <th>2</th>\n",
       "      <td>Suntec City</td>\n",
       "      <td>Central</td>\n",
       "      <td>350</td>\n",
       "      <td>3200</td>\n",
       "      <td>42000</td>\n",
       "    </tr>\n",
       "    <tr>\n",
       "      <th>3</th>\n",
       "      <td>Nex</td>\n",
       "      <td>North East</td>\n",
       "      <td>340</td>\n",
       "      <td>1300</td>\n",
       "      <td>35000</td>\n",
       "    </tr>\n",
       "    <tr>\n",
       "      <th>4</th>\n",
       "      <td>Tampines Mall</td>\n",
       "      <td>East</td>\n",
       "      <td>230</td>\n",
       "      <td>800</td>\n",
       "      <td>28000</td>\n",
       "    </tr>\n",
       "  </tbody>\n",
       "</table>\n",
       "</div>"
      ],
      "text/plain": [
       "       mall_name      region  shops  parking_lots  daily_footfall\n",
       "0    Ion Orchard     Central    300          1200           45000\n",
       "1       VivoCity       South    280          2179           38000\n",
       "2    Suntec City     Central    350          3200           42000\n",
       "3            Nex  North East    340          1300           35000\n",
       "4  Tampines Mall        East    230           800           28000"
      ]
     },
     "execution_count": 408,
     "metadata": {},
     "output_type": "execute_result"
    }
   ],
   "source": [
    "# Basic Selection\n",
    "malls = df['mall_name']                    # Select mall names\n",
    "visitors = df['daily_footfall']            # Select visitor numbers\n",
    "\n",
    "#type(malls)\n",
    "\n",
    "df.head()"
   ]
  },
  {
   "cell_type": "code",
   "execution_count": null,
   "metadata": {},
   "outputs": [
    {
     "data": {
      "text/html": [
       "<div>\n",
       "<style scoped>\n",
       "    .dataframe tbody tr th:only-of-type {\n",
       "        vertical-align: middle;\n",
       "    }\n",
       "\n",
       "    .dataframe tbody tr th {\n",
       "        vertical-align: top;\n",
       "    }\n",
       "\n",
       "    .dataframe thead th {\n",
       "        text-align: right;\n",
       "    }\n",
       "</style>\n",
       "<table border=\"1\" class=\"dataframe\">\n",
       "  <thead>\n",
       "    <tr style=\"text-align: right;\">\n",
       "      <th></th>\n",
       "      <th>mall_name</th>\n",
       "      <th>region</th>\n",
       "      <th>shops</th>\n",
       "    </tr>\n",
       "  </thead>\n",
       "  <tbody>\n",
       "    <tr>\n",
       "      <th>0</th>\n",
       "      <td>Ion Orchard</td>\n",
       "      <td>Central</td>\n",
       "      <td>300</td>\n",
       "    </tr>\n",
       "    <tr>\n",
       "      <th>1</th>\n",
       "      <td>VivoCity</td>\n",
       "      <td>South</td>\n",
       "      <td>280</td>\n",
       "    </tr>\n",
       "    <tr>\n",
       "      <th>2</th>\n",
       "      <td>Suntec City</td>\n",
       "      <td>Central</td>\n",
       "      <td>350</td>\n",
       "    </tr>\n",
       "    <tr>\n",
       "      <th>3</th>\n",
       "      <td>Nex</td>\n",
       "      <td>North East</td>\n",
       "      <td>340</td>\n",
       "    </tr>\n",
       "    <tr>\n",
       "      <th>4</th>\n",
       "      <td>Tampines Mall</td>\n",
       "      <td>East</td>\n",
       "      <td>230</td>\n",
       "    </tr>\n",
       "  </tbody>\n",
       "</table>\n",
       "</div>"
      ],
      "text/plain": [
       "       mall_name      region  shops\n",
       "0    Ion Orchard     Central    300\n",
       "1       VivoCity       South    280\n",
       "2    Suntec City     Central    350\n",
       "3            Nex  North East    340\n",
       "4  Tampines Mall        East    230"
      ]
     },
     "execution_count": 318,
     "metadata": {},
     "output_type": "execute_result"
    }
   ],
   "source": [
    "# Select multiple columns\n",
    "location_info = df[['mall_name', 'region', 'shops']] # selecting a list of cols\n",
    "\n",
    "location_info\n"
   ]
  },
  {
   "cell_type": "code",
   "execution_count": null,
   "metadata": {},
   "outputs": [
    {
     "name": "stdout",
     "output_type": "stream",
     "text": [
      "mall_name         Ion Orchard\n",
      "region                Central\n",
      "shops                     300\n",
      "parking_lots             1200\n",
      "daily_footfall          45000\n",
      "Name: 0, dtype: object\n"
     ]
    }
   ],
   "source": [
    "# Row selection by index \"label\"\n",
    "mall_info1 = df.loc[0]  \n",
    "mall_info2 = df.loc[1] \n",
    "\n",
    "print(mall_info1)"
   ]
  },
  {
   "cell_type": "code",
   "execution_count": null,
   "metadata": {},
   "outputs": [
    {
     "data": {
      "text/plain": [
       "pandas.core.series.Series"
      ]
     },
     "execution_count": 320,
     "metadata": {},
     "output_type": "execute_result"
    }
   ],
   "source": [
    "type(mall_info1)"
   ]
  },
  {
   "cell_type": "code",
   "execution_count": null,
   "metadata": {},
   "outputs": [
    {
     "data": {
      "text/html": [
       "<div>\n",
       "<style scoped>\n",
       "    .dataframe tbody tr th:only-of-type {\n",
       "        vertical-align: middle;\n",
       "    }\n",
       "\n",
       "    .dataframe tbody tr th {\n",
       "        vertical-align: top;\n",
       "    }\n",
       "\n",
       "    .dataframe thead th {\n",
       "        text-align: right;\n",
       "    }\n",
       "</style>\n",
       "<table border=\"1\" class=\"dataframe\">\n",
       "  <thead>\n",
       "    <tr style=\"text-align: right;\">\n",
       "      <th></th>\n",
       "      <th>mall_name</th>\n",
       "      <th>region</th>\n",
       "      <th>shops</th>\n",
       "      <th>parking_lots</th>\n",
       "      <th>daily_footfall</th>\n",
       "    </tr>\n",
       "  </thead>\n",
       "  <tbody>\n",
       "    <tr>\n",
       "      <th>0</th>\n",
       "      <td>Ion Orchard</td>\n",
       "      <td>Central</td>\n",
       "      <td>300</td>\n",
       "      <td>1200</td>\n",
       "      <td>45000</td>\n",
       "    </tr>\n",
       "    <tr>\n",
       "      <th>2</th>\n",
       "      <td>Suntec City</td>\n",
       "      <td>Central</td>\n",
       "      <td>350</td>\n",
       "      <td>3200</td>\n",
       "      <td>42000</td>\n",
       "    </tr>\n",
       "  </tbody>\n",
       "</table>\n",
       "</div>"
      ],
      "text/plain": [
       "     mall_name   region  shops  parking_lots  daily_footfall\n",
       "0  Ion Orchard  Central    300          1200           45000\n",
       "2  Suntec City  Central    350          3200           42000"
      ]
     },
     "execution_count": 321,
     "metadata": {},
     "output_type": "execute_result"
    }
   ],
   "source": [
    "# Filtering Operations\n",
    "# Find malls with >40k daily visitors\n",
    "high_traffic = df[df['daily_footfall'] > 40000]\n",
    "\n",
    "high_traffic"
   ]
  },
  {
   "cell_type": "code",
   "execution_count": null,
   "metadata": {},
   "outputs": [
    {
     "data": {
      "text/html": [
       "<div>\n",
       "<style scoped>\n",
       "    .dataframe tbody tr th:only-of-type {\n",
       "        vertical-align: middle;\n",
       "    }\n",
       "\n",
       "    .dataframe tbody tr th {\n",
       "        vertical-align: top;\n",
       "    }\n",
       "\n",
       "    .dataframe thead th {\n",
       "        text-align: right;\n",
       "    }\n",
       "</style>\n",
       "<table border=\"1\" class=\"dataframe\">\n",
       "  <thead>\n",
       "    <tr style=\"text-align: right;\">\n",
       "      <th></th>\n",
       "      <th>mall_name</th>\n",
       "      <th>region</th>\n",
       "      <th>shops</th>\n",
       "      <th>parking_lots</th>\n",
       "      <th>daily_footfall</th>\n",
       "    </tr>\n",
       "  </thead>\n",
       "  <tbody>\n",
       "    <tr>\n",
       "      <th>1</th>\n",
       "      <td>VivoCity</td>\n",
       "      <td>South</td>\n",
       "      <td>280</td>\n",
       "      <td>2179</td>\n",
       "      <td>38000</td>\n",
       "    </tr>\n",
       "    <tr>\n",
       "      <th>3</th>\n",
       "      <td>Nex</td>\n",
       "      <td>North East</td>\n",
       "      <td>340</td>\n",
       "      <td>1300</td>\n",
       "      <td>35000</td>\n",
       "    </tr>\n",
       "    <tr>\n",
       "      <th>4</th>\n",
       "      <td>Tampines Mall</td>\n",
       "      <td>East</td>\n",
       "      <td>230</td>\n",
       "      <td>800</td>\n",
       "      <td>28000</td>\n",
       "    </tr>\n",
       "  </tbody>\n",
       "</table>\n",
       "</div>"
      ],
      "text/plain": [
       "       mall_name      region  shops  parking_lots  daily_footfall\n",
       "1       VivoCity       South    280          2179           38000\n",
       "3            Nex  North East    340          1300           35000\n",
       "4  Tampines Mall        East    230           800           28000"
      ]
     },
     "execution_count": 322,
     "metadata": {},
     "output_type": "execute_result"
    }
   ],
   "source": [
    "# Find malls in Central region\n",
    "not_central_malls = df[df['region'] != 'Central']\n",
    "\n",
    "not_central_malls"
   ]
  },
  {
   "cell_type": "code",
   "execution_count": null,
   "metadata": {},
   "outputs": [
    {
     "data": {
      "text/html": [
       "<div>\n",
       "<style scoped>\n",
       "    .dataframe tbody tr th:only-of-type {\n",
       "        vertical-align: middle;\n",
       "    }\n",
       "\n",
       "    .dataframe tbody tr th {\n",
       "        vertical-align: top;\n",
       "    }\n",
       "\n",
       "    .dataframe thead th {\n",
       "        text-align: right;\n",
       "    }\n",
       "</style>\n",
       "<table border=\"1\" class=\"dataframe\">\n",
       "  <thead>\n",
       "    <tr style=\"text-align: right;\">\n",
       "      <th></th>\n",
       "      <th>mall_name</th>\n",
       "      <th>region</th>\n",
       "      <th>shops</th>\n",
       "      <th>parking_lots</th>\n",
       "      <th>daily_footfall</th>\n",
       "      <th>shops_per_visitor</th>\n",
       "    </tr>\n",
       "  </thead>\n",
       "  <tbody>\n",
       "    <tr>\n",
       "      <th>0</th>\n",
       "      <td>Ion Orchard</td>\n",
       "      <td>Central</td>\n",
       "      <td>300</td>\n",
       "      <td>1200</td>\n",
       "      <td>45000</td>\n",
       "      <td>6.666667</td>\n",
       "    </tr>\n",
       "    <tr>\n",
       "      <th>1</th>\n",
       "      <td>VivoCity</td>\n",
       "      <td>South</td>\n",
       "      <td>280</td>\n",
       "      <td>2179</td>\n",
       "      <td>38000</td>\n",
       "      <td>7.368421</td>\n",
       "    </tr>\n",
       "    <tr>\n",
       "      <th>2</th>\n",
       "      <td>Suntec City</td>\n",
       "      <td>Central</td>\n",
       "      <td>350</td>\n",
       "      <td>3200</td>\n",
       "      <td>42000</td>\n",
       "      <td>8.333333</td>\n",
       "    </tr>\n",
       "    <tr>\n",
       "      <th>3</th>\n",
       "      <td>Nex</td>\n",
       "      <td>North East</td>\n",
       "      <td>340</td>\n",
       "      <td>1300</td>\n",
       "      <td>35000</td>\n",
       "      <td>9.714286</td>\n",
       "    </tr>\n",
       "    <tr>\n",
       "      <th>4</th>\n",
       "      <td>Tampines Mall</td>\n",
       "      <td>East</td>\n",
       "      <td>230</td>\n",
       "      <td>800</td>\n",
       "      <td>28000</td>\n",
       "      <td>8.214286</td>\n",
       "    </tr>\n",
       "  </tbody>\n",
       "</table>\n",
       "</div>"
      ],
      "text/plain": [
       "       mall_name      region  shops  parking_lots  daily_footfall  \\\n",
       "0    Ion Orchard     Central    300          1200           45000   \n",
       "1       VivoCity       South    280          2179           38000   \n",
       "2    Suntec City     Central    350          3200           42000   \n",
       "3            Nex  North East    340          1300           35000   \n",
       "4  Tampines Mall        East    230           800           28000   \n",
       "\n",
       "   shops_per_visitor  \n",
       "0           6.666667  \n",
       "1           7.368421  \n",
       "2           8.333333  \n",
       "3           9.714286  \n",
       "4           8.214286  "
      ]
     },
     "execution_count": 415,
     "metadata": {},
     "output_type": "execute_result"
    }
   ],
   "source": [
    "# Calculations\n",
    "# Add new column for shops per 1000 visitors\n",
    "df['shops_per_visitor'] = (df['shops'] / df['daily_footfall'] * 1000)\n",
    "df"
   ]
  },
  {
   "cell_type": "code",
   "execution_count": null,
   "metadata": {},
   "outputs": [
    {
     "data": {
      "text/plain": [
       "region\n",
       "Central       43500.0\n",
       "East          28000.0\n",
       "North East    35000.0\n",
       "South         38000.0\n",
       "Name: daily_footfall, dtype: float64"
      ]
     },
     "execution_count": 325,
     "metadata": {},
     "output_type": "execute_result"
    }
   ],
   "source": [
    "# Grouping and Aggregation\n",
    "# Average footfall by region\n",
    "avg_by_region = df.groupby('region')['daily_footfall'].mean() #.round(0)\n",
    "# mean of footfall by region\n",
    "avg_by_region"
   ]
  },
  {
   "cell_type": "code",
   "execution_count": null,
   "metadata": {},
   "outputs": [
    {
     "data": {
      "text/plain": [
       "region\n",
       "Central       325.0\n",
       "East          230.0\n",
       "North East    340.0\n",
       "South         280.0\n",
       "Name: shops, dtype: float64"
      ]
     },
     "execution_count": 326,
     "metadata": {},
     "output_type": "execute_result"
    }
   ],
   "source": [
    "# Total shops by region\n",
    "shops_by_region = df.groupby('region')['shops'].mean().round(0)\n",
    "# mean of shop by region\n",
    "shops_by_region"
   ]
  },
  {
   "cell_type": "code",
   "execution_count": null,
   "metadata": {
    "id": "yEAryTbnTar0",
    "outputId": "292fd7a0-7893-41cb-cb5a-da61eabf0cb4"
   },
   "outputs": [
    {
     "data": {
      "text/html": [
       "<div>\n",
       "<style scoped>\n",
       "    .dataframe tbody tr th:only-of-type {\n",
       "        vertical-align: middle;\n",
       "    }\n",
       "\n",
       "    .dataframe tbody tr th {\n",
       "        vertical-align: top;\n",
       "    }\n",
       "\n",
       "    .dataframe thead th {\n",
       "        text-align: right;\n",
       "    }\n",
       "</style>\n",
       "<table border=\"1\" class=\"dataframe\">\n",
       "  <thead>\n",
       "    <tr style=\"text-align: right;\">\n",
       "      <th></th>\n",
       "      <th>year</th>\n",
       "      <th>pop</th>\n",
       "    </tr>\n",
       "  </thead>\n",
       "  <tbody>\n",
       "    <tr>\n",
       "      <th>0</th>\n",
       "      <td>1950</td>\n",
       "      <td>2525779</td>\n",
       "    </tr>\n",
       "    <tr>\n",
       "      <th>1</th>\n",
       "      <td>1960</td>\n",
       "      <td>3026003</td>\n",
       "    </tr>\n",
       "    <tr>\n",
       "      <th>2</th>\n",
       "      <td>1970</td>\n",
       "      <td>3691173</td>\n",
       "    </tr>\n",
       "    <tr>\n",
       "      <th>3</th>\n",
       "      <td>1980</td>\n",
       "      <td>4449049</td>\n",
       "    </tr>\n",
       "    <tr>\n",
       "      <th>4</th>\n",
       "      <td>1990</td>\n",
       "      <td>5320817</td>\n",
       "    </tr>\n",
       "    <tr>\n",
       "      <th>5</th>\n",
       "      <td>2000</td>\n",
       "      <td>6127700</td>\n",
       "    </tr>\n",
       "    <tr>\n",
       "      <th>6</th>\n",
       "      <td>2010</td>\n",
       "      <td>6916183</td>\n",
       "    </tr>\n",
       "  </tbody>\n",
       "</table>\n",
       "</div>"
      ],
      "text/plain": [
       "   year      pop\n",
       "0  1950  2525779\n",
       "1  1960  3026003\n",
       "2  1970  3691173\n",
       "3  1980  4449049\n",
       "4  1990  5320817\n",
       "5  2000  6127700\n",
       "6  2010  6916183"
      ]
     },
     "execution_count": 327,
     "metadata": {},
     "output_type": "execute_result"
    }
   ],
   "source": [
    "world_pop = [2525779, 3026003, 3691173, 4449049, 5320817, 6127700, 6916183]\n",
    "world_pop\n",
    "\n",
    "world_pop_df = pd.DataFrame(\n",
    "    # build the data frame from a dictionary of lists\n",
    "    {'year': list(range(1950, 2011, 10)),\n",
    "    'pop': world_pop}\n",
    ")\n",
    "\n",
    "world_pop_df"
   ]
  },
  {
   "cell_type": "code",
   "execution_count": null,
   "metadata": {
    "id": "YXkiJs-6Tar0",
    "outputId": "2e207cbe-112c-4fa1-be09-64c6b249cf8b"
   },
   "outputs": [
    {
     "data": {
      "text/plain": [
       "Index(['year', 'pop'], dtype='object')"
      ]
     },
     "execution_count": 328,
     "metadata": {},
     "output_type": "execute_result"
    }
   ],
   "source": [
    "world_pop_df.columns\n",
    "# this gives you column names"
   ]
  },
  {
   "cell_type": "code",
   "execution_count": null,
   "metadata": {
    "id": "BnRC-hEYTar0",
    "outputId": "dfb2cac8-e7c5-4bc5-912f-cbb74ec85d6f"
   },
   "outputs": [
    {
     "data": {
      "text/plain": [
       "(7, 2)"
      ]
     },
     "execution_count": 329,
     "metadata": {},
     "output_type": "execute_result"
    }
   ],
   "source": [
    "world_pop_df.shape\n",
    "# (rows, cols)"
   ]
  },
  {
   "cell_type": "code",
   "execution_count": null,
   "metadata": {
    "id": "I7GA93-hTar0",
    "outputId": "c2799e84-ddb5-4668-9d64-83e9d3c7043b"
   },
   "outputs": [
    {
     "data": {
      "text/html": [
       "<div>\n",
       "<style scoped>\n",
       "    .dataframe tbody tr th:only-of-type {\n",
       "        vertical-align: middle;\n",
       "    }\n",
       "\n",
       "    .dataframe tbody tr th {\n",
       "        vertical-align: top;\n",
       "    }\n",
       "\n",
       "    .dataframe thead th {\n",
       "        text-align: right;\n",
       "    }\n",
       "</style>\n",
       "<table border=\"1\" class=\"dataframe\">\n",
       "  <thead>\n",
       "    <tr style=\"text-align: right;\">\n",
       "      <th></th>\n",
       "      <th>year</th>\n",
       "      <th>pop</th>\n",
       "    </tr>\n",
       "  </thead>\n",
       "  <tbody>\n",
       "    <tr>\n",
       "      <th>count</th>\n",
       "      <td>7.000000</td>\n",
       "      <td>7.000000e+00</td>\n",
       "    </tr>\n",
       "    <tr>\n",
       "      <th>mean</th>\n",
       "      <td>1980.000000</td>\n",
       "      <td>4.579529e+06</td>\n",
       "    </tr>\n",
       "    <tr>\n",
       "      <th>std</th>\n",
       "      <td>21.602469</td>\n",
       "      <td>1.625004e+06</td>\n",
       "    </tr>\n",
       "    <tr>\n",
       "      <th>min</th>\n",
       "      <td>1950.000000</td>\n",
       "      <td>2.525779e+06</td>\n",
       "    </tr>\n",
       "    <tr>\n",
       "      <th>25%</th>\n",
       "      <td>1965.000000</td>\n",
       "      <td>3.358588e+06</td>\n",
       "    </tr>\n",
       "    <tr>\n",
       "      <th>50%</th>\n",
       "      <td>1980.000000</td>\n",
       "      <td>4.449049e+06</td>\n",
       "    </tr>\n",
       "    <tr>\n",
       "      <th>75%</th>\n",
       "      <td>1995.000000</td>\n",
       "      <td>5.724258e+06</td>\n",
       "    </tr>\n",
       "    <tr>\n",
       "      <th>max</th>\n",
       "      <td>2010.000000</td>\n",
       "      <td>6.916183e+06</td>\n",
       "    </tr>\n",
       "  </tbody>\n",
       "</table>\n",
       "</div>"
      ],
      "text/plain": [
       "              year           pop\n",
       "count     7.000000  7.000000e+00\n",
       "mean   1980.000000  4.579529e+06\n",
       "std      21.602469  1.625004e+06\n",
       "min    1950.000000  2.525779e+06\n",
       "25%    1965.000000  3.358588e+06\n",
       "50%    1980.000000  4.449049e+06\n",
       "75%    1995.000000  5.724258e+06\n",
       "max    2010.000000  6.916183e+06"
      ]
     },
     "execution_count": 330,
     "metadata": {},
     "output_type": "execute_result"
    }
   ],
   "source": [
    "world_pop_df.describe()\n",
    "# summary statistics"
   ]
  },
  {
   "cell_type": "code",
   "execution_count": null,
   "metadata": {
    "id": "8_RwTBnUTar0",
    "outputId": "7abf5e15-b7fd-428a-b6bd-8fb695536807"
   },
   "outputs": [
    {
     "data": {
      "text/html": [
       "<div>\n",
       "<style scoped>\n",
       "    .dataframe tbody tr th:only-of-type {\n",
       "        vertical-align: middle;\n",
       "    }\n",
       "\n",
       "    .dataframe tbody tr th {\n",
       "        vertical-align: top;\n",
       "    }\n",
       "\n",
       "    .dataframe thead th {\n",
       "        text-align: right;\n",
       "    }\n",
       "</style>\n",
       "<table border=\"1\" class=\"dataframe\">\n",
       "  <thead>\n",
       "    <tr style=\"text-align: right;\">\n",
       "      <th></th>\n",
       "      <th>year</th>\n",
       "      <th>pop</th>\n",
       "    </tr>\n",
       "  </thead>\n",
       "  <tbody>\n",
       "    <tr>\n",
       "      <th>count</th>\n",
       "      <td>7</td>\n",
       "      <td>7</td>\n",
       "    </tr>\n",
       "    <tr>\n",
       "      <th>mean</th>\n",
       "      <td>1980</td>\n",
       "      <td>4579529</td>\n",
       "    </tr>\n",
       "    <tr>\n",
       "      <th>std</th>\n",
       "      <td>21</td>\n",
       "      <td>1625003</td>\n",
       "    </tr>\n",
       "    <tr>\n",
       "      <th>min</th>\n",
       "      <td>1950</td>\n",
       "      <td>2525779</td>\n",
       "    </tr>\n",
       "    <tr>\n",
       "      <th>25%</th>\n",
       "      <td>1965</td>\n",
       "      <td>3358588</td>\n",
       "    </tr>\n",
       "    <tr>\n",
       "      <th>50%</th>\n",
       "      <td>1980</td>\n",
       "      <td>4449049</td>\n",
       "    </tr>\n",
       "    <tr>\n",
       "      <th>75%</th>\n",
       "      <td>1995</td>\n",
       "      <td>5724258</td>\n",
       "    </tr>\n",
       "    <tr>\n",
       "      <th>max</th>\n",
       "      <td>2010</td>\n",
       "      <td>6916183</td>\n",
       "    </tr>\n",
       "  </tbody>\n",
       "</table>\n",
       "</div>"
      ],
      "text/plain": [
       "       year      pop\n",
       "count     7        7\n",
       "mean   1980  4579529\n",
       "std      21  1625003\n",
       "min    1950  2525779\n",
       "25%    1965  3358588\n",
       "50%    1980  4449049\n",
       "75%    1995  5724258\n",
       "max    2010  6916183"
      ]
     },
     "execution_count": 490,
     "metadata": {},
     "output_type": "execute_result"
    }
   ],
   "source": [
    "# display the summary as integers\n",
    "world_pop_df.describe().astype(int)"
   ]
  },
  {
   "cell_type": "code",
   "execution_count": null,
   "metadata": {
    "id": "HfFfP4CDTar1",
    "outputId": "38d17668-0b0a-4c9c-b90f-88a894eff46a"
   },
   "outputs": [
    {
     "data": {
      "text/plain": [
       "0    2525779\n",
       "1    3026003\n",
       "2    3691173\n",
       "3    4449049\n",
       "4    5320817\n",
       "5    6127700\n",
       "6    6916183\n",
       "Name: pop, dtype: int64"
      ]
     },
     "execution_count": 332,
     "metadata": {},
     "output_type": "execute_result"
    }
   ],
   "source": [
    "# extract the 'pop' column; returns a series\n",
    "world_pop_df['pop']"
   ]
  },
  {
   "cell_type": "code",
   "execution_count": null,
   "metadata": {
    "id": "mVxaQ6MSTar1",
    "outputId": "f07f6d80-a17e-4c89-ccfe-fcb75de6d71f"
   },
   "outputs": [
    {
     "data": {
      "text/plain": [
       "year       1980.0\n",
       "pop     4579529.0\n",
       "dtype: float64"
      ]
     },
     "execution_count": 333,
     "metadata": {},
     "output_type": "execute_result"
    }
   ],
   "source": [
    "import pandas as pd # pandas ignores NA values by default\n",
    "\n",
    "world_pop_df.mean().round(0)"
   ]
  },
  {
   "cell_type": "code",
   "execution_count": null,
   "metadata": {
    "id": "j5pS8YjlTar1",
    "outputId": "c1ab4086-84fa-4b1b-9924-6d1b4c1bfcd7"
   },
   "outputs": [
    {
     "data": {
      "text/plain": [
       "year    1.980000e+03\n",
       "pop     4.579529e+06\n",
       "dtype: float64"
      ]
     },
     "execution_count": 334,
     "metadata": {},
     "output_type": "execute_result"
    }
   ],
   "source": [
    "# we can override this behavior\n",
    "world_pop_df.mean(skipna=False)\n",
    "# this will return NaN if there are any NA values"
   ]
  },
  {
   "cell_type": "code",
   "execution_count": null,
   "metadata": {
    "id": "GaNWBb__Tar1",
    "outputId": "a3189342-fe5f-4719-e3df-00a8100d7996"
   },
   "outputs": [
    {
     "data": {
      "text/plain": [
       "0    2525779\n",
       "1    3026003\n",
       "2    3691173\n",
       "3    4449049\n",
       "4    5320817\n",
       "5    6127700\n",
       "6    6916183\n",
       "Name: pop, dtype: int64"
      ]
     },
     "execution_count": 335,
     "metadata": {},
     "output_type": "execute_result"
    }
   ],
   "source": [
    "world_pop = world_pop_df['pop']\n",
    "world_pop"
   ]
  },
  {
   "cell_type": "code",
   "execution_count": null,
   "metadata": {
    "id": "BzbeeLo1Tar1",
    "outputId": "db62b825-488f-4aec-a002-50ae4d4fd726"
   },
   "outputs": [
    {
     "data": {
      "text/plain": [
       "7"
      ]
     },
     "execution_count": 336,
     "metadata": {},
     "output_type": "execute_result"
    }
   ],
   "source": [
    "len(world_pop)"
   ]
  },
  {
   "cell_type": "code",
   "execution_count": null,
   "metadata": {},
   "outputs": [
    {
     "data": {
      "text/plain": [
       "pandas.core.series.Series"
      ]
     },
     "execution_count": 337,
     "metadata": {},
     "output_type": "execute_result"
    }
   ],
   "source": [
    "type(world_pop)"
   ]
  },
  {
   "cell_type": "code",
   "execution_count": null,
   "metadata": {
    "id": "X4AyFqF3Tar1",
    "outputId": "4716e96d-43cb-479b-dbc1-32809ae1f37c"
   },
   "outputs": [
    {
     "data": {
      "text/plain": [
       "2525779"
      ]
     },
     "execution_count": 338,
     "metadata": {},
     "output_type": "execute_result"
    }
   ],
   "source": [
    "# Methods are functions that are attached to objects\n",
    "world_pop.min() # Access methods using the dot notation"
   ]
  },
  {
   "cell_type": "code",
   "execution_count": null,
   "metadata": {
    "id": "A7YsW5gTTar2",
    "outputId": "500e91f7-6d06-4059-9e7b-f023cfe1469e"
   },
   "outputs": [
    {
     "data": {
      "text/plain": [
       "np.float64(4579529.14)"
      ]
     },
     "execution_count": 339,
     "metadata": {},
     "output_type": "execute_result"
    }
   ],
   "source": [
    "world_pop.mean().round(2)"
   ]
  },
  {
   "cell_type": "code",
   "execution_count": null,
   "metadata": {
    "id": "2LDgjJQLTar2",
    "outputId": "c733160b-0fd0-415f-f2f3-0cdb0e4bc1b2"
   },
   "outputs": [
    {
     "data": {
      "text/plain": [
       "np.float64(4579529.142857143)"
      ]
     },
     "execution_count": 340,
     "metadata": {},
     "output_type": "execute_result"
    }
   ],
   "source": [
    "world_pop.sum() / len(world_pop)\n",
    "# this gives the same result as mean()"
   ]
  },
  {
   "cell_type": "code",
   "execution_count": null,
   "metadata": {},
   "outputs": [
    {
     "data": {
      "text/plain": [
       "0    2525779\n",
       "1    3026003\n",
       "2    3691173\n",
       "3    4449049\n",
       "4    5320817\n",
       "5    6127700\n",
       "6    6916183\n",
       "Name: pop, dtype: int64"
      ]
     },
     "execution_count": 341,
     "metadata": {},
     "output_type": "execute_result"
    }
   ],
   "source": [
    "world_pop"
   ]
  },
  {
   "cell_type": "code",
   "execution_count": null,
   "metadata": {},
   "outputs": [
    {
     "data": {
      "text/plain": [
       "flat_type\n",
       "3-Room    1\n",
       "4-Room    3\n",
       "5-Room    2\n",
       "Name: flat_type, dtype: int64"
      ]
     },
     "execution_count": 575,
     "metadata": {},
     "output_type": "execute_result"
    }
   ],
   "source": [
    "### EXERCISE: Properties ###\n",
    "\n",
    "# Below is a DataFrame of HDB resale transactions\n",
    "property_data = pd.DataFrame({\n",
    "    'town': ['Punggol', 'Tampines', 'Sengkang', 'Punggol', 'Sengkang', 'Tampines'],\n",
    "    'flat_type': ['4-Room', '5-Room', '4-Room', '3-Room', '5-Room', '4-Room'],\n",
    "    'floor_area': [95, 120, 93, 68, 118, 90],  # square meters\n",
    "    'price': [480000, 588000, 455000, 380000, 598000, 465000],\n",
    "    'age': [8, 15, 10, 5, 12, 18]  # years\n",
    "})\n",
    "\n",
    "# Tasks:\n",
    "# 1. Calculate price per square meter for each flat\n",
    "#    Create a new column 'price_per_sqm'\n",
    "property_data['price_per_sqm'] = property_data['price'] / property_data['floor_area']\n",
    "# 2. Find the average price for each town\n",
    "#    Hint: Use groupby()\n",
    "property_data.groupby('town')['price'].mean()\n",
    "\n",
    "# 3. Filter and show only flats that are:\n",
    "#    - Less than 10 years old AND\n",
    "#    - Larger than 100 square meters\n",
    "#    Hint: Use multiple conditions\n",
    "property_data[(property_data['age']<10) & (property_data['floor_area']>100)]\n",
    "\n",
    "# df[df['age'] < 10] \n",
    "# df[(df['age'] < 10) & (df['floor_area'] > 100)]\n",
    "\n",
    "# 4. For each flat_type, calculate:\n",
    "#    - Average price\n",
    "#    - Average floor area\n",
    "#    - Count of flats\n",
    "#    Hint: Use groupby() with multiple aggregations\n",
    "property_data.groupby('flat_type')['price'].mean()\n",
    "property_data.groupby('flat_type')['floor_area'].mean()\n",
    "property_data.groupby('flat_type')['flat_type'].count()\n",
    "\n",
    "# OR AGG\n",
    "property_data.groupby('flat_type').agg({\n",
    "    'price': 'mean',\n",
    "    'floor_area': 'mean',\n",
    "    'flat_type': 'count'\n",
    "})\n",
    "\n",
    "# multiple agg\n",
    "# df.groupby('department').agg({\n",
    "#     'salary': ['mean', 'max', 'min', lambda x: x.max() - x.min()],\n",
    "#     'age' : ['median', 'mean', 'count', 'sum']\n",
    "# })\n",
    "\n",
    "# multiple agg with lambda functions\n",
    "# df.groupby('department').agg({\n",
    "#     'salary': ['mean', lambda x: x.max() - x.min()],\n",
    "#     'age' : lambda x: [x.median(), x.mean()]\n",
    "# })\n",
    "\n",
    "# this gives mean salary, range of salary, median age, mean age by department\n",
    "\n",
    "# What is .agg()?\n",
    "# It allows you to apply multiple aggregation functions to different columns in a DataFrame.\n",
    "# You pass a dictionary where keys are column names and values are the aggregation functions to apply.\n",
    "# For example, in the code above:\n",
    "# - 'price': 'mean' calculates the average price for each flat_type.\n",
    "# - 'floor_area': 'mean' calculates the average floor area for each flat_type.\n",
    "# - 'flat_type': 'count' counts the number of entries for each flat_type.\n",
    "# The result is a new DataFrame with the aggregated values.\n",
    "# This is useful for summarizing data in a concise way.\n",
    "\n",
    "# 5. Sort the flats by price in descending order and \n",
    "#    show only the top 3 most expensive flats\n",
    "#    Hint: Use sort_values() and head()\n",
    "property_data.sort_values(by='price', ascending=False).head(3)\n",
    "\n",
    "# df.sort_values(by='col_name', ascending = True)\n",
    "# df.sort_values(by=['age','salary'], ascending = [True, False], na_position='first')\n",
    "# this sorts first by age ascending, then sorts by salary descending if there is a tie for ages\n",
    "# na_position decides where the nan appears, top or bottom, default is bottom\n",
    "\n",
    "\n",
    "\n"
   ]
  },
  {
   "cell_type": "code",
   "execution_count": null,
   "metadata": {},
   "outputs": [
    {
     "data": {
      "text/html": [
       "<div>\n",
       "<style scoped>\n",
       "    .dataframe tbody tr th:only-of-type {\n",
       "        vertical-align: middle;\n",
       "    }\n",
       "\n",
       "    .dataframe tbody tr th {\n",
       "        vertical-align: top;\n",
       "    }\n",
       "\n",
       "    .dataframe thead th {\n",
       "        text-align: right;\n",
       "    }\n",
       "</style>\n",
       "<table border=\"1\" class=\"dataframe\">\n",
       "  <thead>\n",
       "    <tr style=\"text-align: right;\">\n",
       "      <th></th>\n",
       "      <th>town</th>\n",
       "      <th>flat_type</th>\n",
       "      <th>floor_area</th>\n",
       "      <th>price</th>\n",
       "      <th>age</th>\n",
       "    </tr>\n",
       "  </thead>\n",
       "  <tbody>\n",
       "    <tr>\n",
       "      <th>0</th>\n",
       "      <td>Punggol</td>\n",
       "      <td>4-Room</td>\n",
       "      <td>95</td>\n",
       "      <td>480000</td>\n",
       "      <td>8</td>\n",
       "    </tr>\n",
       "    <tr>\n",
       "      <th>1</th>\n",
       "      <td>Tampines</td>\n",
       "      <td>5-Room</td>\n",
       "      <td>120</td>\n",
       "      <td>588000</td>\n",
       "      <td>15</td>\n",
       "    </tr>\n",
       "    <tr>\n",
       "      <th>2</th>\n",
       "      <td>Sengkang</td>\n",
       "      <td>4-Room</td>\n",
       "      <td>93</td>\n",
       "      <td>455000</td>\n",
       "      <td>10</td>\n",
       "    </tr>\n",
       "    <tr>\n",
       "      <th>3</th>\n",
       "      <td>Punggol</td>\n",
       "      <td>3-Room</td>\n",
       "      <td>68</td>\n",
       "      <td>380000</td>\n",
       "      <td>5</td>\n",
       "    </tr>\n",
       "    <tr>\n",
       "      <th>4</th>\n",
       "      <td>Sengkang</td>\n",
       "      <td>5-Room</td>\n",
       "      <td>118</td>\n",
       "      <td>598000</td>\n",
       "      <td>12</td>\n",
       "    </tr>\n",
       "    <tr>\n",
       "      <th>5</th>\n",
       "      <td>Tampines</td>\n",
       "      <td>4-Room</td>\n",
       "      <td>90</td>\n",
       "      <td>465000</td>\n",
       "      <td>18</td>\n",
       "    </tr>\n",
       "  </tbody>\n",
       "</table>\n",
       "</div>"
      ],
      "text/plain": [
       "       town flat_type  floor_area   price  age\n",
       "0   Punggol    4-Room          95  480000    8\n",
       "1  Tampines    5-Room         120  588000   15\n",
       "2  Sengkang    4-Room          93  455000   10\n",
       "3   Punggol    3-Room          68  380000    5\n",
       "4  Sengkang    5-Room         118  598000   12\n",
       "5  Tampines    4-Room          90  465000   18"
      ]
     },
     "execution_count": 343,
     "metadata": {},
     "output_type": "execute_result"
    }
   ],
   "source": [
    "property_data"
   ]
  },
  {
   "cell_type": "code",
   "execution_count": 577,
   "metadata": {},
   "outputs": [
    {
     "data": {
      "text/html": [
       "<div>\n",
       "<style scoped>\n",
       "    .dataframe tbody tr th:only-of-type {\n",
       "        vertical-align: middle;\n",
       "    }\n",
       "\n",
       "    .dataframe tbody tr th {\n",
       "        vertical-align: top;\n",
       "    }\n",
       "\n",
       "    .dataframe thead tr th {\n",
       "        text-align: left;\n",
       "    }\n",
       "\n",
       "    .dataframe thead tr:last-of-type th {\n",
       "        text-align: right;\n",
       "    }\n",
       "</style>\n",
       "<table border=\"1\" class=\"dataframe\">\n",
       "  <thead>\n",
       "    <tr>\n",
       "      <th></th>\n",
       "      <th colspan=\"3\" halign=\"left\">salary</th>\n",
       "      <th>age</th>\n",
       "      <th>name</th>\n",
       "    </tr>\n",
       "    <tr>\n",
       "      <th></th>\n",
       "      <th>mean</th>\n",
       "      <th>min</th>\n",
       "      <th>max</th>\n",
       "      <th>mean</th>\n",
       "      <th>count</th>\n",
       "    </tr>\n",
       "    <tr>\n",
       "      <th>department</th>\n",
       "      <th></th>\n",
       "      <th></th>\n",
       "      <th></th>\n",
       "      <th></th>\n",
       "      <th></th>\n",
       "    </tr>\n",
       "  </thead>\n",
       "  <tbody>\n",
       "    <tr>\n",
       "      <th>Human Resources</th>\n",
       "      <td>NaN</td>\n",
       "      <td>NaN</td>\n",
       "      <td>NaN</td>\n",
       "      <td>35.0</td>\n",
       "      <td>1</td>\n",
       "    </tr>\n",
       "    <tr>\n",
       "      <th>Information Technology</th>\n",
       "      <td>60000.0</td>\n",
       "      <td>60000.0</td>\n",
       "      <td>60000.0</td>\n",
       "      <td>30.0</td>\n",
       "      <td>1</td>\n",
       "    </tr>\n",
       "  </tbody>\n",
       "</table>\n",
       "</div>"
      ],
      "text/plain": [
       "                         salary                     age  name\n",
       "                           mean      min      max  mean count\n",
       "department                                                   \n",
       "Human Resources             NaN      NaN      NaN  35.0     1\n",
       "Information Technology  60000.0  60000.0  60000.0  30.0     1"
      ]
     },
     "execution_count": 577,
     "metadata": {},
     "output_type": "execute_result"
    }
   ],
   "source": [
    "##### Data Cleaning Cheat Sheet #####\n",
    "\n",
    "import pandas as pd\n",
    "import numpy as np\n",
    "\n",
    "# messy dataset\n",
    "df = pd.DataFrame({\n",
    "    'name': ['John ', ' Jane', 'Bob', ' Sarah ', np.nan],\n",
    "    'age': ['25', '30', 'unknown', '35', '40'],\n",
    "    'salary': ['50000', '60,000', '75000.0', np.nan, '90000'],\n",
    "    'date_joined': ['2020-01-01', '01/15/2020', '2020/02/01', '02-15-2020', None],\n",
    "    'department': ['IT', 'it', 'HR', 'hr', 'Marketing']\n",
    "})\n",
    "\n",
    "# 1. Missing Values\n",
    "# Check what's missing\n",
    "missing_values = df.isnull().sum()\n",
    "\n",
    "# Fill missing values\n",
    "df['name'] = df['name'].fillna('Unknown')  # Replace with specific value\n",
    "\n",
    "# 2. Data Type Conversion\n",
    "# Convert salary to numeric by removing commas first\n",
    "df['salary'] = (df['salary'].str.replace(',', '')  # Remove commas\n",
    "                          .astype(float))           # Convert to float\n",
    "\n",
    "# Convert age to numeric, marking errors as NaN\n",
    "df['age'] = pd.to_numeric(df['age'], errors='coerce')\n",
    "\n",
    "\n",
    "# 3. Duplicate Handling\n",
    "# Check for and remove duplicates\n",
    "df = df.drop_duplicates()\n",
    "\n",
    "# 6. Value Standardization\n",
    "# Standardize department names\n",
    "dept_mapping = {\n",
    "    'it': 'Information Technology',\n",
    "    'hr': 'Human Resources',\n",
    "    'marketing': 'Marketing'\n",
    "}\n",
    "df['department'] = df['department'].map(dept_mapping)\n",
    "\n",
    "# 7. Derived Features\n",
    "\n",
    "# Create salary bands\n",
    "df['salary_category'] = pd.cut(\n",
    "    df['salary'],\n",
    "    bins=[0, 55000, 75000, float('inf')],\n",
    "    labels=['Entry', 'Mid', 'Senior']\n",
    ")\n",
    "\n",
    "# Example of filtering rows based on conditions\n",
    "high_salary = df[df['salary'] > 70000]\n",
    "\n",
    "# Example of groupby operations after cleaning\n",
    "dept_summary = df.groupby('department').agg({\n",
    "    'salary': ['mean', 'min', 'max'],\n",
    "    'age': 'mean',\n",
    "    'name': 'count'\n",
    "}).round(2)\n",
    "\n",
    "dept_summary\n"
   ]
  }
 ],
 "metadata": {
  "authors": [
   {
    "name": "Kosuke Imai"
   },
   {
    "name": "Python code by Jeff Allen"
   }
  ],
  "colab": {
   "provenance": []
  },
  "date": "First Printing",
  "kernelspec": {
   "display_name": "anaconda-2025.06-py3.11",
   "language": "python",
   "name": "python3"
  },
  "language_info": {
   "codemirror_mode": {
    "name": "ipython",
    "version": 3
   },
   "file_extension": ".py",
   "mimetype": "text/x-python",
   "name": "python",
   "nbconvert_exporter": "python",
   "pygments_lexer": "ipython3",
   "version": "3.11.13"
  },
  "title": "Python Code for QSS Chapter 1: Introduction"
 },
 "nbformat": 4,
 "nbformat_minor": 4
}
