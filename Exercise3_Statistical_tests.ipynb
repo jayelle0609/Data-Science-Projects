{
 "cells": [
  {
   "cell_type": "markdown",
   "id": "db7c1564",
   "metadata": {},
   "source": [
    "# Statistical tests - Exercise 3\n"
   ]
  },
  {
   "cell_type": "code",
   "execution_count": 5,
   "id": "6d2503e7",
   "metadata": {},
   "outputs": [
    {
     "data": {
      "text/plain": [
       "['HREF_NO',\n",
       " 'PC_DIST_MTHLY_HH_EXP_H122',\n",
       " 'PC_HH_TINC_GTRF_E_NAV',\n",
       " 'SEX',\n",
       " 'TENANCY',\n",
       " 'AGE',\n",
       " 'MARITAL_ST',\n",
       " 'HSE_TYPE',\n",
       " 'RETIREE65_HH',\n",
       " 'HQA']"
      ]
     },
     "execution_count": 5,
     "metadata": {},
     "output_type": "execute_result"
    }
   ],
   "source": [
    "import pandas as pd\n",
    "from scipy import stats\n",
    "\n",
    "# load the data\n",
    "hes = pd.read_csv('../data/HES_cut.csv')\n",
    "\n",
    "hes.columns.tolist()\n"
   ]
  },
  {
   "cell_type": "markdown",
   "id": "a6aae712",
   "metadata": {},
   "source": [
    "    'PC_DIST_MTHLY_HH_EXP_H122',   # per-capita monthly household expenditure\n",
    "    'PC_HH_TINC_GTRF_E_NAV',       # per-capita monthly household income\n",
    "    'SEX',                         # sex of household head\n",
    "    'TENANCY',                     # tenancy status\n",
    "    'AGE',                         # age group of household head\n",
    "    'MARITAL_ST',                  # marital status\n",
    "    'HSE_TYPE',                    # household type\n",
    "    'RETIREE65_HH',                # indicator: any retiree ≥ 65 in household\n",
    "    'HQA'                          # highest qualification of household head"
   ]
  },
  {
   "cell_type": "code",
   "execution_count": 6,
   "id": "688f3da2",
   "metadata": {},
   "outputs": [
    {
     "data": {
      "application/vnd.microsoft.datawrangler.viewer.v0+json": {
       "columns": [
        {
         "name": "index",
         "rawType": "int64",
         "type": "integer"
        },
        {
         "name": "HREF_NO",
         "rawType": "object",
         "type": "string"
        },
        {
         "name": "PC_DIST_MTHLY_HH_EXP_H122",
         "rawType": "float64",
         "type": "float"
        },
        {
         "name": "PC_HH_TINC_GTRF_E_NAV",
         "rawType": "float64",
         "type": "float"
        },
        {
         "name": "SEX",
         "rawType": "float64",
         "type": "float"
        },
        {
         "name": "TENANCY",
         "rawType": "int64",
         "type": "integer"
        },
        {
         "name": "AGE",
         "rawType": "int64",
         "type": "integer"
        },
        {
         "name": "MARITAL_ST",
         "rawType": "float64",
         "type": "float"
        },
        {
         "name": "HSE_TYPE",
         "rawType": "int64",
         "type": "integer"
        },
        {
         "name": "RETIREE65_HH",
         "rawType": "int64",
         "type": "integer"
        },
        {
         "name": "HQA",
         "rawType": "int64",
         "type": "integer"
        }
       ],
       "ref": "e017e69f-c993-47f3-9c7e-f2febd5080fd",
       "rows": [
        [
         "0",
         "06E4201",
         "1883.13",
         "1309.0",
         "2.0",
         "1",
         "7",
         "4.0",
         "6",
         "1",
         "6"
        ],
        [
         "1",
         "SJOB001",
         "1638.98",
         "6926.5",
         "2.0",
         "1",
         "5",
         "2.0",
         "4",
         "0",
         "7"
        ],
        [
         "2",
         "SJOB001",
         "1638.98",
         "6926.5",
         "1.0",
         "1",
         "4",
         "2.0",
         "4",
         "0",
         "7"
        ],
        [
         "3",
         "0NLTZ01",
         "1178.78",
         "3012.4",
         "1.0",
         "1",
         "6",
         "2.0",
         "2",
         "0",
         "2"
        ],
        [
         "4",
         "0NLTZ01",
         "1178.78",
         "3012.4",
         "2.0",
         "1",
         "5",
         "2.0",
         "2",
         "0",
         "3"
        ]
       ],
       "shape": {
        "columns": 10,
        "rows": 5
       }
      },
      "text/html": [
       "<div>\n",
       "<style scoped>\n",
       "    .dataframe tbody tr th:only-of-type {\n",
       "        vertical-align: middle;\n",
       "    }\n",
       "\n",
       "    .dataframe tbody tr th {\n",
       "        vertical-align: top;\n",
       "    }\n",
       "\n",
       "    .dataframe thead th {\n",
       "        text-align: right;\n",
       "    }\n",
       "</style>\n",
       "<table border=\"1\" class=\"dataframe\">\n",
       "  <thead>\n",
       "    <tr style=\"text-align: right;\">\n",
       "      <th></th>\n",
       "      <th>HREF_NO</th>\n",
       "      <th>PC_DIST_MTHLY_HH_EXP_H122</th>\n",
       "      <th>PC_HH_TINC_GTRF_E_NAV</th>\n",
       "      <th>SEX</th>\n",
       "      <th>TENANCY</th>\n",
       "      <th>AGE</th>\n",
       "      <th>MARITAL_ST</th>\n",
       "      <th>HSE_TYPE</th>\n",
       "      <th>RETIREE65_HH</th>\n",
       "      <th>HQA</th>\n",
       "    </tr>\n",
       "  </thead>\n",
       "  <tbody>\n",
       "    <tr>\n",
       "      <th>0</th>\n",
       "      <td>06E4201</td>\n",
       "      <td>1883.13</td>\n",
       "      <td>1309.0</td>\n",
       "      <td>2.0</td>\n",
       "      <td>1</td>\n",
       "      <td>7</td>\n",
       "      <td>4.0</td>\n",
       "      <td>6</td>\n",
       "      <td>1</td>\n",
       "      <td>6</td>\n",
       "    </tr>\n",
       "    <tr>\n",
       "      <th>1</th>\n",
       "      <td>SJOB001</td>\n",
       "      <td>1638.98</td>\n",
       "      <td>6926.5</td>\n",
       "      <td>2.0</td>\n",
       "      <td>1</td>\n",
       "      <td>5</td>\n",
       "      <td>2.0</td>\n",
       "      <td>4</td>\n",
       "      <td>0</td>\n",
       "      <td>7</td>\n",
       "    </tr>\n",
       "    <tr>\n",
       "      <th>2</th>\n",
       "      <td>SJOB001</td>\n",
       "      <td>1638.98</td>\n",
       "      <td>6926.5</td>\n",
       "      <td>1.0</td>\n",
       "      <td>1</td>\n",
       "      <td>4</td>\n",
       "      <td>2.0</td>\n",
       "      <td>4</td>\n",
       "      <td>0</td>\n",
       "      <td>7</td>\n",
       "    </tr>\n",
       "    <tr>\n",
       "      <th>3</th>\n",
       "      <td>0NLTZ01</td>\n",
       "      <td>1178.78</td>\n",
       "      <td>3012.4</td>\n",
       "      <td>1.0</td>\n",
       "      <td>1</td>\n",
       "      <td>6</td>\n",
       "      <td>2.0</td>\n",
       "      <td>2</td>\n",
       "      <td>0</td>\n",
       "      <td>2</td>\n",
       "    </tr>\n",
       "    <tr>\n",
       "      <th>4</th>\n",
       "      <td>0NLTZ01</td>\n",
       "      <td>1178.78</td>\n",
       "      <td>3012.4</td>\n",
       "      <td>2.0</td>\n",
       "      <td>1</td>\n",
       "      <td>5</td>\n",
       "      <td>2.0</td>\n",
       "      <td>2</td>\n",
       "      <td>0</td>\n",
       "      <td>3</td>\n",
       "    </tr>\n",
       "  </tbody>\n",
       "</table>\n",
       "</div>"
      ],
      "text/plain": [
       "   HREF_NO  PC_DIST_MTHLY_HH_EXP_H122  PC_HH_TINC_GTRF_E_NAV  SEX  TENANCY  \\\n",
       "0  06E4201                    1883.13                 1309.0  2.0        1   \n",
       "1  SJOB001                    1638.98                 6926.5  2.0        1   \n",
       "2  SJOB001                    1638.98                 6926.5  1.0        1   \n",
       "3  0NLTZ01                    1178.78                 3012.4  1.0        1   \n",
       "4  0NLTZ01                    1178.78                 3012.4  2.0        1   \n",
       "\n",
       "   AGE  MARITAL_ST  HSE_TYPE  RETIREE65_HH  HQA  \n",
       "0    7         4.0         6             1    6  \n",
       "1    5         2.0         4             0    7  \n",
       "2    4         2.0         4             0    7  \n",
       "3    6         2.0         2             0    2  \n",
       "4    5         2.0         2             0    3  "
      ]
     },
     "execution_count": 6,
     "metadata": {},
     "output_type": "execute_result"
    }
   ],
   "source": [
    "hes.head(5)"
   ]
  },
  {
   "cell_type": "code",
   "execution_count": 2,
   "id": "a2da3c17",
   "metadata": {},
   "outputs": [
    {
     "data": {
      "text/plain": [
       "(30016, 581)"
      ]
     },
     "execution_count": 2,
     "metadata": {},
     "output_type": "execute_result"
    }
   ],
   "source": [
    "hes.shape"
   ]
  },
  {
   "cell_type": "markdown",
   "id": "cdb52064",
   "metadata": {},
   "source": [
    "## Question 1: Two-Sample t-Test\n",
    "\n",
    "Task:\n",
    "\n",
    "Compare mean per-capita monthly expenditure between retirees and non-retiree households.\n",
    "\n",
    "State whether you assume equal variances (and justify), report the test statistic, p-value, and conclusion.\n"
   ]
  },
  {
   "cell_type": "code",
   "execution_count": null,
   "id": "d07e0d55",
   "metadata": {},
   "outputs": [],
   "source": [
    "import pandas as pd\n",
    "from scipy import stats\n",
    "\n",
    "# Define expenditure column and split by dummy variable\n",
    "exp = 'PC_DIST_MTHLY_HH_EXP_H122'\n",
    "nr_exp   = hes.loc[hes['RETIREE65_HH'] == 0, exp].dropna()\n",
    "\n",
    "\n"
   ]
  },
  {
   "cell_type": "code",
   "execution_count": null,
   "id": "a0abeb48",
   "metadata": {},
   "outputs": [],
   "source": [
    "\n"
   ]
  },
  {
   "cell_type": "markdown",
   "id": "8c0ba2cf",
   "metadata": {},
   "source": [
    "## Question 2: ANOVA on Income by Qualification Level\n",
    "\n",
    "Let HQA (highest qualification; e.g. “No qual”, “Secondary”, “Tertiary”) be your factor, and test for differences in mean per-capita monthly income (PC_HH_TINC_GTRF_E_NAV)."
   ]
  },
  {
   "cell_type": "code",
   "execution_count": null,
   "id": "3c0c7d2f",
   "metadata": {},
   "outputs": [],
   "source": [
    "import pandas as pd\n",
    "from scipy.stats import f_oneway\n",
    "\n",
    "\n",
    "df = hes[['HQA', 'PC_HH_TINC_GTRF_E_NAV']].dropna()\n"
   ]
  },
  {
   "cell_type": "code",
   "execution_count": null,
   "id": "1959677d",
   "metadata": {},
   "outputs": [],
   "source": []
  },
  {
   "cell_type": "markdown",
   "id": "bf585460",
   "metadata": {},
   "source": [
    "## Question 3: Chi-Square Test \n",
    "\n",
    "HES: Examine whether MARITAL_ST (marital status) is independent of HSE_TYPE (housing type).\n",
    "\n",
    "Build a contingency table and carry out the chi-square test."
   ]
  },
  {
   "cell_type": "code",
   "execution_count": 14,
   "id": "34e6e89a",
   "metadata": {},
   "outputs": [],
   "source": [
    "import pandas as pd\n",
    "from scipy.stats import chi2_contingency\n",
    "\n",
    "# Select the two variables and drop missing\n",
    "df = hes[['MARITAL_ST', 'HSE_TYPE']].dropna()\n",
    "\n",
    "# Build contingency table\n",
    "\n",
    "\n",
    "\n",
    "\n",
    "\n",
    "\n"
   ]
  },
  {
   "cell_type": "code",
   "execution_count": null,
   "id": "a3959553",
   "metadata": {},
   "outputs": [],
   "source": []
  },
  {
   "cell_type": "markdown",
   "id": "2d01be69",
   "metadata": {},
   "source": [
    "## Question 4: Simple Linear Regression\n",
    "\n",
    "Task:\n",
    "\n",
    "Fit an OLS model predicting Contributions From Persons Not Staying in Household Income ($) from expenditure.\n",
    "- Use: HH_CONTRIBUTIONS_INC (Contributions From Persons Not Staying in Household Income) and PC_DIST_MTHLY_HH_EXP_H122 (expenditure).\n",
    "\n",
    "Report R² and coefficient summary.\n",
    "\n",
    "**Question**: What can be done to improve the regression's accuracy?"
   ]
  },
  {
   "cell_type": "code",
   "execution_count": 16,
   "id": "ab93f13f",
   "metadata": {},
   "outputs": [],
   "source": [
    "import statsmodels.formula.api as smf\n",
    "\n",
    "# load the data\n",
    "df = pd.read_csv('../data/merged_HES.csv')\n",
    "\n"
   ]
  },
  {
   "cell_type": "code",
   "execution_count": null,
   "id": "70e96bee",
   "metadata": {},
   "outputs": [],
   "source": [
    "\n",
    "\n"
   ]
  },
  {
   "cell_type": "markdown",
   "id": "a3e812fb",
   "metadata": {},
   "source": [
    "## Question 5: Two-Sample t-Test on two Age groups\n",
    "\n",
    "Pick any two AGE categories and run an independent t-test on expenditure."
   ]
  },
  {
   "cell_type": "code",
   "execution_count": 19,
   "id": "01f09896",
   "metadata": {},
   "outputs": [],
   "source": [
    "import pandas as pd\n",
    "from scipy.stats import ttest_ind\n",
    "\n"
   ]
  },
  {
   "cell_type": "code",
   "execution_count": null,
   "id": "150a82a9",
   "metadata": {},
   "outputs": [],
   "source": [
    "\n"
   ]
  }
 ],
 "metadata": {
  "kernelspec": {
   "display_name": "Python 3 (ipykernel)",
   "language": "python",
   "name": "python3"
  },
  "language_info": {
   "codemirror_mode": {
    "name": "ipython",
    "version": 3
   },
   "file_extension": ".py",
   "mimetype": "text/x-python",
   "name": "python",
   "nbconvert_exporter": "python",
   "pygments_lexer": "ipython3",
   "version": "3.12.2"
  }
 },
 "nbformat": 4,
 "nbformat_minor": 5
}
