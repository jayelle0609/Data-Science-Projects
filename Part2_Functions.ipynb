{
 "cells": [
  {
   "cell_type": "markdown",
   "id": "1ff3f3e0",
   "metadata": {},
   "source": [
    "## Functions\n",
    "\n",
    "### Overview\n",
    "\n",
    "A function is basically a block of code that only runs when it is called. Functions are a general programming tool, and can be found in many programming languages. All functions operate in three steps:\n",
    "\n",
    "1. Call: the function is called with some inputs\n",
    "2. Compute: based on the inputs, the function does something\n",
    "3. Return: the function outputs the result of the computation\n",
    "\n"
   ]
  },
  {
   "cell_type": "code",
   "execution_count": 1,
   "id": "74ae23df",
   "metadata": {},
   "outputs": [
    {
     "data": {
      "text/plain": [
       "14.0"
      ]
     },
     "execution_count": 1,
     "metadata": {},
     "output_type": "execute_result"
    }
   ],
   "source": [
    "def double(x):\n",
    "    return x * 2\n",
    "\n",
    "double(double(3.5))\n"
   ]
  },
  {
   "cell_type": "markdown",
   "id": "19a0b2b5",
   "metadata": {},
   "source": [
    "### Intro to Error Handling"
   ]
  },
  {
   "cell_type": "code",
   "execution_count": 2,
   "id": "83178d2c",
   "metadata": {},
   "outputs": [],
   "source": [
    "def my_sqrt(x):\n",
    "    \"\"\"Returns the square root of a number\"\"\"\n",
    "    try:\n",
    "        return x ** 0.5\n",
    "    except:\n",
    "        raise('error')\n",
    "        \n"
   ]
  },
  {
   "cell_type": "code",
   "execution_count": 3,
   "id": "56f90e76-a628-4c86-b932-4486108846a8",
   "metadata": {},
   "outputs": [],
   "source": [
    "# my_sqrt('hi')"
   ]
  },
  {
   "cell_type": "code",
   "execution_count": 4,
   "id": "3852316e-66fb-4c63-8c0d-963a5e117a4e",
   "metadata": {},
   "outputs": [
    {
     "data": {
      "text/plain": [
       "(1.8369701987210297e-16+3j)"
      ]
     },
     "execution_count": 4,
     "metadata": {},
     "output_type": "execute_result"
    }
   ],
   "source": [
    "from numpy import sqrt \n",
    "\n",
    "my_sqrt(-9)"
   ]
  },
  {
   "cell_type": "code",
   "execution_count": 5,
   "id": "e0a9a30b-f168-43b4-b0c2-613079becb4f",
   "metadata": {},
   "outputs": [
    {
     "name": "stdout",
     "output_type": "stream",
     "text": [
      "3.1622776601683795\n"
     ]
    }
   ],
   "source": [
    "\n",
    "print(sqrt(10.0))\n",
    "# sqrt(-9)"
   ]
  },
  {
   "cell_type": "code",
   "execution_count": 6,
   "id": "cb0ccfb0",
   "metadata": {},
   "outputs": [
    {
     "name": "stdout",
     "output_type": "stream",
     "text": [
      "2.0\n",
      "3.1622776601683795\n",
      "x must be an int or float\n"
     ]
    }
   ],
   "source": [
    "def my_sqrt(x):\n",
    "    \"\"\"Returns the square root of a number\"\"\"\n",
    "    try:\n",
    "        return x ** 0.5\n",
    "    except TypeError:\n",
    "        print('x must be an int or float')\n",
    "\n",
    "\n",
    "print(my_sqrt(4))\n",
    "print(my_sqrt(10.0))\n",
    "my_sqrt('hi')"
   ]
  },
  {
   "cell_type": "markdown",
   "id": "b4b8966b",
   "metadata": {},
   "source": [
    "Raising an error!"
   ]
  },
  {
   "cell_type": "code",
   "execution_count": 7,
   "id": "52b44c5a",
   "metadata": {},
   "outputs": [],
   "source": [
    "def my_sqrt(x):\n",
    "    \"\"\"Returns the square root of a number\"\"\"\n",
    "    if x < 0:\n",
    "        raise TypeError('x must be non-negative')\n",
    "    try:\n",
    "        return x ** 0.5\n",
    "    except TypeError:\n",
    "        print('x must be an int or float')\n",
    "\n"
   ]
  },
  {
   "cell_type": "code",
   "execution_count": 8,
   "id": "e4e27671-360a-4e8d-a0f7-2414ea515452",
   "metadata": {},
   "outputs": [],
   "source": [
    "# my_sqrt(-9)"
   ]
  },
  {
   "cell_type": "markdown",
   "id": "cf482855-a3cb-4180-977c-4c1a8ab1f898",
   "metadata": {},
   "source": [
    "### Comparing variables on different scales: Normalization"
   ]
  },
  {
   "cell_type": "code",
   "execution_count": 9,
   "id": "2ab40e37",
   "metadata": {},
   "outputs": [],
   "source": [
    "import pandas as pd\n",
    "\n",
    "def normalize_column(df, column, inplace=False):\n",
    "    \"\"\"Normalize a column to have mean 0 and standard deviation 1\"\"\"\n",
    "    try:\n",
    "        # Check if column exists and is numeric\n",
    "        if column not in df.columns:\n",
    "            print(\"Error: column does not exist\")\n",
    "            return None\n",
    "            \n",
    "        if not pd.api.types.is_numeric_dtype(df[column]):\n",
    "            print(\"Error: column must be numeric\")\n",
    "            return None\n",
    "            \n",
    "        # Calculate normalized values\n",
    "        normalized = (df[column] - df[column].mean()) / df[column].std()\n",
    "        \n",
    "        # Add as new column or return the series\n",
    "        if inplace:\n",
    "            df[f\"{column}_normalized\"] = normalized\n",
    "        else:\n",
    "            return normalized\n",
    "            \n",
    "    except Exception as e:\n",
    "        print(f\"Error: {e}\")\n",
    "        return None\n",
    "\n"
   ]
  },
  {
   "cell_type": "code",
   "execution_count": 10,
   "id": "c3b00c32-1112-40e9-a4e9-6c0166957089",
   "metadata": {},
   "outputs": [],
   "source": [
    "df = pd.read_csv('../data/nus_cei.csv')\n"
   ]
  },
  {
   "cell_type": "code",
   "execution_count": 11,
   "id": "23bebde3-904a-4f3a-b25a-ed3417fda1be",
   "metadata": {},
   "outputs": [],
   "source": [
    "# Add the normalized column directly to df\n",
    "normalize_column(df, \"_01\", inplace=True) # ← note   inplace=True\n",
    "normalize_column(df, \"_02\", inplace=True)\n"
   ]
  },
  {
   "cell_type": "code",
   "execution_count": 12,
   "id": "d0d57ba3-aeb7-4771-8fa9-ad6048ed906d",
   "metadata": {},
   "outputs": [
    {
     "data": {
      "text/plain": [
       "<function matplotlib.pyplot.show(close=None, block=None)>"
      ]
     },
     "execution_count": 12,
     "metadata": {},
     "output_type": "execute_result"
    },
    {
     "data": {
      "image/png": "[encoded data removed]",
      "text/plain": [
       "<Figure size 640x480 with 1 Axes>"
      ]
     },
     "metadata": {},
     "output_type": "display_data"
    }
   ],
   "source": [
    "import matplotlib.pyplot as plt\n",
    "\n",
    "x = df[\"_02_normalized\"].clip(-4, 10)\n",
    "y = df[\"_01_normalized\"].clip(-4, 8)\n",
    "plt.scatter(x, y, s=12, alpha=0.6)\n",
    "plt.axhline(0, ls='--', c='grey', lw=0.7)\n",
    "plt.axvline(0, ls='--', c='grey', lw=0.7)\n",
    "\n",
    "plt.xlabel(\"Alcohol & Tobacco (normalized)\")\n",
    "plt.ylabel(\"Food & Beverages (normalized)\")\n",
    "plt.title(\"Alcohol vs. Food (normalized)\")\n",
    "plt.show\n"
   ]
  },
  {
   "cell_type": "code",
   "execution_count": 13,
   "id": "9be06254-66a9-47a1-90f1-c6651b3c8ff2",
   "metadata": {},
   "outputs": [],
   "source": [
    "# Severe skew in Alcohol & Tobacco spending (lots of tiny values, a few huge ones).\n",
    "# Relatively milder spread in Food & Beverages.\n",
    "\n",
    "# A point at (–0.1, 3) has slightly-below-average A&T but an extreme (3 σ) F&B value, and so on.\n"
   ]
  },
  {
   "cell_type": "code",
   "execution_count": 14,
   "id": "c49fca5e-19c0-45db-b782-58ff247cd3ed",
   "metadata": {},
   "outputs": [
    {
     "data": {
      "image/png": "[encoded data removed]",
      "text/plain": [
       "<Figure size 1000x400 with 1 Axes>"
      ]
     },
     "metadata": {},
     "output_type": "display_data"
    }
   ],
   "source": [
    "\n",
    "# Plot\n",
    "plt.figure(figsize=(10, 4))\n",
    "\n",
    "# 1. Rolling mean to calm the jaggedness\n",
    "window = 50\n",
    "plt.plot(df[\"_02_normalized\"].rolling(window).mean(),\n",
    "         label=\"Alcohol & Tobacco (rolling mean)\", lw=1.3)\n",
    "plt.plot(df[\"_01_normalized\"].rolling(window).mean(),\n",
    "         label=\"Food & Beverages (rolling mean)\", lw=1.3)\n",
    "\n",
    "# 2. Optional: limit y-axis so small differences are visible\n",
    "plt.ylim(-1, 2)\n",
    "\n",
    "plt.legend()\n",
    "plt.title(\"Normalized variables\".format(window))\n",
    "plt.xlabel(\"Household Index\")\n",
    "plt.ylabel(\"Z-score\")\n",
    "plt.tight_layout()\n",
    "plt.show()"
   ]
  },
  {
   "cell_type": "code",
   "execution_count": 15,
   "id": "c2640ff2-9e72-4e0b-b84c-7197326f89e8",
   "metadata": {},
   "outputs": [],
   "source": [
    "\n",
    "# Example usage:\n",
    "import pandas as pd\n",
    "\n",
    "\n",
    "df_ais = pd.read_excel(\n",
    "    '../data/bsd_dummy.xlsx',\n",
    "    sheet_name='AIS',\n",
    "    dtype={'SSIC2020': str}\n",
    ")\n",
    "\n",
    "normalize_column(df_ais, 'VA', inplace = True)\n"
   ]
  },
  {
   "cell_type": "code",
   "execution_count": 16,
   "id": "ff8a5377-7fd5-40bc-b2a2-8471176ace5c",
   "metadata": {},
   "outputs": [
    {
     "data": {
      "text/plain": [
       "Index(['REF_YR', 'UEN', 'SSIC2020', 'EXP_FACT', 'OWNERSHIP_GROUP_CD', 'OP_REC',\n",
       "       'OE', 'OS', 'VA', 'REM', 'DEPRE', 'VA_normalized'],\n",
       "      dtype='object')"
      ]
     },
     "execution_count": 16,
     "metadata": {},
     "output_type": "execute_result"
    }
   ],
   "source": [
    "df_ais.columns"
   ]
  },
  {
   "cell_type": "code",
   "execution_count": 17,
   "id": "738ea199",
   "metadata": {},
   "outputs": [
    {
     "name": "stdout",
     "output_type": "stream",
     "text": [
      "   age     name  age_normalized\n",
      "0   23    Alice       -1.338803\n",
      "1   35      Bob       -0.595024\n",
      "2   58  Charlie        0.830554\n",
      "3   45    Diana        0.024793\n",
      "4   62     Evan        1.078480\n",
      "Error: column does not exist\n",
      "Error: column must be numeric\n"
     ]
    }
   ],
   "source": [
    "# Create a sample DataFrame\n",
    "df = pd.DataFrame({\n",
    "    \"age\": [23, 35, 58, 45, 62],\n",
    "    \"name\": [\"Alice\", \"Bob\", \"Charlie\", \"Diana\", \"Evan\"]\n",
    "})\n",
    "\n",
    "# Normalize the age column and add it to the DataFrame\n",
    "normalize_column(df, \"age\", inplace = True)\n",
    "print(df)\n",
    "\n",
    "# Try with non-existent column\n",
    "normalize_column(df, \"height\")\n",
    "\n",
    "# Try with non-numeric column\n",
    "normalize_column(df, \"name\")"
   ]
  },
  {
   "cell_type": "markdown",
   "id": "a93cf4be-2ca2-40b5-adf9-72195000eb20",
   "metadata": {},
   "source": [
    "### Why is it useful?\n",
    "\n",
    "- Comparing features measured on different scales\n",
    "- (e.g., “age” in years vs. “income” in dollars)\n",
    "- Puts them on the same scale (mean 0, std 1), so one feature doesn’t dominate just because it has larger raw numbers."
   ]
  },
  {
   "cell_type": "markdown",
   "id": "4a96f360",
   "metadata": {},
   "source": [
    "### Default values\n",
    "\n",
    "What they are: Parameters given a default value in the def line, making them optional at call time.\n",
    "\n",
    "Why use them:\n",
    "- Simplify function signatures when there’s a “sensible” common case.\n",
    "- Avoid overloading (no more def foo(a), def foo(a,b)—just supply defaults).\n",
    "\n"
   ]
  },
  {
   "cell_type": "code",
   "execution_count": 18,
   "id": "b5977527",
   "metadata": {},
   "outputs": [
    {
     "name": "stdout",
     "output_type": "stream",
     "text": [
      "Hello, Alice!\n",
      "Hello, Bob.\n",
      "Hi, Carol!!!\n"
     ]
    }
   ],
   "source": [
    "def greet(name, greeting=\"Hello\", punctuation=\"!\"):\n",
    "    return f\"{greeting}, {name}{punctuation}\"\n",
    "\n",
    "print(greet(\"Alice\"))                  # Hello, Alice!\n",
    "print(greet(\"Bob\", punctuation=\".\"))   # Hello, Bob.\n",
    "print(greet(\"Carol\", \"Hi\", \"!!!\"))     # Hi, Carol!!!\n"
   ]
  },
  {
   "cell_type": "markdown",
   "id": "820835e3",
   "metadata": {},
   "source": [
    "### Functions calling other functions\n",
    "\n",
    "One useful application of functions is to split a complex task into a series of simple steps, each carried out by a separate function, and then write a master function that calls all of those separate functions in the correct order. Having a series of simple functions makes it easier. In this way, an entire workflow can be constructed that is easy to adjust, and scalable across a large number of datasets. For example, we might have a number of sample names, and for each we want to:\n",
    "\n",
    "1. Find the longest part of the name\n",
    "2. Check whether that part begins with a vowel\n",
    "3. Convert the lowercase letters to uppercase, and vice versa\n",
    "\n",
    "Once we have done this, we want to gather the converted sample names into a list."
   ]
  },
  {
   "cell_type": "code",
   "execution_count": 19,
   "id": "1e8db3ae-6192-4e4d-a64f-8d0fd7503d7c",
   "metadata": {},
   "outputs": [
    {
     "name": "stdout",
     "output_type": "stream",
     "text": [
      "ALPHA\n"
     ]
    }
   ],
   "source": [
    "def find_name_longest_part(input_name):\n",
    "    return max(input_name.split(\"-\"), key=len)\n",
    "\n",
    "print(find_name_longest_part(\"1-32-ALPHA-C\"))"
   ]
  },
  {
   "cell_type": "code",
   "execution_count": null,
   "id": "c1016a9e-2d48-4ab7-922c-2ca857f88fa9",
   "metadata": {},
   "outputs": [],
   "source": []
  },
  {
   "cell_type": "code",
   "execution_count": 20,
   "id": "c122f262-eef0-4528-90c9-130c6b68037e",
   "metadata": {},
   "outputs": [
    {
     "name": "stdout",
     "output_type": "stream",
     "text": [
      "True\n"
     ]
    }
   ],
   "source": [
    "def check_start_vowel(input_word):\n",
    "    return input_word[0].lower() in \"aeiou\"\n",
    "\n",
    "print(check_start_vowel(\"ALPHA\"))"
   ]
  },
  {
   "cell_type": "code",
   "execution_count": 21,
   "id": "8395f9ad-71e0-4462-b3d6-4968ec4de144",
   "metadata": {},
   "outputs": [
    {
     "name": "stdout",
     "output_type": "stream",
     "text": [
      "alpHA\n"
     ]
    }
   ],
   "source": [
    "def convert_case(input_word):\n",
    "    return input_word.swapcase()\n",
    "\n",
    "print(convert_case(\"ALPha\"))"
   ]
  },
  {
   "cell_type": "code",
   "execution_count": 22,
   "id": "7a13c81f",
   "metadata": {},
   "outputs": [
    {
     "data": {
      "text/plain": [
       "['alphA', 'OMEGA']"
      ]
     },
     "execution_count": 22,
     "metadata": {},
     "output_type": "execute_result"
    }
   ],
   "source": [
    "def find_name_longest_part(input_name):\n",
    "    return max(input_name.split(\"-\"), key=len)\n",
    "\n",
    "# print(find_name_longest_part(\"1-32-ALPHA-C\"))\n",
    "\n",
    "def check_start_vowel(input_word):\n",
    "    return input_word[0].lower() in \"aeiou\"\n",
    "\n",
    "#print(check_start_vowel(\"ALPHA\"))\n",
    "\n",
    "def convert_case(input_word):\n",
    "    return input_word.swapcase()\n",
    "\n",
    "# print(convert_case(\"ALPha\"))\n",
    "\n",
    "def convert_sample_name_parts(sample_names):\n",
    "    converted = []\n",
    "    for name in sample_names:\n",
    "        part = find_name_longest_part(name) # Splits it on -; Picks the longest part\n",
    "        if check_start_vowel(part):         # Checks whether that longest part starts with a vowel\n",
    "            converted.append(convert_case(part)) #If it does, swap-cases every letter in that part\n",
    "    return converted\n",
    "\n",
    "convert_sample_name_parts([\"1-32-ALPHa-C\", \"1-33-PHI-omega\", \"1-34-BETA-sigMA\"])"
   ]
  },
  {
   "cell_type": "markdown",
   "id": "5dfba700",
   "metadata": {},
   "source": [
    "# Utils.py"
   ]
  },
  {
   "cell_type": "code",
   "execution_count": 23,
   "id": "55f4ea91",
   "metadata": {},
   "outputs": [],
   "source": [
    "### process_ais_estabs(ais_df)\n",
    "# Slices the SSIC2020 code into 2-, 3-, 4- and 5-digit columns and drops any rows with SSIC_5D = “96099”.\n",
    "\n",
    "### generate_variables(estb_or_entp)\n",
    "# Builds and returns three lists—raw variables, their “EXP_” counterparts, and the full set of class+vars+EXP_FACT—adjusted for establishment vs enterprise level.\n",
    "\n",
    "### generate_ssic_for_clusters(estb_or_entp)\n",
    "# Chooses the correct SSIC column names (2D/3D/4D/5D) depending on whether you’re clustering at the estab or entp level.\n",
    "\n",
    "### assign_aes_clusters(ais_all_cols_df, estb_or_entp)\n",
    "# Tags each firm with an AES (Annual Economic Survey) cluster based on its 2-digit SSIC slice.\n",
    "\n",
    "### assign_itm_clusters(ais_all_cols_df, estb_or_entp)\n",
    "# Tags each firm with an ITM (Industry Transformation Map) cluster using combinations of 2-, 3- and 5-digit SSIC slices.\n",
    "\n",
    "### assign_op_rec_bands(entp_level_ais_df)\n",
    "# Buckets expanded operating receipts (EXP_OP_REC) into size bands (e.g. “<= 1 mil”, “> 1 mil–<= 10 mil”, …).\n",
    "\n",
    "### subset_or_print_all(ais_agg_df, col_to_check, list_of_interest)\n",
    "# Returns ais_agg_df filtered to rows where col_to_check is in list_of_interest, or the full DataFrame if that list is empty.\n",
    "\n",
    "### nk_check(ais_df, custom_grouping, generated_columns_sum, generated_columns_max)\n",
    "# For each group, computes (max ÷ sum) × 100 on your expanded vars to see what % of total p-stats the largest firm contributes."
   ]
  },
  {
   "cell_type": "code",
   "execution_count": 24,
   "id": "550e0f0a",
   "metadata": {},
   "outputs": [],
   "source": [
    "# from utils import process_ais_estabs\n",
    "\n",
    "from utils import (\n",
    "    process_ais_estabs,\n",
    "    generate_variables,\n",
    "    generate_ssic_for_clusters,\n",
    "    assign_aes_clusters,\n",
    "    assign_itm_clusters,\n",
    "    assign_op_rec_bands,\n",
    "    subset_or_print_all,\n",
    "    nk_check,\n",
    "    file_path,\n",
    "    SSIC\n",
    ")\n",
    "\n",
    "\n",
    "import pandas as pd"
   ]
  },
  {
   "cell_type": "code",
   "execution_count": 25,
   "id": "dd320529-503f-4afc-b801-52493d99a8c3",
   "metadata": {},
   "outputs": [
    {
     "data": {
      "text/plain": [
       "'SSIC2020'"
      ]
     },
     "execution_count": 25,
     "metadata": {},
     "output_type": "execute_result"
    }
   ],
   "source": [
    "SSIC"
   ]
  },
  {
   "cell_type": "code",
   "execution_count": 26,
   "id": "5d0a57de",
   "metadata": {},
   "outputs": [
    {
     "data": {
      "text/plain": [
       "(6331, 11)"
      ]
     },
     "execution_count": 26,
     "metadata": {},
     "output_type": "execute_result"
    }
   ],
   "source": [
    "df_ais = pd.read_excel(\n",
    "    '../data/bsd_dummy.xlsx',\n",
    "    sheet_name='AIS',\n",
    "    dtype={'SSIC2020': str}\n",
    ")\n",
    "\n",
    "df_ais.shape\n",
    "\n"
   ]
  },
  {
   "cell_type": "markdown",
   "id": "67eca834",
   "metadata": {},
   "source": [
    "### “Enterprise” and “establishment” refer to two different units of analysis:\n",
    "\n",
    "Enterprise level is the whole business/legal entity (identified by a single UEN). An enterprise may consist of one or more establishments. All the establishments under that enterprise roll up into one record at the enterprise level, so you get aggregate figures (total employment, total output, etc.) across the entire business group.\n",
    "\n",
    "Establishment level is each individual site or location where economic activity takes place (e.g. a shop, a factory, an office). Every premises that enterprise operates shows up as its own row, with its own SSIC code, employment count, and other attributes."
   ]
  },
  {
   "cell_type": "code",
   "execution_count": 27,
   "id": "ec3d3bad",
   "metadata": {},
   "outputs": [
    {
     "name": "stdout",
     "output_type": "stream",
     "text": [
      "Help on function assign_aes_clusters in module utils:\n",
      "\n",
      "assign_aes_clusters(ais_all_cols_df: pandas.core.frame.DataFrame, estb_or_entp: str) -> pandas.core.frame.DataFrame\n",
      "    Given establishment level data, assign AES clusters based on the SSIC of a firm.\n",
      "    Returns:\n",
      "        AIS dataset with all firms assigned with cluster(s)\n",
      "\n"
     ]
    }
   ],
   "source": [
    "\n",
    "# Quick peek at our utils module\n",
    "import utils\n",
    "help(utils.assign_aes_clusters)\n",
    "\n"
   ]
  },
  {
   "cell_type": "code",
   "execution_count": 28,
   "id": "ad9d1da2-2483-4783-993e-0c066675b028",
   "metadata": {},
   "outputs": [
    {
     "data": {
      "text/plain": [
       "(6331, 11)"
      ]
     },
     "execution_count": 28,
     "metadata": {},
     "output_type": "execute_result"
    }
   ],
   "source": [
    "df_ais.shape"
   ]
  },
  {
   "cell_type": "code",
   "execution_count": 29,
   "id": "ce9b2f0f",
   "metadata": {},
   "outputs": [
    {
     "data": {
      "application/vnd.microsoft.datawrangler.viewer.v0+json": {
       "columns": [
        {
         "name": "index",
         "rawType": "int64",
         "type": "integer"
        },
        {
         "name": "REF_YR",
         "rawType": "int64",
         "type": "integer"
        },
        {
         "name": "UEN",
         "rawType": "object",
         "type": "string"
        },
        {
         "name": "SSIC2020",
         "rawType": "object",
         "type": "string"
        },
        {
         "name": "EXP_FACT",
         "rawType": "float64",
         "type": "float"
        },
        {
         "name": "OWNERSHIP_GROUP_CD",
         "rawType": "object",
         "type": "string"
        },
        {
         "name": "OP_REC",
         "rawType": "float64",
         "type": "float"
        },
        {
         "name": "OE",
         "rawType": "float64",
         "type": "float"
        },
        {
         "name": "OS",
         "rawType": "float64",
         "type": "float"
        },
        {
         "name": "VA",
         "rawType": "float64",
         "type": "float"
        },
        {
         "name": "REM",
         "rawType": "float64",
         "type": "float"
        },
        {
         "name": "DEPRE",
         "rawType": "float64",
         "type": "float"
        }
       ],
       "ref": "974f2e8c-4c0c-4431-9814-ef9cf3139864",
       "rows": [
        [
         "0",
         "2020",
         "3022000001A",
         "35101",
         "1.0",
         "L",
         "3615948.59",
         "337594.61",
         "169200.88",
         "56701.04",
         "79830.52",
         "923373.53"
        ],
        [
         "1",
         "2020",
         "3022000002B",
         "35101",
         "1.0",
         "F",
         "81052305.88",
         "18004.7",
         "436688.16",
         "915719.87",
         "105031.41",
         "77296.59"
        ],
        [
         "2",
         "2020",
         "3022000003C",
         "35101",
         "1.0",
         "F",
         "92679705.87",
         "459900.51",
         "922359.04",
         "438062.65",
         "990781.45",
         "629491.31"
        ],
        [
         "3",
         "2020",
         "3022000004D",
         "35101",
         "1.0",
         "F",
         "96112365.74",
         "768398.51",
         "506738.21",
         "900523.8",
         "147700.88",
         "732551.81"
        ],
        [
         "4",
         "2020",
         "3022000005E",
         "35102",
         "1.0",
         "F",
         "741447201.46",
         "50726.7",
         "721167.26",
         "835382.29",
         "802651.21",
         "82211.52"
        ]
       ],
       "shape": {
        "columns": 11,
        "rows": 5
       }
      },
      "text/html": [
       "<div>\n",
       "<style scoped>\n",
       "    .dataframe tbody tr th:only-of-type {\n",
       "        vertical-align: middle;\n",
       "    }\n",
       "\n",
       "    .dataframe tbody tr th {\n",
       "        vertical-align: top;\n",
       "    }\n",
       "\n",
       "    .dataframe thead th {\n",
       "        text-align: right;\n",
       "    }\n",
       "</style>\n",
       "<table border=\"1\" class=\"dataframe\">\n",
       "  <thead>\n",
       "    <tr style=\"text-align: right;\">\n",
       "      <th></th>\n",
       "      <th>REF_YR</th>\n",
       "      <th>UEN</th>\n",
       "      <th>SSIC2020</th>\n",
       "      <th>EXP_FACT</th>\n",
       "      <th>OWNERSHIP_GROUP_CD</th>\n",
       "      <th>OP_REC</th>\n",
       "      <th>OE</th>\n",
       "      <th>OS</th>\n",
       "      <th>VA</th>\n",
       "      <th>REM</th>\n",
       "      <th>DEPRE</th>\n",
       "    </tr>\n",
       "  </thead>\n",
       "  <tbody>\n",
       "    <tr>\n",
       "      <th>0</th>\n",
       "      <td>2020</td>\n",
       "      <td>3022000001A</td>\n",
       "      <td>35101</td>\n",
       "      <td>1.0</td>\n",
       "      <td>L</td>\n",
       "      <td>3.615949e+06</td>\n",
       "      <td>337594.61</td>\n",
       "      <td>169200.88</td>\n",
       "      <td>56701.04</td>\n",
       "      <td>79830.52</td>\n",
       "      <td>923373.53</td>\n",
       "    </tr>\n",
       "    <tr>\n",
       "      <th>1</th>\n",
       "      <td>2020</td>\n",
       "      <td>3022000002B</td>\n",
       "      <td>35101</td>\n",
       "      <td>1.0</td>\n",
       "      <td>F</td>\n",
       "      <td>8.105231e+07</td>\n",
       "      <td>18004.70</td>\n",
       "      <td>436688.16</td>\n",
       "      <td>915719.87</td>\n",
       "      <td>105031.41</td>\n",
       "      <td>77296.59</td>\n",
       "    </tr>\n",
       "    <tr>\n",
       "      <th>2</th>\n",
       "      <td>2020</td>\n",
       "      <td>3022000003C</td>\n",
       "      <td>35101</td>\n",
       "      <td>1.0</td>\n",
       "      <td>F</td>\n",
       "      <td>9.267971e+07</td>\n",
       "      <td>459900.51</td>\n",
       "      <td>922359.04</td>\n",
       "      <td>438062.65</td>\n",
       "      <td>990781.45</td>\n",
       "      <td>629491.31</td>\n",
       "    </tr>\n",
       "    <tr>\n",
       "      <th>3</th>\n",
       "      <td>2020</td>\n",
       "      <td>3022000004D</td>\n",
       "      <td>35101</td>\n",
       "      <td>1.0</td>\n",
       "      <td>F</td>\n",
       "      <td>9.611237e+07</td>\n",
       "      <td>768398.51</td>\n",
       "      <td>506738.21</td>\n",
       "      <td>900523.80</td>\n",
       "      <td>147700.88</td>\n",
       "      <td>732551.81</td>\n",
       "    </tr>\n",
       "    <tr>\n",
       "      <th>4</th>\n",
       "      <td>2020</td>\n",
       "      <td>3022000005E</td>\n",
       "      <td>35102</td>\n",
       "      <td>1.0</td>\n",
       "      <td>F</td>\n",
       "      <td>7.414472e+08</td>\n",
       "      <td>50726.70</td>\n",
       "      <td>721167.26</td>\n",
       "      <td>835382.29</td>\n",
       "      <td>802651.21</td>\n",
       "      <td>82211.52</td>\n",
       "    </tr>\n",
       "  </tbody>\n",
       "</table>\n",
       "</div>"
      ],
      "text/plain": [
       "   REF_YR          UEN SSIC2020  EXP_FACT OWNERSHIP_GROUP_CD        OP_REC  \\\n",
       "0    2020  3022000001A    35101       1.0                  L  3.615949e+06   \n",
       "1    2020  3022000002B    35101       1.0                  F  8.105231e+07   \n",
       "2    2020  3022000003C    35101       1.0                  F  9.267971e+07   \n",
       "3    2020  3022000004D    35101       1.0                  F  9.611237e+07   \n",
       "4    2020  3022000005E    35102       1.0                  F  7.414472e+08   \n",
       "\n",
       "          OE         OS         VA        REM      DEPRE  \n",
       "0  337594.61  169200.88   56701.04   79830.52  923373.53  \n",
       "1   18004.70  436688.16  915719.87  105031.41   77296.59  \n",
       "2  459900.51  922359.04  438062.65  990781.45  629491.31  \n",
       "3  768398.51  506738.21  900523.80  147700.88  732551.81  \n",
       "4   50726.70  721167.26  835382.29  802651.21   82211.52  "
      ]
     },
     "execution_count": 29,
     "metadata": {},
     "output_type": "execute_result"
    }
   ],
   "source": [
    "df_ais.head()\n",
    "\n"
   ]
  },
  {
   "cell_type": "markdown",
   "id": "20fa506e",
   "metadata": {},
   "source": [
    "## Process and inspect SSIC slices\n",
    "\n",
    "Goal: Load the dummy DataFrame, call process_ais_estabs(), and print the first few rows.\n",
    "Check: That you now have SSIC_2D, SSIC_3D, SSIC_4D, and SSIC_5D columns. \n"
   ]
  },
  {
   "cell_type": "code",
   "execution_count": 30,
   "id": "ca87a286",
   "metadata": {},
   "outputs": [
    {
     "data": {
      "text/plain": [
       "(6318, 15)"
      ]
     },
     "execution_count": 30,
     "metadata": {},
     "output_type": "execute_result"
    }
   ],
   "source": [
    "ais_proc = process_ais_estabs(df_ais)\n",
    "\n",
    "ais_proc.shape"
   ]
  },
  {
   "cell_type": "code",
   "execution_count": 31,
   "id": "1269f579-9f82-46de-b225-088fa655d3f4",
   "metadata": {},
   "outputs": [
    {
     "data": {
      "application/vnd.microsoft.datawrangler.viewer.v0+json": {
       "columns": [
        {
         "name": "index",
         "rawType": "int64",
         "type": "integer"
        },
        {
         "name": "REF_YR",
         "rawType": "int64",
         "type": "integer"
        },
        {
         "name": "UEN",
         "rawType": "object",
         "type": "string"
        },
        {
         "name": "SSIC2020",
         "rawType": "object",
         "type": "string"
        },
        {
         "name": "EXP_FACT",
         "rawType": "float64",
         "type": "float"
        },
        {
         "name": "OWNERSHIP_GROUP_CD",
         "rawType": "object",
         "type": "string"
        },
        {
         "name": "OP_REC",
         "rawType": "float64",
         "type": "float"
        },
        {
         "name": "OE",
         "rawType": "float64",
         "type": "float"
        },
        {
         "name": "OS",
         "rawType": "float64",
         "type": "float"
        },
        {
         "name": "VA",
         "rawType": "float64",
         "type": "float"
        },
        {
         "name": "REM",
         "rawType": "float64",
         "type": "float"
        },
        {
         "name": "DEPRE",
         "rawType": "float64",
         "type": "float"
        },
        {
         "name": "SSIC_2D",
         "rawType": "object",
         "type": "string"
        },
        {
         "name": "SSIC_3D",
         "rawType": "object",
         "type": "string"
        },
        {
         "name": "SSIC_4D",
         "rawType": "object",
         "type": "string"
        },
        {
         "name": "SSIC_5D",
         "rawType": "object",
         "type": "string"
        }
       ],
       "ref": "6c985ece-da69-4cc2-a06d-2b17143fbd79",
       "rows": [
        [
         "0",
         "2020",
         "3022000001A",
         "35101",
         "1.0",
         "L",
         "3615948.59",
         "337594.61",
         "169200.88",
         "56701.04",
         "79830.52",
         "923373.53",
         "35",
         "351",
         "3510",
         "35101"
        ],
        [
         "1",
         "2020",
         "3022000002B",
         "35101",
         "1.0",
         "F",
         "81052305.88",
         "18004.7",
         "436688.16",
         "915719.87",
         "105031.41",
         "77296.59",
         "35",
         "351",
         "3510",
         "35101"
        ],
        [
         "2",
         "2020",
         "3022000003C",
         "35101",
         "1.0",
         "F",
         "92679705.87",
         "459900.51",
         "922359.04",
         "438062.65",
         "990781.45",
         "629491.31",
         "35",
         "351",
         "3510",
         "35101"
        ],
        [
         "3",
         "2020",
         "3022000004D",
         "35101",
         "1.0",
         "F",
         "96112365.74",
         "768398.51",
         "506738.21",
         "900523.8",
         "147700.88",
         "732551.81",
         "35",
         "351",
         "3510",
         "35101"
        ],
        [
         "4",
         "2020",
         "3022000005E",
         "35102",
         "1.0",
         "F",
         "741447201.46",
         "50726.7",
         "721167.26",
         "835382.29",
         "802651.21",
         "82211.52",
         "35",
         "351",
         "3510",
         "35102"
        ]
       ],
       "shape": {
        "columns": 15,
        "rows": 5
       }
      },
      "text/html": [
       "<div>\n",
       "<style scoped>\n",
       "    .dataframe tbody tr th:only-of-type {\n",
       "        vertical-align: middle;\n",
       "    }\n",
       "\n",
       "    .dataframe tbody tr th {\n",
       "        vertical-align: top;\n",
       "    }\n",
       "\n",
       "    .dataframe thead th {\n",
       "        text-align: right;\n",
       "    }\n",
       "</style>\n",
       "<table border=\"1\" class=\"dataframe\">\n",
       "  <thead>\n",
       "    <tr style=\"text-align: right;\">\n",
       "      <th></th>\n",
       "      <th>REF_YR</th>\n",
       "      <th>UEN</th>\n",
       "      <th>SSIC2020</th>\n",
       "      <th>EXP_FACT</th>\n",
       "      <th>OWNERSHIP_GROUP_CD</th>\n",
       "      <th>OP_REC</th>\n",
       "      <th>OE</th>\n",
       "      <th>OS</th>\n",
       "      <th>VA</th>\n",
       "      <th>REM</th>\n",
       "      <th>DEPRE</th>\n",
       "      <th>SSIC_2D</th>\n",
       "      <th>SSIC_3D</th>\n",
       "      <th>SSIC_4D</th>\n",
       "      <th>SSIC_5D</th>\n",
       "    </tr>\n",
       "  </thead>\n",
       "  <tbody>\n",
       "    <tr>\n",
       "      <th>0</th>\n",
       "      <td>2020</td>\n",
       "      <td>3022000001A</td>\n",
       "      <td>35101</td>\n",
       "      <td>1.0</td>\n",
       "      <td>L</td>\n",
       "      <td>3.615949e+06</td>\n",
       "      <td>337594.61</td>\n",
       "      <td>169200.88</td>\n",
       "      <td>56701.04</td>\n",
       "      <td>79830.52</td>\n",
       "      <td>923373.53</td>\n",
       "      <td>35</td>\n",
       "      <td>351</td>\n",
       "      <td>3510</td>\n",
       "      <td>35101</td>\n",
       "    </tr>\n",
       "    <tr>\n",
       "      <th>1</th>\n",
       "      <td>2020</td>\n",
       "      <td>3022000002B</td>\n",
       "      <td>35101</td>\n",
       "      <td>1.0</td>\n",
       "      <td>F</td>\n",
       "      <td>8.105231e+07</td>\n",
       "      <td>18004.70</td>\n",
       "      <td>436688.16</td>\n",
       "      <td>915719.87</td>\n",
       "      <td>105031.41</td>\n",
       "      <td>77296.59</td>\n",
       "      <td>35</td>\n",
       "      <td>351</td>\n",
       "      <td>3510</td>\n",
       "      <td>35101</td>\n",
       "    </tr>\n",
       "    <tr>\n",
       "      <th>2</th>\n",
       "      <td>2020</td>\n",
       "      <td>3022000003C</td>\n",
       "      <td>35101</td>\n",
       "      <td>1.0</td>\n",
       "      <td>F</td>\n",
       "      <td>9.267971e+07</td>\n",
       "      <td>459900.51</td>\n",
       "      <td>922359.04</td>\n",
       "      <td>438062.65</td>\n",
       "      <td>990781.45</td>\n",
       "      <td>629491.31</td>\n",
       "      <td>35</td>\n",
       "      <td>351</td>\n",
       "      <td>3510</td>\n",
       "      <td>35101</td>\n",
       "    </tr>\n",
       "    <tr>\n",
       "      <th>3</th>\n",
       "      <td>2020</td>\n",
       "      <td>3022000004D</td>\n",
       "      <td>35101</td>\n",
       "      <td>1.0</td>\n",
       "      <td>F</td>\n",
       "      <td>9.611237e+07</td>\n",
       "      <td>768398.51</td>\n",
       "      <td>506738.21</td>\n",
       "      <td>900523.80</td>\n",
       "      <td>147700.88</td>\n",
       "      <td>732551.81</td>\n",
       "      <td>35</td>\n",
       "      <td>351</td>\n",
       "      <td>3510</td>\n",
       "      <td>35101</td>\n",
       "    </tr>\n",
       "    <tr>\n",
       "      <th>4</th>\n",
       "      <td>2020</td>\n",
       "      <td>3022000005E</td>\n",
       "      <td>35102</td>\n",
       "      <td>1.0</td>\n",
       "      <td>F</td>\n",
       "      <td>7.414472e+08</td>\n",
       "      <td>50726.70</td>\n",
       "      <td>721167.26</td>\n",
       "      <td>835382.29</td>\n",
       "      <td>802651.21</td>\n",
       "      <td>82211.52</td>\n",
       "      <td>35</td>\n",
       "      <td>351</td>\n",
       "      <td>3510</td>\n",
       "      <td>35102</td>\n",
       "    </tr>\n",
       "  </tbody>\n",
       "</table>\n",
       "</div>"
      ],
      "text/plain": [
       "   REF_YR          UEN SSIC2020  EXP_FACT OWNERSHIP_GROUP_CD        OP_REC  \\\n",
       "0    2020  3022000001A    35101       1.0                  L  3.615949e+06   \n",
       "1    2020  3022000002B    35101       1.0                  F  8.105231e+07   \n",
       "2    2020  3022000003C    35101       1.0                  F  9.267971e+07   \n",
       "3    2020  3022000004D    35101       1.0                  F  9.611237e+07   \n",
       "4    2020  3022000005E    35102       1.0                  F  7.414472e+08   \n",
       "\n",
       "          OE         OS         VA        REM      DEPRE SSIC_2D SSIC_3D  \\\n",
       "0  337594.61  169200.88   56701.04   79830.52  923373.53      35     351   \n",
       "1   18004.70  436688.16  915719.87  105031.41   77296.59      35     351   \n",
       "2  459900.51  922359.04  438062.65  990781.45  629491.31      35     351   \n",
       "3  768398.51  506738.21  900523.80  147700.88  732551.81      35     351   \n",
       "4   50726.70  721167.26  835382.29  802651.21   82211.52      35     351   \n",
       "\n",
       "  SSIC_4D SSIC_5D  \n",
       "0    3510   35101  \n",
       "1    3510   35101  \n",
       "2    3510   35101  \n",
       "3    3510   35101  \n",
       "4    3510   35102  "
      ]
     },
     "execution_count": 31,
     "metadata": {},
     "output_type": "execute_result"
    }
   ],
   "source": [
    "ais_proc.head()"
   ]
  },
  {
   "cell_type": "markdown",
   "id": "f5e6de9b",
   "metadata": {},
   "source": [
    "Builds lists of variable names, expanded-variable names, and subset columns based on level"
   ]
  },
  {
   "cell_type": "code",
   "execution_count": 32,
   "id": "c6fbe46e",
   "metadata": {},
   "outputs": [
    {
     "data": {
      "text/plain": [
       "['OP_REC', 'VA', 'OE', 'OS', 'DEPRE', 'REM', 'ESTAB_COUNT']"
      ]
     },
     "execution_count": 32,
     "metadata": {},
     "output_type": "execute_result"
    }
   ],
   "source": [
    "# Generate variable lists at both levels\n",
    "\n",
    "# Calling generate_variables('estb') and generate_variables('entp'). \n",
    "# Check: That you see three lists back:\n",
    "\n",
    "# - raw VARS_COLS,\n",
    "# - prefixed EXP_VARS_COLS,\n",
    "# - full SUBSETTED_COLS.\n",
    "\n",
    "\n",
    "vars_estb, exp_vars_estb, subset_cols_estb = generate_variables('estb')\n",
    "vars_entp, exp_vars_entp, subset_cols_entp = generate_variables('entp')\n",
    "\n",
    "# subset_cols_estb\n",
    "\n",
    "\n",
    "vars_estb"
   ]
  },
  {
   "cell_type": "code",
   "execution_count": 33,
   "id": "70e03432",
   "metadata": {},
   "outputs": [
    {
     "data": {
      "application/vnd.microsoft.datawrangler.viewer.v0+json": {
       "columns": [
        {
         "name": "index",
         "rawType": "int64",
         "type": "integer"
        },
        {
         "name": "REF_YR",
         "rawType": "int64",
         "type": "integer"
        },
        {
         "name": "UEN",
         "rawType": "object",
         "type": "string"
        },
        {
         "name": "SSIC2020",
         "rawType": "object",
         "type": "string"
        },
        {
         "name": "EXP_FACT",
         "rawType": "float64",
         "type": "float"
        },
        {
         "name": "OWNERSHIP_GROUP_CD",
         "rawType": "object",
         "type": "string"
        },
        {
         "name": "OP_REC",
         "rawType": "float64",
         "type": "float"
        },
        {
         "name": "OE",
         "rawType": "float64",
         "type": "float"
        },
        {
         "name": "OS",
         "rawType": "float64",
         "type": "float"
        },
        {
         "name": "VA",
         "rawType": "float64",
         "type": "float"
        },
        {
         "name": "REM",
         "rawType": "float64",
         "type": "float"
        },
        {
         "name": "DEPRE",
         "rawType": "float64",
         "type": "float"
        },
        {
         "name": "SSIC_2D",
         "rawType": "object",
         "type": "string"
        },
        {
         "name": "SSIC_3D",
         "rawType": "object",
         "type": "string"
        },
        {
         "name": "SSIC_4D",
         "rawType": "object",
         "type": "string"
        },
        {
         "name": "SSIC_5D",
         "rawType": "object",
         "type": "string"
        },
        {
         "name": "CLUSTER",
         "rawType": "object",
         "type": "unknown"
        }
       ],
       "ref": "017e2894-6a55-4497-bce6-392c3eebce81",
       "rows": [
        [
         "0",
         "2020",
         "3022000001A",
         "35101",
         "1.0",
         "L",
         "3615948.59",
         "337594.61",
         "169200.88",
         "56701.04",
         "79830.52",
         "923373.53",
         "35",
         "351",
         "3510",
         "35101",
         "UTILITIES"
        ],
        [
         "1",
         "2020",
         "3022000002B",
         "35101",
         "1.0",
         "F",
         "81052305.88",
         "18004.7",
         "436688.16",
         "915719.87",
         "105031.41",
         "77296.59",
         "35",
         "351",
         "3510",
         "35101",
         "UTILITIES"
        ],
        [
         "2",
         "2020",
         "3022000003C",
         "35101",
         "1.0",
         "F",
         "92679705.87",
         "459900.51",
         "922359.04",
         "438062.65",
         "990781.45",
         "629491.31",
         "35",
         "351",
         "3510",
         "35101",
         "UTILITIES"
        ],
        [
         "3",
         "2020",
         "3022000004D",
         "35101",
         "1.0",
         "F",
         "96112365.74",
         "768398.51",
         "506738.21",
         "900523.8",
         "147700.88",
         "732551.81",
         "35",
         "351",
         "3510",
         "35101",
         "UTILITIES"
        ],
        [
         "4",
         "2020",
         "3022000005E",
         "35102",
         "1.0",
         "F",
         "741447201.46",
         "50726.7",
         "721167.26",
         "835382.29",
         "802651.21",
         "82211.52",
         "35",
         "351",
         "3510",
         "35102",
         "UTILITIES"
        ],
        [
         "5",
         "2020",
         "3022000006F",
         "35102",
         "1.0",
         "F",
         "3109299.87",
         "318298.23",
         "952303.21",
         "571158.7",
         "659311.64",
         "695728.6",
         "35",
         "351",
         "3510",
         "35102",
         "UTILITIES"
        ],
        [
         "6",
         "2020",
         "3022000007G",
         "35102",
         "1.0",
         "L",
         "7341025.91",
         "366325.26",
         "141488.43",
         "923131.68",
         "909143.39",
         "942209.49",
         "35",
         "351",
         "3510",
         "35102",
         "UTILITIES"
        ],
        [
         "7",
         "2020",
         "3022000008H",
         "35102",
         "5.78",
         "L",
         "161076766.44",
         "319336.57",
         "835577.18",
         "879220.87",
         "471922.4",
         "502254.43",
         "35",
         "351",
         "3510",
         "35102",
         "UTILITIES"
        ],
        [
         "8",
         "2020",
         "3022000009I",
         "35102",
         "1.0",
         "L",
         "7681806.56",
         "490076.55",
         "983400.05",
         "364300.97",
         "337556.17",
         "593639.21",
         "35",
         "351",
         "3510",
         "35102",
         "UTILITIES"
        ],
        [
         "9",
         "2020",
         "3022000010J",
         "35102",
         "1.0",
         "L",
         "200293.82",
         "852303.87",
         "179009.77",
         "274372.12",
         "255232.02",
         "305837.34",
         "35",
         "351",
         "3510",
         "35102",
         "UTILITIES"
        ],
        [
         "10",
         "2020",
         "3022000011K",
         "35103",
         "1.0",
         "F",
         "9460621.35",
         "63278.74",
         "548268.39",
         "389131.18",
         "555683.65",
         "784962.68",
         "35",
         "351",
         "3510",
         "35103",
         "UTILITIES"
        ],
        [
         "11",
         "2020",
         "3022000012L",
         "35103",
         "1.0",
         "L",
         "596895775.76",
         "399277.69",
         "666560.37",
         "136140.81",
         "852848.87",
         "512177.02",
         "35",
         "351",
         "3510",
         "35103",
         "UTILITIES"
        ],
        [
         "12",
         "2020",
         "3022000013M",
         "35103",
         "1.0",
         "L",
         "3515458.79",
         "39980.91",
         "786457.62",
         "620257.94",
         "574294.95",
         "548949.56",
         "35",
         "351",
         "3510",
         "35103",
         "UTILITIES"
        ],
        [
         "13",
         "2020",
         "3022000014N",
         "35103",
         "1.0",
         "L",
         "744105.87",
         "489301.29",
         "818572.48",
         "195044.49",
         "47835.89",
         "258739.64",
         "35",
         "351",
         "3510",
         "35103",
         "UTILITIES"
        ],
        [
         "14",
         "2020",
         "3022000015O",
         "35103",
         "8.39",
         "L",
         "21022208.5",
         "873883.98",
         "349762.11",
         "109832.05",
         "968858.58",
         "197732.35",
         "35",
         "351",
         "3510",
         "35103",
         "UTILITIES"
        ],
        [
         "15",
         "2020",
         "3022000016P",
         "35104",
         "1.0",
         "F",
         "224420.41",
         "81035.35",
         "152512.41",
         "732603.76",
         "47261.8",
         "553032.63",
         "35",
         "351",
         "3510",
         "35104",
         "UTILITIES"
        ],
        [
         "16",
         "2020",
         "3022000017Q",
         "35104",
         "1.0",
         "L",
         "592203.09",
         "956381.18",
         "74662.01",
         "634019.06",
         "549366.47",
         "22223.1",
         "35",
         "351",
         "3510",
         "35104",
         "UTILITIES"
        ],
        [
         "17",
         "2020",
         "3022000018R",
         "35104",
         "1.0",
         "L",
         "187365.24",
         "625613.21",
         "860892.6",
         "285590.6",
         "410103.16",
         "129309.72",
         "35",
         "351",
         "3510",
         "35104",
         "UTILITIES"
        ],
        [
         "18",
         "2020",
         "3022000019S",
         "35104",
         "1.16",
         "F",
         "55249787.49",
         "596863.61",
         "33825.34",
         "66778.56",
         "562754.59",
         "697590.26",
         "35",
         "351",
         "3510",
         "35104",
         "UTILITIES"
        ],
        [
         "19",
         "2020",
         "3022000020T",
         "35104",
         "1.0",
         "L",
         "525332.02",
         "618228.0",
         "202540.16",
         "879298.65",
         "190609.56",
         "937094.81",
         "35",
         "351",
         "3510",
         "35104",
         "UTILITIES"
        ],
        [
         "20",
         "2020",
         "3022000021U",
         "35104",
         "2.34",
         "L",
         "6617893.19",
         "693622.22",
         "672515.67",
         "211139.24",
         "948501.28",
         "843669.65",
         "35",
         "351",
         "3510",
         "35104",
         "UTILITIES"
        ],
        [
         "21",
         "2020",
         "3022000022V",
         "35201",
         "3.32",
         "L",
         "5139794.48",
         "214901.59",
         "971307.07",
         "552543.23",
         "267221.79",
         "45946.35",
         "35",
         "352",
         "3520",
         "35201",
         "UTILITIES"
        ],
        [
         "22",
         "2020",
         "3022000023W",
         "35201",
         "1.0",
         "F",
         "956146429.29",
         "222493.02",
         "717658.3",
         "828197.44",
         "997787.03",
         "344609.32",
         "35",
         "352",
         "3520",
         "35201",
         "UTILITIES"
        ],
        [
         "23",
         "2020",
         "3022000024X",
         "35201",
         "3.86",
         "L",
         "90580365.95",
         "603217.42",
         "807059.67",
         "486289.15",
         "154276.69",
         "811826.14",
         "35",
         "352",
         "3520",
         "35201",
         "UTILITIES"
        ],
        [
         "24",
         "2020",
         "3022000025Y",
         "35201",
         "5.6",
         "L",
         "86895420.12",
         "701222.75",
         "594236.6",
         "294130.33",
         "785888.75",
         "305455.86",
         "35",
         "352",
         "3520",
         "35201",
         "UTILITIES"
        ],
        [
         "25",
         "2020",
         "3022000026Z",
         "35202",
         "4.35",
         "F",
         "1067423.68",
         "537317.98",
         "34480.19",
         "491333.42",
         "509251.07",
         "445713.59",
         "35",
         "352",
         "3520",
         "35202",
         "UTILITIES"
        ],
        [
         "26",
         "2020",
         "3022000027A",
         "35202",
         "1.0",
         "F",
         "67197391.02",
         "484302.87",
         "491920.2",
         "205159.66",
         "75399.61",
         "364597.03",
         "35",
         "352",
         "3520",
         "35202",
         "UTILITIES"
        ],
        [
         "27",
         "2020",
         "3022000028B",
         "35202",
         "1.0",
         "L",
         "71641996.76",
         "436174.9",
         "558281.21",
         "994267.88",
         "503116.94",
         "276839.25",
         "35",
         "352",
         "3520",
         "35202",
         "UTILITIES"
        ],
        [
         "28",
         "2020",
         "3022000029C",
         "35202",
         "1.0",
         "L",
         "4863369.65",
         "536300.46",
         "783312.45",
         "823917.34",
         "213115.12",
         "965816.82",
         "35",
         "352",
         "3520",
         "35202",
         "UTILITIES"
        ],
        [
         "29",
         "2020",
         "3022000030D",
         "35202",
         "1.0",
         "L",
         "9260761.04",
         "84362.82",
         "22615.48",
         "6714.21",
         "747912.22",
         "121118.23",
         "35",
         "352",
         "3520",
         "35202",
         "UTILITIES"
        ],
        [
         "30",
         "2020",
         "3022000031E",
         "35203",
         "1.0",
         "L",
         "839851233.18",
         "402981.1",
         "270291.43",
         "583343.1",
         "4616.16",
         "681626.84",
         "35",
         "352",
         "3520",
         "35203",
         "UTILITIES"
        ],
        [
         "31",
         "2020",
         "3022000032F",
         "35203",
         "1.0",
         "F",
         "62015.11",
         "446534.33",
         "416023.54",
         "135861.67",
         "628817.58",
         "765465.65",
         "35",
         "352",
         "3520",
         "35203",
         "UTILITIES"
        ],
        [
         "32",
         "2020",
         "3022000033G",
         "35203",
         "1.0",
         "L",
         "48827422.29",
         "243672.0",
         "791887.36",
         "921139.87",
         "178793.05",
         "460655.95",
         "35",
         "352",
         "3520",
         "35203",
         "UTILITIES"
        ],
        [
         "33",
         "2020",
         "3022000034H",
         "35203",
         "5.08",
         "L",
         "3658442.35",
         "207582.06",
         "189240.32",
         "91897.88",
         "101441.57",
         "867045.26",
         "35",
         "352",
         "3520",
         "35203",
         "UTILITIES"
        ],
        [
         "34",
         "2020",
         "3022000035I",
         "35203",
         "1.0",
         "L",
         "954944485.33",
         "680138.48",
         "549906.46",
         "356019.02",
         "459764.82",
         "986324.79",
         "35",
         "352",
         "3520",
         "35203",
         "UTILITIES"
        ],
        [
         "35",
         "2020",
         "3022000036J",
         "35300",
         "1.0",
         "L",
         "853761736.3",
         "595058.59",
         "344380.96",
         "353445.85",
         "665571.88",
         "229334.52",
         "35",
         "353",
         "3530",
         "35300",
         "UTILITIES"
        ],
        [
         "36",
         "2020",
         "3022000037K",
         "35300",
         "1.0",
         "F",
         "2355103.66",
         "30679.37",
         "271856.77",
         "189390.32",
         "521273.1",
         "479671.63",
         "35",
         "353",
         "3530",
         "35300",
         "UTILITIES"
        ],
        [
         "37",
         "2020",
         "3022000038L",
         "35300",
         "1.0",
         "L",
         "76723910.15",
         "149027.29",
         "484344.56",
         "742355.9",
         "571125.85",
         "554788.16",
         "35",
         "353",
         "3530",
         "35300",
         "UTILITIES"
        ],
        [
         "38",
         "2020",
         "3022000039M",
         "35300",
         "1.0",
         "L",
         "498230640.08",
         "532004.81",
         "284933.5",
         "726020.22",
         "356732.51",
         "432774.15",
         "35",
         "353",
         "3530",
         "35300",
         "UTILITIES"
        ],
        [
         "39",
         "2020",
         "3022000040N",
         "35300",
         "1.0",
         "L",
         "5565124.42",
         "783792.75",
         "476029.51",
         "746363.86",
         "778284.85",
         "938789.25",
         "35",
         "353",
         "3530",
         "35300",
         "UTILITIES"
        ],
        [
         "40",
         "2020",
         "3022000041O",
         "36000",
         "1.0",
         "F",
         "54568649.01",
         "178951.88",
         "774922.61",
         "456280.25",
         "156587.13",
         "573092.45",
         "36",
         "360",
         "3600",
         "36000",
         "UTILITIES"
        ],
        [
         "41",
         "2020",
         "3022000042P",
         "36000",
         "1.0",
         "F",
         "52650894.36",
         "893071.58",
         "595643.45",
         "854517.72",
         "841855.01",
         "371258.71",
         "36",
         "360",
         "3600",
         "36000",
         "UTILITIES"
        ],
        [
         "42",
         "2020",
         "3022000043Q",
         "36000",
         "1.47",
         "L",
         "28598343.7",
         "968010.23",
         "245480.02",
         "601108.21",
         "285766.92",
         "418191.44",
         "36",
         "360",
         "3600",
         "36000",
         "UTILITIES"
        ],
        [
         "43",
         "2020",
         "3022000044R",
         "36000",
         "1.0",
         "L",
         "2766805.12",
         "463595.46",
         "313977.21",
         "626692.38",
         "133245.65",
         "645983.95",
         "36",
         "360",
         "3600",
         "36000",
         "UTILITIES"
        ],
        [
         "44",
         "2020",
         "3022000045S",
         "36000",
         "1.0",
         "F",
         "668787.43",
         "774034.26",
         "458544.44",
         "956070.42",
         "783401.87",
         "941035.07",
         "36",
         "360",
         "3600",
         "36000",
         "UTILITIES"
        ],
        [
         "45",
         "2020",
         "3022000046T",
         "37000",
         "1.0",
         "F",
         "809684.72",
         "405972.32",
         "682404.12",
         "479457.69",
         "12523.42",
         "593460.68",
         "37",
         "370",
         "3700",
         "37000",
         "UTILITIES"
        ],
        [
         "46",
         "2020",
         "3022000047U",
         "37000",
         "2.99",
         "L",
         "15234681.06",
         "770424.24",
         "68565.79",
         "148883.05",
         "949074.19",
         "231288.03",
         "37",
         "370",
         "3700",
         "37000",
         "UTILITIES"
        ],
        [
         "47",
         "2020",
         "3022000048V",
         "37000",
         "8.43",
         "L",
         "633241.95",
         "176793.13",
         "534965.48",
         "788268.07",
         "598011.3",
         "876750.5",
         "37",
         "370",
         "3700",
         "37000",
         "UTILITIES"
        ],
        [
         "48",
         "2020",
         "3022000049W",
         "37000",
         "1.0",
         "L",
         "703930.23",
         "918575.05",
         "648233.52",
         "944241.92",
         "501633.55",
         "135513.85",
         "37",
         "370",
         "3700",
         "37000",
         "UTILITIES"
        ],
        [
         "49",
         "2020",
         "3022000050X",
         "37000",
         "1.0",
         "F",
         "549576.52",
         "786830.6",
         "274361.34",
         "915316.44",
         "238524.69",
         "840610.98",
         "37",
         "370",
         "3700",
         "37000",
         "UTILITIES"
        ]
       ],
       "shape": {
        "columns": 16,
        "rows": 6318
       }
      },
      "text/html": [
       "<div>\n",
       "<style scoped>\n",
       "    .dataframe tbody tr th:only-of-type {\n",
       "        vertical-align: middle;\n",
       "    }\n",
       "\n",
       "    .dataframe tbody tr th {\n",
       "        vertical-align: top;\n",
       "    }\n",
       "\n",
       "    .dataframe thead th {\n",
       "        text-align: right;\n",
       "    }\n",
       "</style>\n",
       "<table border=\"1\" class=\"dataframe\">\n",
       "  <thead>\n",
       "    <tr style=\"text-align: right;\">\n",
       "      <th></th>\n",
       "      <th>REF_YR</th>\n",
       "      <th>UEN</th>\n",
       "      <th>SSIC2020</th>\n",
       "      <th>EXP_FACT</th>\n",
       "      <th>OWNERSHIP_GROUP_CD</th>\n",
       "      <th>OP_REC</th>\n",
       "      <th>OE</th>\n",
       "      <th>OS</th>\n",
       "      <th>VA</th>\n",
       "      <th>REM</th>\n",
       "      <th>DEPRE</th>\n",
       "      <th>SSIC_2D</th>\n",
       "      <th>SSIC_3D</th>\n",
       "      <th>SSIC_4D</th>\n",
       "      <th>SSIC_5D</th>\n",
       "      <th>CLUSTER</th>\n",
       "    </tr>\n",
       "  </thead>\n",
       "  <tbody>\n",
       "    <tr>\n",
       "      <th>0</th>\n",
       "      <td>2020</td>\n",
       "      <td>3022000001A</td>\n",
       "      <td>35101</td>\n",
       "      <td>1.00</td>\n",
       "      <td>L</td>\n",
       "      <td>3.615949e+06</td>\n",
       "      <td>337594.61</td>\n",
       "      <td>169200.88</td>\n",
       "      <td>56701.04</td>\n",
       "      <td>79830.52</td>\n",
       "      <td>923373.53</td>\n",
       "      <td>35</td>\n",
       "      <td>351</td>\n",
       "      <td>3510</td>\n",
       "      <td>35101</td>\n",
       "      <td>UTILITIES</td>\n",
       "    </tr>\n",
       "    <tr>\n",
       "      <th>1</th>\n",
       "      <td>2020</td>\n",
       "      <td>3022000002B</td>\n",
       "      <td>35101</td>\n",
       "      <td>1.00</td>\n",
       "      <td>F</td>\n",
       "      <td>8.105231e+07</td>\n",
       "      <td>18004.70</td>\n",
       "      <td>436688.16</td>\n",
       "      <td>915719.87</td>\n",
       "      <td>105031.41</td>\n",
       "      <td>77296.59</td>\n",
       "      <td>35</td>\n",
       "      <td>351</td>\n",
       "      <td>3510</td>\n",
       "      <td>35101</td>\n",
       "      <td>UTILITIES</td>\n",
       "    </tr>\n",
       "    <tr>\n",
       "      <th>2</th>\n",
       "      <td>2020</td>\n",
       "      <td>3022000003C</td>\n",
       "      <td>35101</td>\n",
       "      <td>1.00</td>\n",
       "      <td>F</td>\n",
       "      <td>9.267971e+07</td>\n",
       "      <td>459900.51</td>\n",
       "      <td>922359.04</td>\n",
       "      <td>438062.65</td>\n",
       "      <td>990781.45</td>\n",
       "      <td>629491.31</td>\n",
       "      <td>35</td>\n",
       "      <td>351</td>\n",
       "      <td>3510</td>\n",
       "      <td>35101</td>\n",
       "      <td>UTILITIES</td>\n",
       "    </tr>\n",
       "    <tr>\n",
       "      <th>3</th>\n",
       "      <td>2020</td>\n",
       "      <td>3022000004D</td>\n",
       "      <td>35101</td>\n",
       "      <td>1.00</td>\n",
       "      <td>F</td>\n",
       "      <td>9.611237e+07</td>\n",
       "      <td>768398.51</td>\n",
       "      <td>506738.21</td>\n",
       "      <td>900523.80</td>\n",
       "      <td>147700.88</td>\n",
       "      <td>732551.81</td>\n",
       "      <td>35</td>\n",
       "      <td>351</td>\n",
       "      <td>3510</td>\n",
       "      <td>35101</td>\n",
       "      <td>UTILITIES</td>\n",
       "    </tr>\n",
       "    <tr>\n",
       "      <th>4</th>\n",
       "      <td>2020</td>\n",
       "      <td>3022000005E</td>\n",
       "      <td>35102</td>\n",
       "      <td>1.00</td>\n",
       "      <td>F</td>\n",
       "      <td>7.414472e+08</td>\n",
       "      <td>50726.70</td>\n",
       "      <td>721167.26</td>\n",
       "      <td>835382.29</td>\n",
       "      <td>802651.21</td>\n",
       "      <td>82211.52</td>\n",
       "      <td>35</td>\n",
       "      <td>351</td>\n",
       "      <td>3510</td>\n",
       "      <td>35102</td>\n",
       "      <td>UTILITIES</td>\n",
       "    </tr>\n",
       "    <tr>\n",
       "      <th>...</th>\n",
       "      <td>...</td>\n",
       "      <td>...</td>\n",
       "      <td>...</td>\n",
       "      <td>...</td>\n",
       "      <td>...</td>\n",
       "      <td>...</td>\n",
       "      <td>...</td>\n",
       "      <td>...</td>\n",
       "      <td>...</td>\n",
       "      <td>...</td>\n",
       "      <td>...</td>\n",
       "      <td>...</td>\n",
       "      <td>...</td>\n",
       "      <td>...</td>\n",
       "      <td>...</td>\n",
       "      <td>...</td>\n",
       "    </tr>\n",
       "    <tr>\n",
       "      <th>6324</th>\n",
       "      <td>2022</td>\n",
       "      <td>3024002098R</td>\n",
       "      <td>96095</td>\n",
       "      <td>9.92</td>\n",
       "      <td>L</td>\n",
       "      <td>8.406964e+08</td>\n",
       "      <td>268840.02</td>\n",
       "      <td>852967.14</td>\n",
       "      <td>294341.86</td>\n",
       "      <td>591512.53</td>\n",
       "      <td>358055.31</td>\n",
       "      <td>96</td>\n",
       "      <td>960</td>\n",
       "      <td>9609</td>\n",
       "      <td>96095</td>\n",
       "      <td>RECREATION, COMMUNITY &amp; PERSONAL SERVICES</td>\n",
       "    </tr>\n",
       "    <tr>\n",
       "      <th>6325</th>\n",
       "      <td>2022</td>\n",
       "      <td>3024002099S</td>\n",
       "      <td>96095</td>\n",
       "      <td>1.00</td>\n",
       "      <td>F</td>\n",
       "      <td>3.865047e+07</td>\n",
       "      <td>298705.07</td>\n",
       "      <td>791072.28</td>\n",
       "      <td>530044.65</td>\n",
       "      <td>122523.48</td>\n",
       "      <td>681643.70</td>\n",
       "      <td>96</td>\n",
       "      <td>960</td>\n",
       "      <td>9609</td>\n",
       "      <td>96095</td>\n",
       "      <td>RECREATION, COMMUNITY &amp; PERSONAL SERVICES</td>\n",
       "    </tr>\n",
       "    <tr>\n",
       "      <th>6326</th>\n",
       "      <td>2022</td>\n",
       "      <td>3024002100T</td>\n",
       "      <td>96095</td>\n",
       "      <td>1.00</td>\n",
       "      <td>L</td>\n",
       "      <td>2.578838e+04</td>\n",
       "      <td>95155.69</td>\n",
       "      <td>912496.64</td>\n",
       "      <td>300912.19</td>\n",
       "      <td>537851.26</td>\n",
       "      <td>591266.34</td>\n",
       "      <td>96</td>\n",
       "      <td>960</td>\n",
       "      <td>9609</td>\n",
       "      <td>96095</td>\n",
       "      <td>RECREATION, COMMUNITY &amp; PERSONAL SERVICES</td>\n",
       "    </tr>\n",
       "    <tr>\n",
       "      <th>6327</th>\n",
       "      <td>2022</td>\n",
       "      <td>3024002101U</td>\n",
       "      <td>96095</td>\n",
       "      <td>1.00</td>\n",
       "      <td>L</td>\n",
       "      <td>9.787030e+06</td>\n",
       "      <td>849115.09</td>\n",
       "      <td>336834.81</td>\n",
       "      <td>490910.50</td>\n",
       "      <td>977077.52</td>\n",
       "      <td>981245.79</td>\n",
       "      <td>96</td>\n",
       "      <td>960</td>\n",
       "      <td>9609</td>\n",
       "      <td>96095</td>\n",
       "      <td>RECREATION, COMMUNITY &amp; PERSONAL SERVICES</td>\n",
       "    </tr>\n",
       "    <tr>\n",
       "      <th>6328</th>\n",
       "      <td>2022</td>\n",
       "      <td>3024002102V</td>\n",
       "      <td>96095</td>\n",
       "      <td>1.00</td>\n",
       "      <td>L</td>\n",
       "      <td>2.746894e+07</td>\n",
       "      <td>356406.36</td>\n",
       "      <td>602628.69</td>\n",
       "      <td>432583.24</td>\n",
       "      <td>261885.49</td>\n",
       "      <td>450013.33</td>\n",
       "      <td>96</td>\n",
       "      <td>960</td>\n",
       "      <td>9609</td>\n",
       "      <td>96095</td>\n",
       "      <td>RECREATION, COMMUNITY &amp; PERSONAL SERVICES</td>\n",
       "    </tr>\n",
       "  </tbody>\n",
       "</table>\n",
       "<p>6318 rows × 16 columns</p>\n",
       "</div>"
      ],
      "text/plain": [
       "      REF_YR          UEN SSIC2020  EXP_FACT OWNERSHIP_GROUP_CD        OP_REC  \\\n",
       "0       2020  3022000001A    35101      1.00                  L  3.615949e+06   \n",
       "1       2020  3022000002B    35101      1.00                  F  8.105231e+07   \n",
       "2       2020  3022000003C    35101      1.00                  F  9.267971e+07   \n",
       "3       2020  3022000004D    35101      1.00                  F  9.611237e+07   \n",
       "4       2020  3022000005E    35102      1.00                  F  7.414472e+08   \n",
       "...      ...          ...      ...       ...                ...           ...   \n",
       "6324    2022  3024002098R    96095      9.92                  L  8.406964e+08   \n",
       "6325    2022  3024002099S    96095      1.00                  F  3.865047e+07   \n",
       "6326    2022  3024002100T    96095      1.00                  L  2.578838e+04   \n",
       "6327    2022  3024002101U    96095      1.00                  L  9.787030e+06   \n",
       "6328    2022  3024002102V    96095      1.00                  L  2.746894e+07   \n",
       "\n",
       "             OE         OS         VA        REM      DEPRE SSIC_2D SSIC_3D  \\\n",
       "0     337594.61  169200.88   56701.04   79830.52  923373.53      35     351   \n",
       "1      18004.70  436688.16  915719.87  105031.41   77296.59      35     351   \n",
       "2     459900.51  922359.04  438062.65  990781.45  629491.31      35     351   \n",
       "3     768398.51  506738.21  900523.80  147700.88  732551.81      35     351   \n",
       "4      50726.70  721167.26  835382.29  802651.21   82211.52      35     351   \n",
       "...         ...        ...        ...        ...        ...     ...     ...   \n",
       "6324  268840.02  852967.14  294341.86  591512.53  358055.31      96     960   \n",
       "6325  298705.07  791072.28  530044.65  122523.48  681643.70      96     960   \n",
       "6326   95155.69  912496.64  300912.19  537851.26  591266.34      96     960   \n",
       "6327  849115.09  336834.81  490910.50  977077.52  981245.79      96     960   \n",
       "6328  356406.36  602628.69  432583.24  261885.49  450013.33      96     960   \n",
       "\n",
       "     SSIC_4D SSIC_5D                                    CLUSTER  \n",
       "0       3510   35101                                  UTILITIES  \n",
       "1       3510   35101                                  UTILITIES  \n",
       "2       3510   35101                                  UTILITIES  \n",
       "3       3510   35101                                  UTILITIES  \n",
       "4       3510   35102                                  UTILITIES  \n",
       "...      ...     ...                                        ...  \n",
       "6324    9609   96095  RECREATION, COMMUNITY & PERSONAL SERVICES  \n",
       "6325    9609   96095  RECREATION, COMMUNITY & PERSONAL SERVICES  \n",
       "6326    9609   96095  RECREATION, COMMUNITY & PERSONAL SERVICES  \n",
       "6327    9609   96095  RECREATION, COMMUNITY & PERSONAL SERVICES  \n",
       "6328    9609   96095  RECREATION, COMMUNITY & PERSONAL SERVICES  \n",
       "\n",
       "[6318 rows x 16 columns]"
      ]
     },
     "execution_count": 33,
     "metadata": {},
     "output_type": "execute_result"
    }
   ],
   "source": [
    "# Tags each establishment/enterprise with its AES cluster label based on its SSIC 2D code\n",
    "\n",
    "ais_aes = assign_aes_clusters(ais_proc, 'estb')\n",
    "\n",
    "ais_aes"
   ]
  },
  {
   "cell_type": "code",
   "execution_count": 34,
   "id": "a920ad83-c2fe-4c01-8e3c-4b1dda7576ed",
   "metadata": {},
   "outputs": [
    {
     "name": "stdout",
     "output_type": "stream",
     "text": [
      "CLUSTER\n",
      "RECREATION, COMMUNITY & PERSONAL SERVICES    1280\n",
      "WHOLESALE TRADE                              1079\n",
      "RETAIL TRADE                                  689\n",
      "FINANCIAL & INSURANCE ACTIVITIES              630\n",
      "PROFESSIONAL SERVICES                         581\n",
      "TRANSPORTATION & STORAGE                      547\n",
      "ADMINISTRATIVE & SUPPORT SERVICES             546\n",
      "INFORMATION & COMMUNICATIONS                  487\n",
      "UTILITIES                                     164\n",
      "REAL ESTATE                                   100\n",
      "FOOD & BEVERAGE SERVICES                       84\n",
      "ACCOMMODATION                                  39\n",
      "Name: count, dtype: int64\n"
     ]
    }
   ],
   "source": [
    "counts = ais_aes['CLUSTER'].value_counts()\n",
    "print(counts)\n"
   ]
  },
  {
   "cell_type": "code",
   "execution_count": 35,
   "id": "e61a7c34",
   "metadata": {},
   "outputs": [
    {
     "data": {
      "application/vnd.microsoft.datawrangler.viewer.v0+json": {
       "columns": [
        {
         "name": "index",
         "rawType": "int64",
         "type": "integer"
        },
        {
         "name": "REF_YR",
         "rawType": "int64",
         "type": "integer"
        },
        {
         "name": "UEN",
         "rawType": "object",
         "type": "string"
        },
        {
         "name": "SSIC2020",
         "rawType": "object",
         "type": "string"
        },
        {
         "name": "EXP_FACT",
         "rawType": "float64",
         "type": "float"
        },
        {
         "name": "OWNERSHIP_GROUP_CD",
         "rawType": "object",
         "type": "string"
        },
        {
         "name": "OP_REC",
         "rawType": "float64",
         "type": "float"
        },
        {
         "name": "OE",
         "rawType": "float64",
         "type": "float"
        },
        {
         "name": "OS",
         "rawType": "float64",
         "type": "float"
        },
        {
         "name": "VA",
         "rawType": "float64",
         "type": "float"
        },
        {
         "name": "REM",
         "rawType": "float64",
         "type": "float"
        },
        {
         "name": "DEPRE",
         "rawType": "float64",
         "type": "float"
        },
        {
         "name": "SSIC_2D",
         "rawType": "object",
         "type": "string"
        },
        {
         "name": "SSIC_3D",
         "rawType": "object",
         "type": "string"
        },
        {
         "name": "SSIC_4D",
         "rawType": "object",
         "type": "string"
        },
        {
         "name": "SSIC_5D",
         "rawType": "object",
         "type": "string"
        },
        {
         "name": "CLUSTER",
         "rawType": "object",
         "type": "string"
        }
       ],
       "ref": "6730e9b3-0838-4dfc-811d-9ef7b6b6181a",
       "rows": [
        [
         "0",
         "2020",
         "3022000001A",
         "35101",
         "1.0",
         "L",
         "3615948.59",
         "337594.61",
         "169200.88",
         "56701.04",
         "79830.52",
         "923373.53",
         "35",
         "351",
         "3510",
         "35101",
         "UTILITIES"
        ],
        [
         "1",
         "2020",
         "3022000002B",
         "35101",
         "1.0",
         "F",
         "81052305.88",
         "18004.7",
         "436688.16",
         "915719.87",
         "105031.41",
         "77296.59",
         "35",
         "351",
         "3510",
         "35101",
         "UTILITIES"
        ],
        [
         "2",
         "2020",
         "3022000003C",
         "35101",
         "1.0",
         "F",
         "92679705.87",
         "459900.51",
         "922359.04",
         "438062.65",
         "990781.45",
         "629491.31",
         "35",
         "351",
         "3510",
         "35101",
         "UTILITIES"
        ],
        [
         "3",
         "2020",
         "3022000004D",
         "35101",
         "1.0",
         "F",
         "96112365.74",
         "768398.51",
         "506738.21",
         "900523.8",
         "147700.88",
         "732551.81",
         "35",
         "351",
         "3510",
         "35101",
         "UTILITIES"
        ],
        [
         "4",
         "2020",
         "3022000005E",
         "35102",
         "1.0",
         "F",
         "741447201.46",
         "50726.7",
         "721167.26",
         "835382.29",
         "802651.21",
         "82211.52",
         "35",
         "351",
         "3510",
         "35102",
         "UTILITIES"
        ]
       ],
       "shape": {
        "columns": 16,
        "rows": 5
       }
      },
      "text/html": [
       "<div>\n",
       "<style scoped>\n",
       "    .dataframe tbody tr th:only-of-type {\n",
       "        vertical-align: middle;\n",
       "    }\n",
       "\n",
       "    .dataframe tbody tr th {\n",
       "        vertical-align: top;\n",
       "    }\n",
       "\n",
       "    .dataframe thead th {\n",
       "        text-align: right;\n",
       "    }\n",
       "</style>\n",
       "<table border=\"1\" class=\"dataframe\">\n",
       "  <thead>\n",
       "    <tr style=\"text-align: right;\">\n",
       "      <th></th>\n",
       "      <th>REF_YR</th>\n",
       "      <th>UEN</th>\n",
       "      <th>SSIC2020</th>\n",
       "      <th>EXP_FACT</th>\n",
       "      <th>OWNERSHIP_GROUP_CD</th>\n",
       "      <th>OP_REC</th>\n",
       "      <th>OE</th>\n",
       "      <th>OS</th>\n",
       "      <th>VA</th>\n",
       "      <th>REM</th>\n",
       "      <th>DEPRE</th>\n",
       "      <th>SSIC_2D</th>\n",
       "      <th>SSIC_3D</th>\n",
       "      <th>SSIC_4D</th>\n",
       "      <th>SSIC_5D</th>\n",
       "      <th>CLUSTER</th>\n",
       "    </tr>\n",
       "  </thead>\n",
       "  <tbody>\n",
       "    <tr>\n",
       "      <th>0</th>\n",
       "      <td>2020</td>\n",
       "      <td>3022000001A</td>\n",
       "      <td>35101</td>\n",
       "      <td>1.0</td>\n",
       "      <td>L</td>\n",
       "      <td>3.615949e+06</td>\n",
       "      <td>337594.61</td>\n",
       "      <td>169200.88</td>\n",
       "      <td>56701.04</td>\n",
       "      <td>79830.52</td>\n",
       "      <td>923373.53</td>\n",
       "      <td>35</td>\n",
       "      <td>351</td>\n",
       "      <td>3510</td>\n",
       "      <td>35101</td>\n",
       "      <td>UTILITIES</td>\n",
       "    </tr>\n",
       "    <tr>\n",
       "      <th>1</th>\n",
       "      <td>2020</td>\n",
       "      <td>3022000002B</td>\n",
       "      <td>35101</td>\n",
       "      <td>1.0</td>\n",
       "      <td>F</td>\n",
       "      <td>8.105231e+07</td>\n",
       "      <td>18004.70</td>\n",
       "      <td>436688.16</td>\n",
       "      <td>915719.87</td>\n",
       "      <td>105031.41</td>\n",
       "      <td>77296.59</td>\n",
       "      <td>35</td>\n",
       "      <td>351</td>\n",
       "      <td>3510</td>\n",
       "      <td>35101</td>\n",
       "      <td>UTILITIES</td>\n",
       "    </tr>\n",
       "    <tr>\n",
       "      <th>2</th>\n",
       "      <td>2020</td>\n",
       "      <td>3022000003C</td>\n",
       "      <td>35101</td>\n",
       "      <td>1.0</td>\n",
       "      <td>F</td>\n",
       "      <td>9.267971e+07</td>\n",
       "      <td>459900.51</td>\n",
       "      <td>922359.04</td>\n",
       "      <td>438062.65</td>\n",
       "      <td>990781.45</td>\n",
       "      <td>629491.31</td>\n",
       "      <td>35</td>\n",
       "      <td>351</td>\n",
       "      <td>3510</td>\n",
       "      <td>35101</td>\n",
       "      <td>UTILITIES</td>\n",
       "    </tr>\n",
       "    <tr>\n",
       "      <th>3</th>\n",
       "      <td>2020</td>\n",
       "      <td>3022000004D</td>\n",
       "      <td>35101</td>\n",
       "      <td>1.0</td>\n",
       "      <td>F</td>\n",
       "      <td>9.611237e+07</td>\n",
       "      <td>768398.51</td>\n",
       "      <td>506738.21</td>\n",
       "      <td>900523.80</td>\n",
       "      <td>147700.88</td>\n",
       "      <td>732551.81</td>\n",
       "      <td>35</td>\n",
       "      <td>351</td>\n",
       "      <td>3510</td>\n",
       "      <td>35101</td>\n",
       "      <td>UTILITIES</td>\n",
       "    </tr>\n",
       "    <tr>\n",
       "      <th>4</th>\n",
       "      <td>2020</td>\n",
       "      <td>3022000005E</td>\n",
       "      <td>35102</td>\n",
       "      <td>1.0</td>\n",
       "      <td>F</td>\n",
       "      <td>7.414472e+08</td>\n",
       "      <td>50726.70</td>\n",
       "      <td>721167.26</td>\n",
       "      <td>835382.29</td>\n",
       "      <td>802651.21</td>\n",
       "      <td>82211.52</td>\n",
       "      <td>35</td>\n",
       "      <td>351</td>\n",
       "      <td>3510</td>\n",
       "      <td>35102</td>\n",
       "      <td>UTILITIES</td>\n",
       "    </tr>\n",
       "  </tbody>\n",
       "</table>\n",
       "</div>"
      ],
      "text/plain": [
       "   REF_YR          UEN SSIC2020  EXP_FACT OWNERSHIP_GROUP_CD        OP_REC  \\\n",
       "0    2020  3022000001A    35101       1.0                  L  3.615949e+06   \n",
       "1    2020  3022000002B    35101       1.0                  F  8.105231e+07   \n",
       "2    2020  3022000003C    35101       1.0                  F  9.267971e+07   \n",
       "3    2020  3022000004D    35101       1.0                  F  9.611237e+07   \n",
       "4    2020  3022000005E    35102       1.0                  F  7.414472e+08   \n",
       "\n",
       "          OE         OS         VA        REM      DEPRE SSIC_2D SSIC_3D  \\\n",
       "0  337594.61  169200.88   56701.04   79830.52  923373.53      35     351   \n",
       "1   18004.70  436688.16  915719.87  105031.41   77296.59      35     351   \n",
       "2  459900.51  922359.04  438062.65  990781.45  629491.31      35     351   \n",
       "3  768398.51  506738.21  900523.80  147700.88  732551.81      35     351   \n",
       "4   50726.70  721167.26  835382.29  802651.21   82211.52      35     351   \n",
       "\n",
       "  SSIC_4D SSIC_5D    CLUSTER  \n",
       "0    3510   35101  UTILITIES  \n",
       "1    3510   35101  UTILITIES  \n",
       "2    3510   35101  UTILITIES  \n",
       "3    3510   35101  UTILITIES  \n",
       "4    3510   35102  UTILITIES  "
      ]
     },
     "execution_count": 35,
     "metadata": {},
     "output_type": "execute_result"
    }
   ],
   "source": [
    "ais_aes.head()"
   ]
  },
  {
   "cell_type": "code",
   "execution_count": 36,
   "id": "ecc24aa6",
   "metadata": {},
   "outputs": [
    {
     "data": {
      "image/png": "[encoded data removed]",
      "text/plain": [
       "<Figure size 640x480 with 1 Axes>"
      ]
     },
     "metadata": {},
     "output_type": "display_data"
    }
   ],
   "source": [
    "import matplotlib.pyplot as plt\n",
    "\n",
    "plt.figure()\n",
    "counts.plot.bar()\n",
    "plt.title('Establishments per AES Cluster')\n",
    "plt.xlabel('AES Cluster')\n",
    "plt.ylabel('Count')\n",
    "plt.show()"
   ]
  },
  {
   "cell_type": "markdown",
   "id": "f269a3b3",
   "metadata": {},
   "source": [
    "### Closures & Factory Functions\n",
    "\n",
    "Closure: A function defined inside another that “remembers” variables from its enclosing scope even after that scope has finished.\n",
    "Why it matters: Allows to build specialized versions of a function on the fly, with state baked in.\n"
   ]
  },
  {
   "cell_type": "code",
   "execution_count": 37,
   "id": "f5d0c2a0",
   "metadata": {},
   "outputs": [
    {
     "name": "stdout",
     "output_type": "stream",
     "text": [
      "10\n",
      "15\n"
     ]
    }
   ],
   "source": [
    "def multiplier(factor):\n",
    "    \"\"\"Return a function that multiplies by ‘factor’.\"\"\"\n",
    "    def multiply(x):\n",
    "        return x * factor    # ‘factor’ is captured from the outer scope\n",
    "    return multiply\n",
    "\n",
    "doubler = multiplier(2)\n",
    "tripler = multiplier(3)\n",
    "\n",
    "print(doubler(5))  # 10\n",
    "print(tripler(5))  # 15\n"
   ]
  },
  {
   "cell_type": "markdown",
   "id": "9740f9dc",
   "metadata": {},
   "source": [
    "#### Quick Exercise: Using `generate_ssic_for_clusters` \n",
    "\n",
    "1. **Import & call**  \n",
    "   - Import `generate_ssic_for_clusters` from your `utils` module.  \n",
    "   - Call it twice: once with `'estb'`, once with `'entp'`.  \n",
    "   - Unpack each call into four variables:  \n",
    "  \n",
    "     ```python\n",
    "     SSIC_5D, SSIC_4D, SSIC_3D, SSIC_2D = generate_ssic_for_clusters('estb')\n",
    "     SSIC_5D_entp, SSIC_4D_entp, SSIC_3D_entp, SSIC_2D_entp = generate_ssic_for_clusters('entp')\n",
    "     ```\n",
    "\n",
    "2. **Inspect the results**  \n",
    "   - Print out each of the eight variables.  \n",
    "   - Briefly note how the column names differ between establishments (`estb`) and enterprises (`entp`).\n",
    "\n",
    "3. **Verify against your DataFrame**  \n",
    "   - Check that these columns actually exist in your cleaned AIS DataFrame (`ais_proc`):  \n",
    "     ```python\n",
    "     for col in [SSIC_5D, SSIC_4D, SSIC_3D, SSIC_2D]:\n",
    "         print(col, \"in ais_proc?\", col in ais_proc.columns)\n",
    "     ```\n",
    "\n",
    "4. **Apply**  \n",
    "   - Use the 2-digit SSIC column for establishments (`SSIC_2D`) to find the top 3 most common 2-digit codes:  \n",
    "     \n",
    "     ```python\n",
    "     ais_proc.groupby(SSIC_2D)['UEN'].nunique().nlargest(3)\n",
    "     print(\"Top 3 2-digit SSIC (estb):\", top3_estb)\n",
    "     ```\n",
    "   "
   ]
  },
  {
   "cell_type": "code",
   "execution_count": null,
   "id": "d7f3b5f0-c37b-4de4-a308-06a10b750cd3",
   "metadata": {},
   "outputs": [],
   "source": [
    "SSIC_5D, SSIC_4D, SSIC_3D, SSIC_2D = generate_ssic_for_clusters('estb')\n",
    "\n",
    "SSIC_5D_entp, SSIC_4D_entp, SSIC_3D_entp, SSIC_2D_entp = generate_ssic_for_clusters('entp')\n",
    "\n",
    "SSIC_5D_entp\n"
   ]
  },
  {
   "cell_type": "code",
   "execution_count": null,
   "id": "aecbf0b3-0bf7-45c8-97ba-fefb0396c0fa",
   "metadata": {},
   "outputs": [
    {
     "data": {
      "text/plain": [
       "('SSIC_5D', 'SSIC_4D', 'SSIC_3D', 'SSIC_2D')"
      ]
     },
     "execution_count": 39,
     "metadata": {},
     "output_type": "execute_result"
    }
   ],
   "source": [
    "x = generate_ssic_for_clusters('estb')\n",
    "x"
   ]
  },
  {
   "cell_type": "code",
   "execution_count": null,
   "id": "e954173f",
   "metadata": {},
   "outputs": [
    {
     "ename": "NameError",
     "evalue": "name 'SSIC_2D' is not defined",
     "output_type": "error",
     "traceback": [
      "\u001b[0;31m---------------------------------------------------------------------------\u001b[0m",
      "\u001b[0;31mNameError\u001b[0m                                 Traceback (most recent call last)",
      "Cell \u001b[0;32mIn[40], line 1\u001b[0m\n\u001b[0;32m----> 1\u001b[0m \u001b[38;5;28;01mfor\u001b[39;00m col \u001b[38;5;129;01min\u001b[39;00m [SSIC_5D, SSIC_4D, SSIC_3D, SSIC_2D]:\n\u001b[1;32m      2\u001b[0m          \u001b[38;5;28mprint\u001b[39m(col, \u001b[38;5;124m\"\u001b[39m\u001b[38;5;124min ais_proc?\u001b[39m\u001b[38;5;124m\"\u001b[39m, col \u001b[38;5;129;01min\u001b[39;00m ais_proc\u001b[38;5;241m.\u001b[39mcolumns)\n",
      "\u001b[0;31mNameError\u001b[0m: name 'SSIC_2D' is not defined"
     ]
    }
   ],
   "source": [
    "for col in [SSIC_5D, SSIC_4D, SSIC_3D, SSIC_2D]:\n",
    "         print(col, \"in ais_proc?\", col in ais_proc.columns)"
   ]
  },
  {
   "cell_type": "code",
   "execution_count": null,
   "id": "a448704d-e39f-42b0-8437-a63ec2780b56",
   "metadata": {},
   "outputs": [
    {
     "name": "stdout",
     "output_type": "stream",
     "text": [
      "Top 3 2-digit SSIC (estb): SSIC_2D\n",
      "46    1079\n",
      "47     689\n",
      "66     292\n",
      "Name: UEN, dtype: int64\n"
     ]
    }
   ],
   "source": [
    "top3_estb = ais_proc.groupby(SSIC_2D)['UEN'].nunique().nlargest(3)\n",
    "print(\"Top 3 2-digit SSIC (estb):\", top3_estb)"
   ]
  },
  {
   "cell_type": "markdown",
   "id": "9670e604",
   "metadata": {},
   "source": [
    "### Continuing on with other functions..."
   ]
  },
  {
   "cell_type": "markdown",
   "id": "bba63cb1",
   "metadata": {},
   "source": [
    "- Tag each site with “1”\n",
    "By adding a column full of 1’s, we are saying “this is one establishment.” Later you can add up those 1’s to count how many sites belong in each cluster.\n",
    "\n",
    "- Adjust each number by a weight\n",
    "Suppose each site has a number (like its employee count) and also an “exposure factor” (a weight). You multiply the two to get a new, weighted value.\n",
    "e.g. 100 employees × 0.25 exposure = 25 “effective” employees.\n",
    "\n",
    "- Group by industry cluster and sum it all up\n",
    "You feed this table into a function that:\n",
    "- Looks at each site’s industry code,\n",
    "- Assigns it to one of the predefined “ITM clusters,”\n",
    "- And then adds up all the 1’s (to get number of sites) and all the weighted values (to get total weighted employees, revenue, etc.) for each cluster."
   ]
  },
  {
   "cell_type": "code",
   "execution_count": null,
   "id": "607f8d1f",
   "metadata": {},
   "outputs": [],
   "source": [
    "# Assign ITM clusters (more granular mapping via 2/3/5-digit SSIC)\n",
    "\n",
    "# Create the EXP_* columns on ais_proc\n",
    "ais_proc['ESTAB_COUNT'] = 1\n",
    "\n",
    "for raw_var, exp_var in zip(vars_estb, exp_vars_estb):\n",
    "    ais_proc[exp_var] = ais_proc[raw_var] * ais_proc['EXP_FACT']\n",
    "\n",
    "# now pass ais_proc into assign_itm_clusters\n",
    "ais_itm = assign_itm_clusters(ais_proc, 'estb')\n"
   ]
  },
  {
   "cell_type": "code",
   "execution_count": null,
   "id": "e5b8d382",
   "metadata": {},
   "outputs": [
    {
     "data": {
      "text/html": [
       "<div>\n",
       "<style scoped>\n",
       "    .dataframe tbody tr th:only-of-type {\n",
       "        vertical-align: middle;\n",
       "    }\n",
       "\n",
       "    .dataframe tbody tr th {\n",
       "        vertical-align: top;\n",
       "    }\n",
       "\n",
       "    .dataframe thead th {\n",
       "        text-align: right;\n",
       "    }\n",
       "</style>\n",
       "<table border=\"1\" class=\"dataframe\">\n",
       "  <thead>\n",
       "    <tr style=\"text-align: right;\">\n",
       "      <th></th>\n",
       "      <th>REF_YR</th>\n",
       "      <th>UEN</th>\n",
       "      <th>SSIC2020</th>\n",
       "      <th>EXP_FACT</th>\n",
       "      <th>OWNERSHIP_GROUP_CD</th>\n",
       "      <th>OP_REC</th>\n",
       "      <th>OE</th>\n",
       "      <th>OS</th>\n",
       "      <th>VA</th>\n",
       "      <th>REM</th>\n",
       "      <th>...</th>\n",
       "      <th>SSIC_5D</th>\n",
       "      <th>ESTAB_COUNT</th>\n",
       "      <th>EXP_OP_REC</th>\n",
       "      <th>EXP_VA</th>\n",
       "      <th>EXP_OE</th>\n",
       "      <th>EXP_OS</th>\n",
       "      <th>EXP_DEPRE</th>\n",
       "      <th>EXP_REM</th>\n",
       "      <th>EXP_ESTAB_COUNT</th>\n",
       "      <th>CLUSTER</th>\n",
       "    </tr>\n",
       "  </thead>\n",
       "  <tbody>\n",
       "    <tr>\n",
       "      <th>0</th>\n",
       "      <td>2020</td>\n",
       "      <td>3022000001A</td>\n",
       "      <td>35101</td>\n",
       "      <td>1.0</td>\n",
       "      <td>L</td>\n",
       "      <td>3.615949e+06</td>\n",
       "      <td>337594.61</td>\n",
       "      <td>169200.88</td>\n",
       "      <td>56701.04</td>\n",
       "      <td>79830.52</td>\n",
       "      <td>...</td>\n",
       "      <td>35101</td>\n",
       "      <td>1</td>\n",
       "      <td>3.615949e+06</td>\n",
       "      <td>56701.04</td>\n",
       "      <td>337594.61</td>\n",
       "      <td>169200.88</td>\n",
       "      <td>923373.53</td>\n",
       "      <td>79830.52</td>\n",
       "      <td>1.0</td>\n",
       "      <td>UTILITIES</td>\n",
       "    </tr>\n",
       "    <tr>\n",
       "      <th>1</th>\n",
       "      <td>2020</td>\n",
       "      <td>3022000002B</td>\n",
       "      <td>35101</td>\n",
       "      <td>1.0</td>\n",
       "      <td>F</td>\n",
       "      <td>8.105231e+07</td>\n",
       "      <td>18004.70</td>\n",
       "      <td>436688.16</td>\n",
       "      <td>915719.87</td>\n",
       "      <td>105031.41</td>\n",
       "      <td>...</td>\n",
       "      <td>35101</td>\n",
       "      <td>1</td>\n",
       "      <td>8.105231e+07</td>\n",
       "      <td>915719.87</td>\n",
       "      <td>18004.70</td>\n",
       "      <td>436688.16</td>\n",
       "      <td>77296.59</td>\n",
       "      <td>105031.41</td>\n",
       "      <td>1.0</td>\n",
       "      <td>UTILITIES</td>\n",
       "    </tr>\n",
       "    <tr>\n",
       "      <th>2</th>\n",
       "      <td>2020</td>\n",
       "      <td>3022000003C</td>\n",
       "      <td>35101</td>\n",
       "      <td>1.0</td>\n",
       "      <td>F</td>\n",
       "      <td>9.267971e+07</td>\n",
       "      <td>459900.51</td>\n",
       "      <td>922359.04</td>\n",
       "      <td>438062.65</td>\n",
       "      <td>990781.45</td>\n",
       "      <td>...</td>\n",
       "      <td>35101</td>\n",
       "      <td>1</td>\n",
       "      <td>9.267971e+07</td>\n",
       "      <td>438062.65</td>\n",
       "      <td>459900.51</td>\n",
       "      <td>922359.04</td>\n",
       "      <td>629491.31</td>\n",
       "      <td>990781.45</td>\n",
       "      <td>1.0</td>\n",
       "      <td>UTILITIES</td>\n",
       "    </tr>\n",
       "    <tr>\n",
       "      <th>3</th>\n",
       "      <td>2020</td>\n",
       "      <td>3022000004D</td>\n",
       "      <td>35101</td>\n",
       "      <td>1.0</td>\n",
       "      <td>F</td>\n",
       "      <td>9.611237e+07</td>\n",
       "      <td>768398.51</td>\n",
       "      <td>506738.21</td>\n",
       "      <td>900523.80</td>\n",
       "      <td>147700.88</td>\n",
       "      <td>...</td>\n",
       "      <td>35101</td>\n",
       "      <td>1</td>\n",
       "      <td>9.611237e+07</td>\n",
       "      <td>900523.80</td>\n",
       "      <td>768398.51</td>\n",
       "      <td>506738.21</td>\n",
       "      <td>732551.81</td>\n",
       "      <td>147700.88</td>\n",
       "      <td>1.0</td>\n",
       "      <td>UTILITIES</td>\n",
       "    </tr>\n",
       "    <tr>\n",
       "      <th>4</th>\n",
       "      <td>2020</td>\n",
       "      <td>3022000005E</td>\n",
       "      <td>35102</td>\n",
       "      <td>1.0</td>\n",
       "      <td>F</td>\n",
       "      <td>7.414472e+08</td>\n",
       "      <td>50726.70</td>\n",
       "      <td>721167.26</td>\n",
       "      <td>835382.29</td>\n",
       "      <td>802651.21</td>\n",
       "      <td>...</td>\n",
       "      <td>35102</td>\n",
       "      <td>1</td>\n",
       "      <td>7.414472e+08</td>\n",
       "      <td>835382.29</td>\n",
       "      <td>50726.70</td>\n",
       "      <td>721167.26</td>\n",
       "      <td>82211.52</td>\n",
       "      <td>802651.21</td>\n",
       "      <td>1.0</td>\n",
       "      <td>UTILITIES</td>\n",
       "    </tr>\n",
       "  </tbody>\n",
       "</table>\n",
       "<p>5 rows × 24 columns</p>\n",
       "</div>"
      ],
      "text/plain": [
       "   REF_YR          UEN SSIC2020  EXP_FACT OWNERSHIP_GROUP_CD        OP_REC  \\\n",
       "0    2020  3022000001A    35101       1.0                  L  3.615949e+06   \n",
       "1    2020  3022000002B    35101       1.0                  F  8.105231e+07   \n",
       "2    2020  3022000003C    35101       1.0                  F  9.267971e+07   \n",
       "3    2020  3022000004D    35101       1.0                  F  9.611237e+07   \n",
       "4    2020  3022000005E    35102       1.0                  F  7.414472e+08   \n",
       "\n",
       "          OE         OS         VA        REM  ...  SSIC_5D ESTAB_COUNT  \\\n",
       "0  337594.61  169200.88   56701.04   79830.52  ...    35101           1   \n",
       "1   18004.70  436688.16  915719.87  105031.41  ...    35101           1   \n",
       "2  459900.51  922359.04  438062.65  990781.45  ...    35101           1   \n",
       "3  768398.51  506738.21  900523.80  147700.88  ...    35101           1   \n",
       "4   50726.70  721167.26  835382.29  802651.21  ...    35102           1   \n",
       "\n",
       "     EXP_OP_REC     EXP_VA     EXP_OE     EXP_OS  EXP_DEPRE    EXP_REM  \\\n",
       "0  3.615949e+06   56701.04  337594.61  169200.88  923373.53   79830.52   \n",
       "1  8.105231e+07  915719.87   18004.70  436688.16   77296.59  105031.41   \n",
       "2  9.267971e+07  438062.65  459900.51  922359.04  629491.31  990781.45   \n",
       "3  9.611237e+07  900523.80  768398.51  506738.21  732551.81  147700.88   \n",
       "4  7.414472e+08  835382.29   50726.70  721167.26   82211.52  802651.21   \n",
       "\n",
       "   EXP_ESTAB_COUNT    CLUSTER  \n",
       "0              1.0  UTILITIES  \n",
       "1              1.0  UTILITIES  \n",
       "2              1.0  UTILITIES  \n",
       "3              1.0  UTILITIES  \n",
       "4              1.0  UTILITIES  \n",
       "\n",
       "[5 rows x 24 columns]"
      ]
     },
     "execution_count": 78,
     "metadata": {},
     "output_type": "execute_result"
    }
   ],
   "source": [
    "ais_itm.head()"
   ]
  },
  {
   "cell_type": "code",
   "execution_count": null,
   "id": "831e19bb-4f6e-400f-8ebe-13e6651ca35d",
   "metadata": {},
   "outputs": [
    {
     "data": {
      "text/plain": [
       "(6318, 24)"
      ]
     },
     "execution_count": 81,
     "metadata": {},
     "output_type": "execute_result"
    }
   ],
   "source": [
    "ais_itm.shape"
   ]
  },
  {
   "cell_type": "code",
   "execution_count": null,
   "id": "93e1b486-a28f-4031-a60c-12f7f0772a2c",
   "metadata": {},
   "outputs": [
    {
     "name": "stdout",
     "output_type": "stream",
     "text": [
      "CLUSTER\n",
      "WHOLESALE TRADE                            1057\n",
      "RETAIL                                      617\n",
      "FINANCIAL SERVICES                          611\n",
      "INFORMATION AND COMMUNICATIONS              487\n",
      "PROFESSIONAL SERVICES                       399\n",
      "SEA TRANSPORT                               228\n",
      "HEALTHCARE                                  217\n",
      "LOGISTICS                                   135\n",
      "UTILITIES                                   125\n",
      "AIR TRANSPORT                               111\n",
      "EDUCATION (EARLY CHILDHOOD AND TAE ITM)     111\n",
      "FOOD SERVICES                                84\n",
      "REAL ESTATE                                  83\n",
      "LAND TRANSPORT                               64\n",
      "ENVIRONMENTAL SERVICES                       39\n",
      "HOTELS                                       28\n",
      "SECURITY                                     21\n",
      "Name: count, dtype: int64\n"
     ]
    },
    {
     "data": {
      "image/png": "[encoded data removed]",
      "text/plain": [
       "<Figure size 640x480 with 1 Axes>"
      ]
     },
     "metadata": {},
     "output_type": "display_data"
    }
   ],
   "source": [
    "counts = ais_itm['CLUSTER'].value_counts()\n",
    "print(counts)\n",
    "\n",
    "import matplotlib.pyplot as plt\n",
    "\n",
    "plt.figure()\n",
    "counts.plot.bar()\n",
    "plt.title('Establishments per ITM Cluster')\n",
    "plt.xlabel('ITM Cluster')\n",
    "plt.ylabel('Count')\n",
    "plt.show()"
   ]
  },
  {
   "cell_type": "code",
   "execution_count": null,
   "id": "f215f441",
   "metadata": {},
   "outputs": [],
   "source": [
    "# If we had enterprise-level data, we could bucket by operating receipts\n",
    "\n",
    "# function name: assign_op_rec_bands\n"
   ]
  },
  {
   "cell_type": "code",
   "execution_count": null,
   "id": "a901f455",
   "metadata": {},
   "outputs": [
    {
     "data": {
      "text/plain": [
       "(6318, 16)"
      ]
     },
     "execution_count": 93,
     "metadata": {},
     "output_type": "execute_result"
    }
   ],
   "source": [
    "# Subset to only SSICs you care about (example lists)\n",
    "ssic_2D_of_interest = ['71', '72', '74']\n",
    "ssic_3D_of_interest = []\n",
    "#ssic_5D_of_interest = ['69101', '69102', '70101', '70102']\n",
    "\n",
    "subset_2d = subset_or_print_all(ais_aes, 'SSIC_2D', ssic_3D_of_interest)\n",
    "#subset_3d = subset_or_print_all(ais_aes, 'SSIC_3D', ssic_3D_of_interest)\n",
    "#subset_5d = subset_or_print_all(ais_aes, 'SSIC_5D', ssic_5D_of_interest)\n",
    "\n",
    "subset_2d.shape"
   ]
  },
  {
   "cell_type": "code",
   "execution_count": null,
   "id": "cbe2f75d-bb0d-4358-9e79-ba9efd8b83d5",
   "metadata": {},
   "outputs": [],
   "source": [
    "ssic_2D_of_interest = ['71', '72', '74', '78']\n",
    "subset_2d = subset_or_print_all(ais_aes, 'SSIC_2D', ssic_2D_of_interest)\n",
    "\n",
    "subset_2d.shape"
   ]
  },
  {
   "cell_type": "code",
   "execution_count": null,
   "id": "022fb4cc-e362-47c8-8db0-443b1f68a129",
   "metadata": {},
   "outputs": [],
   "source": [
    "subset_3d.head()"
   ]
  },
  {
   "cell_type": "code",
   "execution_count": null,
   "id": "287c4e9e",
   "metadata": {},
   "outputs": [],
   "source": [
    "\n",
    "from utils import generate_variables\n",
    "\n",
    "# 0) After clustering but before expansion:\n",
    "ais_aes['ESTAB_COUNT'] = 1\n",
    "\n",
    "# 1) Then create all EXP_ columns:\n",
    "from utils import generate_variables\n",
    "\n",
    "vars_estb, exp_vars_estb, _ = generate_variables('estb')\n",
    "for var in vars_estb:\n",
    "    exp_var = f\"EXP_{var}\"\n",
    "    ais_aes[exp_var] = ais_aes[var] * ais_aes['EXP_FACT']\n",
    "\n"
   ]
  },
  {
   "cell_type": "code",
   "execution_count": null,
   "id": "da8cdf5f-0f45-42c2-860c-a951ec224a4c",
   "metadata": {},
   "outputs": [
    {
     "name": "stdout",
     "output_type": "stream",
     "text": [
      "Please note that values are in percentage format...\n"
     ]
    }
   ],
   "source": [
    "# Perform an N/K check on the expanded vars for AES data\n",
    "sum_dict = {col: 'sum' for col in exp_vars_estb}\n",
    "max_dict = {col: 'max' for col in exp_vars_estb}\n",
    "nk_results = nk_check(ais_aes, ['OWNERSHIP_GROUP_CD'], sum_dict, max_dict)"
   ]
  },
  {
   "cell_type": "markdown",
   "id": "5df97fda",
   "metadata": {},
   "source": [
    "### nk_function\n",
    "\n",
    "The nk_check function measures how much the largest contributor in each group dominates the total. Here’s a summary:\n",
    "\n",
    "- Grouping: The data is split into groups based on one or more columns (for example, industry cluster, ownership type, and year).\n",
    "\n",
    "N–k concentration ratio is a measure of how concentrated a quantity (like revenue, output, or assets) is among the k largest entities in a group of N. You compute it by:\n",
    "\n",
    "- Ordering all entities by size (e.g., revenue) within each group.\n",
    "\n",
    "- Summing the top k largest values.\n",
    "\n",
    "- Dividing that sum by the total of all entities’ values in the group.\n",
    "\n",
    "- Multiplying by 100 to express it as a percentage.\n",
    "\n",
    "A high percentage (e.g. above 90%) indicates that a single firm contributes almost all of that group’s total, signaling potential dominance or disclosure concerns."
   ]
  },
  {
   "cell_type": "markdown",
   "id": "5f3ce4db",
   "metadata": {},
   "source": [
    "Why it’s useful:\n",
    "Regulators or statisticians often require that no single firm contributes more than 90% of an industry total—otherwise the data could be “disclosive.” This check flags any group where one firm almost entirely dominates the metric you care about."
   ]
  },
  {
   "cell_type": "code",
   "execution_count": null,
   "id": "2f581581-582a-4458-a23f-aeda147fdf52",
   "metadata": {},
   "outputs": [
    {
     "name": "stdout",
     "output_type": "stream",
     "text": [
      "\n",
      "N/K check results:\n"
     ]
    },
    {
     "data": {
      "text/html": [
       "<div>\n",
       "<style scoped>\n",
       "    .dataframe tbody tr th:only-of-type {\n",
       "        vertical-align: middle;\n",
       "    }\n",
       "\n",
       "    .dataframe tbody tr th {\n",
       "        vertical-align: top;\n",
       "    }\n",
       "\n",
       "    .dataframe thead th {\n",
       "        text-align: right;\n",
       "    }\n",
       "</style>\n",
       "<table border=\"1\" class=\"dataframe\">\n",
       "  <thead>\n",
       "    <tr style=\"text-align: right;\">\n",
       "      <th></th>\n",
       "      <th>OWNERSHIP_GROUP_CD</th>\n",
       "      <th>EXP_OP_REC</th>\n",
       "      <th>EXP_VA</th>\n",
       "      <th>EXP_OE</th>\n",
       "      <th>EXP_OS</th>\n",
       "      <th>EXP_DEPRE</th>\n",
       "      <th>EXP_REM</th>\n",
       "      <th>EXP_ESTAB_COUNT</th>\n",
       "    </tr>\n",
       "  </thead>\n",
       "  <tbody>\n",
       "    <tr>\n",
       "      <th>0</th>\n",
       "      <td>F</td>\n",
       "      <td>3.152299</td>\n",
       "      <td>0.534475</td>\n",
       "      <td>0.514438</td>\n",
       "      <td>0.531531</td>\n",
       "      <td>0.516939</td>\n",
       "      <td>0.511737</td>\n",
       "      <td>0.272998</td>\n",
       "    </tr>\n",
       "    <tr>\n",
       "      <th>1</th>\n",
       "      <td>L</td>\n",
       "      <td>1.586327</td>\n",
       "      <td>0.226840</td>\n",
       "      <td>0.230229</td>\n",
       "      <td>0.225511</td>\n",
       "      <td>0.228297</td>\n",
       "      <td>0.226556</td>\n",
       "      <td>0.119236</td>\n",
       "    </tr>\n",
       "  </tbody>\n",
       "</table>\n",
       "</div>"
      ],
      "text/plain": [
       "  OWNERSHIP_GROUP_CD  EXP_OP_REC    EXP_VA    EXP_OE    EXP_OS  EXP_DEPRE  \\\n",
       "0                  F    3.152299  0.534475  0.514438  0.531531   0.516939   \n",
       "1                  L    1.586327  0.226840  0.230229  0.225511   0.228297   \n",
       "\n",
       "    EXP_REM  EXP_ESTAB_COUNT  \n",
       "0  0.511737         0.272998  \n",
       "1  0.226556         0.119236  "
      ]
     },
     "execution_count": 108,
     "metadata": {},
     "output_type": "execute_result"
    }
   ],
   "source": [
    "print(\"\\nN/K check results:\")\n",
    "nk_results\n"
   ]
  },
  {
   "cell_type": "code",
   "execution_count": null,
   "id": "d196eaca",
   "metadata": {},
   "outputs": [
    {
     "name": "stdout",
     "output_type": "stream",
     "text": [
      "\n",
      "N/K check results:\n",
      "                              CLUSTER  EXP_OP_REC     EXP_VA     EXP_OE  \\\n",
      "0                       ACCOMMODATION   44.484125  18.392361  15.375930   \n",
      "6                         REAL ESTATE   40.588472   7.872368   6.854562   \n",
      "3            FOOD & BEVERAGE SERVICES   38.967318   9.034041   7.471138   \n",
      "10                          UTILITIES   21.195752   4.699764   5.302487   \n",
      "9            TRANSPORTATION & STORAGE   12.580360   1.736982   1.746150   \n",
      "1   ADMINISTRATIVE & SUPPORT SERVICES    8.883529   1.688614   1.674436   \n",
      "5               PROFESSIONAL SERVICES    7.737278   1.806754   1.566637   \n",
      "8                        RETAIL TRADE    7.671035   1.295505   1.292009   \n",
      "2    FINANCIAL & INSURANCE ACTIVITIES    7.344510   1.393816   1.549595   \n",
      "11                    WHOLESALE TRADE    6.448049   0.867740   0.937255   \n",
      "\n",
      "       EXP_OS  EXP_DEPRE    EXP_REM  EXP_ESTAB_COUNT  \n",
      "0   14.299050  14.144066  17.463427         9.221635  \n",
      "6    6.961652   7.280640   7.708867         4.622004  \n",
      "3    9.012852   8.842363   8.632208         5.265955  \n",
      "10   6.329196   6.038381   5.873723         3.371605  \n",
      "9    1.882688   1.635244   1.707733         0.945160  \n",
      "1    1.770014   1.847167   1.697269         0.982411  \n",
      "5    1.727617   1.644448   1.676761         0.906673  \n",
      "8    1.319436   1.400806   1.393584         0.744567  \n",
      "2    1.440673   1.447517   1.429874         0.827137  \n",
      "11   0.972175   0.972389   0.935862         0.499119  \n"
     ]
    }
   ],
   "source": [
    "# 10) Inspect\n",
    "\n",
    "print(\"\\nN/K check results:\")\n",
    "nk_results\n",
    "\n",
    "sorted_results = nk_results.sort_values(\n",
    "    by=\"EXP_OP_REC\",\n",
    "    ascending=False\n",
    ")\n",
    "\n",
    "# To see the top 10 rows:\n",
    "top10 = sorted_results.head(10)\n",
    "print(top10)\n",
    "\n"
   ]
  },
  {
   "cell_type": "code",
   "execution_count": null,
   "id": "7c51075d-accb-4806-82c8-8a27f67888a0",
   "metadata": {},
   "outputs": [
    {
     "data": {
      "image/png": "[encoded data removed]",
      "text/plain": [
       "<Figure size 620x680 with 2 Axes>"
      ]
     },
     "metadata": {},
     "output_type": "display_data"
    }
   ],
   "source": [
    "import pandas as pd\n",
    "import matplotlib.pyplot as plt\n",
    "import numpy as np\n",
    "\n",
    "\n",
    "# Separate labels and heat‑map data\n",
    "clusters = nk_results['CLUSTER'].astype(str)\n",
    "value_cols = [c for c in nk_results.columns if c != 'CLUSTER']\n",
    "heat_data = nk_results[value_cols].to_numpy()\n",
    "\n",
    "# Create a single heat‑map figure\n",
    "plt.figure(figsize=(len(value_cols) * 0.6 + 2, len(clusters) * 0.4 + 2))\n",
    "\n",
    "img = plt.imshow(heat_data, aspect='auto')  # default colormap\n",
    "\n",
    "# Axis labels\n",
    "plt.xticks(ticks=np.arange(len(value_cols)), labels=value_cols, rotation = 90, ha='right')\n",
    "plt.yticks(ticks=np.arange(len(clusters)), labels=clusters)\n",
    "\n",
    "plt.title(\"N/K Check: % contribution of largest firm (max / sum × 100)\")\n",
    "plt.xlabel(\"Expanded variables\")\n",
    "plt.ylabel(\"Cluster\")\n",
    "\n",
    "# Color‑bar with a 90% reference line\n",
    "cbar = plt.colorbar(img, fraction=0.046, pad=0.04)\n",
    "cbar.set_label('% of total contributed by single firm')\n",
    "# Draw a horizontal reference line on the colorbar at 90%\n",
    "cbar.ax.hlines(90, *cbar.ax.get_xlim(), linestyle='dashed')\n",
    "\n",
    "plt.tight_layout()\n",
    "plt.show()"
   ]
  },
  {
   "cell_type": "markdown",
   "id": "f01d37ac",
   "metadata": {},
   "source": [
    "## Pipeline: Putting it all together"
   ]
  },
  {
   "cell_type": "code",
   "execution_count": null,
   "id": "09ce5dc1",
   "metadata": {},
   "outputs": [
    {
     "name": "stdout",
     "output_type": "stream",
     "text": [
      "Please note that values are in percentage format...\n",
      "Pipeline completed successfully. Establishments: 6318\n",
      "N/K concentration results:\n",
      "  OWNERSHIP_GROUP_CD  EXP_OP_REC    EXP_VA    EXP_OE    EXP_OS  EXP_DEPRE  \\\n",
      "0                  F    3.152299  0.534475  0.514438  0.531531   0.516939   \n",
      "1                  L    1.586327  0.226840  0.230229  0.225511   0.228297   \n",
      "\n",
      "    EXP_REM  EXP_ESTAB_COUNT  \n",
      "0  0.511737         0.272998  \n",
      "1  0.226556         0.119236  \n",
      "Please note that values are in percentage format...\n",
      "Pipeline completed successfully. Rows: 2\n"
     ]
    }
   ],
   "source": [
    "import os\n",
    "\n",
    "class PipelineError(Exception):\n",
    "    \"\"\"Custom exception for pipeline errors\"\"\"\n",
    "    pass\n",
    "\n",
    "def run_estab_pipeline(filepath: str, sheet_name: str = 'AIS'):\n",
    "    \"\"\"\n",
    "    Executes the establishment-level pipeline using existing utility functions:\n",
    "      1) Load AIS establishment data\n",
    "      2) Process SSIC-derived columns\n",
    "      3) Generate variable lists for establishments\n",
    "      4) Create ESTAB_COUNT and EXP_* columns\n",
    "      5) Assign ITM clusters\n",
    "      6) Perform N/K concentration check\n",
    "\n",
    "    Returns:\n",
    "        df: pd.DataFrame of clustered establishments\n",
    "        nk_df: pd.DataFrame of N/K check results\n",
    "\n",
    "    Raises PipelineError on any failure.\n",
    "    \"\"\"\n",
    "    # 1) Load data\n",
    "    if not os.path.exists(filepath):\n",
    "        raise PipelineError(f\"File not found: {filepath}\")\n",
    "    try:\n",
    "        df = pd.read_excel(filepath, sheet_name=sheet_name, dtype={SSIC: str})\n",
    "    except Exception as e:\n",
    "        raise PipelineError(f\"Error loading sheet '{sheet_name}': {e}\")\n",
    "\n",
    "    # 2) Process SSIC columns\n",
    "    try:\n",
    "        df = process_ais_estabs(df)\n",
    "    except Exception as e:\n",
    "        raise PipelineError(f\"Error in process_ais_estabs: {e}\")\n",
    "\n",
    "    # 3) Generate variable lists for establishment level\n",
    "    try:\n",
    "        raw_vars, exp_vars, _ = generate_variables('estb')\n",
    "    except Exception as e:\n",
    "        raise PipelineError(f\"Error generating variables: {e}\")\n",
    "\n",
    "    # 4) Add ESTAB_COUNT and EXP_* columns\n",
    "    if 'EXP_FACT' not in df.columns:\n",
    "        raise PipelineError(\"Missing 'EXP_FACT' column for expansion\")\n",
    "    df['ESTAB_COUNT'] = 1\n",
    "    for raw_var, exp_var in zip(raw_vars, exp_vars):\n",
    "        if raw_var not in df.columns:\n",
    "            raise PipelineError(f\"Missing raw variable column: {raw_var}\")\n",
    "        df[exp_var] = df[raw_var] * df['EXP_FACT']\n",
    "\n",
    "    # 5) Assign ITM clusters\n",
    "    try:\n",
    "        df = assign_itm_clusters(df, 'estb')\n",
    "    except Exception as e:\n",
    "        raise PipelineError(f\"Error in assign_itm_clusters: {e}\")\n",
    "\n",
    "    # 6) N/K concentration check\n",
    "    custom_grouping = ['OWNERSHIP_GROUP_CD']\n",
    "    generated_columns_sum = {col: 'sum' for col in exp_vars}\n",
    "    generated_columns_max = {col: 'max' for col in exp_vars}\n",
    "    try:\n",
    "        nk_df = nk_check(df, custom_grouping, generated_columns_sum, generated_columns_max)\n",
    "    except Exception as e:\n",
    "        raise PipelineError(f\"Error in nk_check: {e}\")\n",
    "\n",
    "    return df, nk_df\n",
    "\n",
    "\n",
    "df, nk_df = run_estab_pipeline('../data/bsd_dummy.xlsx')\n",
    "print(\"Pipeline completed successfully. Establishments:\", len(df))\n",
    "print(\"N/K concentration results:\")\n",
    "print(nk_df)\n",
    "\n",
    "\n",
    "result = run_estab_pipeline('../data/bsd_dummy.xlsx')\n",
    "print(\"Pipeline completed successfully. Rows:\", len(result))\n"
   ]
  },
  {
   "cell_type": "markdown",
   "id": "41f2f90a",
   "metadata": {},
   "source": [
    "### Decorators"
   ]
  },
  {
   "cell_type": "code",
   "execution_count": null,
   "id": "e1265cdc",
   "metadata": {},
   "outputs": [],
   "source": [
    "import time\n",
    "from functools import wraps\n",
    "\n",
    "def timer(func):\n",
    "    \"\"\"\n",
    "    Decorator that prints the execution time of the wrapped function.\n",
    "    \"\"\"\n",
    "    @wraps(func)\n",
    "    def wrapper(*args, **kwargs):\n",
    "        start = time.perf_counter()\n",
    "        result = func(*args, **kwargs)\n",
    "        elapsed = time.perf_counter() - start\n",
    "        print(f\"{func.__name__} executed in {elapsed:.3f}s\")\n",
    "        return result\n",
    "    return wrapper"
   ]
  },
  {
   "cell_type": "code",
   "execution_count": null,
   "id": "3db270c0",
   "metadata": {},
   "outputs": [],
   "source": [
    "import os\n",
    "\n",
    "@timer\n",
    "def run_estab_pipeline(filepath: str, sheet_name: str = 'AIS'):\n",
    "    \"\"\"\n",
    "    Executes the establishment-level pipeline using existing utility functions:\n",
    "      1) Load AIS establishment data\n",
    "      2) Process SSIC-derived columns\n",
    "      3) Generate variable lists for establishments\n",
    "      4) Create ESTAB_COUNT and EXP_* columns\n",
    "      5) Assign ITM clusters\n",
    "      6) Perform N/K concentration check\n",
    "\n",
    "    Returns:\n",
    "        df: pd.DataFrame of clustered establishments\n",
    "        nk_df: pd.DataFrame of N/K check results\n",
    "\n",
    "    Raises PipelineError on any failure.\n",
    "    \"\"\"\n",
    "    # 1) Load data\n",
    "    if not os.path.exists(filepath):\n",
    "        raise PipelineError(f\"File not found: {filepath}\")\n",
    "    try:\n",
    "        df = pd.read_excel(filepath, sheet_name=sheet_name, dtype={SSIC: str})\n",
    "    except Exception as e:\n",
    "        raise PipelineError(f\"Error loading sheet '{sheet_name}': {e}\")\n",
    "\n",
    "    # 2) Process SSIC columns\n",
    "    try:\n",
    "        df = process_ais_estabs(df)\n",
    "    except Exception as e:\n",
    "        raise PipelineError(f\"Error in process_ais_estabs: {e}\")\n",
    "\n",
    "    # 3) Generate variable lists for establishment level\n",
    "    try:\n",
    "        raw_vars, exp_vars, _ = generate_variables('estb')\n",
    "    except Exception as e:\n",
    "        raise PipelineError(f\"Error generating variables: {e}\")\n",
    "\n",
    "    # 4) Add ESTAB_COUNT and EXP_* columns\n",
    "    if 'EXP_FACT' not in df.columns:\n",
    "        raise PipelineError(\"Missing 'EXP_FACT' column for expansion\")\n",
    "    df['ESTAB_COUNT'] = 1\n",
    "    for raw_var, exp_var in zip(raw_vars, exp_vars):\n",
    "        if raw_var not in df.columns:\n",
    "            raise PipelineError(f\"Missing raw variable column: {raw_var}\")\n",
    "        df[exp_var] = df[raw_var] * df['EXP_FACT']\n",
    "\n",
    "    # 5) Assign ITM clusters\n",
    "    try:\n",
    "        df = assign_itm_clusters(df, 'estb')\n",
    "    except Exception as e:\n",
    "        raise PipelineError(f\"Error in assign_itm_clusters: {e}\")\n",
    "\n",
    "    # 6) N/K concentration check\n",
    "    custom_grouping = ['CLUSTER', 'OWNERSHIP_GROUP_CD', 'REF_YR']\n",
    "    generated_columns_sum = {col: 'sum' for col in exp_vars}\n",
    "    generated_columns_max = {col: 'max' for col in exp_vars}\n",
    "    try:\n",
    "        nk_df = nk_check(df, custom_grouping, generated_columns_sum, generated_columns_max)\n",
    "    except Exception as e:\n",
    "        raise PipelineError(f\"Error in nk_check: {e}\")\n",
    "\n",
    "    return df, nk_df\n",
    "\n",
    "\n",
    "df, nk_df = run_estab_pipeline('../data/bsd_dummy.xlsx')\n",
    "print(\"Pipeline completed successfully. Establishments:\", len(df))\n",
    "print(\"N/K concentration results:\")\n",
    "print(nk_df.head())\n"
   ]
  }
 ],
 "metadata": {
  "kernelspec": {
   "display_name": "Python 3",
   "language": "python",
   "name": "python3"
  },
  "language_info": {
   "codemirror_mode": {
    "name": "ipython",
    "version": 3
   },
   "file_extension": ".py",
   "mimetype": "text/x-python",
   "name": "python",
   "nbconvert_exporter": "python",
   "pygments_lexer": "ipython3",
   "version": "3.12.5"
  }
 },
 "nbformat": 4,
 "nbformat_minor": 5
}
